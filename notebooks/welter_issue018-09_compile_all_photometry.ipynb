{
 "cells": [
  {
   "cell_type": "markdown",
   "metadata": {},
   "source": [
    "# Welter\n",
    "\n",
    "\n",
    "Updated July 25, 2016\n",
    "\n",
    "## Compile all the photometry into a single master file.\n",
    "Include all UBVRI data and uncertainties.\n"
   ]
  },
  {
   "cell_type": "code",
   "execution_count": 1,
   "metadata": {
    "collapsed": false
   },
   "outputs": [],
   "source": [
    "import warnings\n",
    "warnings.filterwarnings(\"ignore\")\n",
    "import numpy as np\n",
    "from astropy.io import fits\n",
    "import matplotlib.pyplot as plt"
   ]
  },
  {
   "cell_type": "code",
   "execution_count": 2,
   "metadata": {
    "collapsed": true
   },
   "outputs": [],
   "source": [
    "% matplotlib inline\n",
    "% config InlineBackend.figure_format = 'retina'\n",
    "import seaborn as sns\n",
    "sns.set_context('paper', font_scale=1.4)\n",
    "sns.set_style('ticks')"
   ]
  },
  {
   "cell_type": "code",
   "execution_count": 3,
   "metadata": {
    "collapsed": true
   },
   "outputs": [],
   "source": [
    "import pandas as pd"
   ]
  },
  {
   "cell_type": "markdown",
   "metadata": {},
   "source": [
    "## Grankin et al. 2008  Data"
   ]
  },
  {
   "cell_type": "markdown",
   "metadata": {},
   "source": [
    "Assign uncertainty in $V$ for the Grankin data.\n",
    "From Grankin et al. 2008: \n",
    "> The rms error of a single measurement in the instrumental system for a star brighter than 12 mag in $V$ is about 0.01 in $BVR$ and 0.05 in $U$."
   ]
  },
  {
   "cell_type": "code",
   "execution_count": 4,
   "metadata": {
    "collapsed": false
   },
   "outputs": [],
   "source": [
    "gr_data = pd.read_csv('../data/photometry/LkCa4_grankin.dat')"
   ]
  },
  {
   "cell_type": "code",
   "execution_count": 5,
   "metadata": {
    "collapsed": true
   },
   "outputs": [],
   "source": [
    "gr_data['Bmag']=gr_data['B_V']+gr_data['Vmag']\n",
    "gr_data['Rmag']=gr_data['Vmag']-gr_data['V_R']\n",
    "gr_data['Umag']=gr_data['U_B']+gr_data['Bmag']"
   ]
  },
  {
   "cell_type": "code",
   "execution_count": 6,
   "metadata": {
    "collapsed": true
   },
   "outputs": [],
   "source": [
    "gr_data['Berr']=0.01\n",
    "gr_data['Verr']=0.01\n",
    "gr_data['Rerr']=0.01\n",
    "gr_data['Uerr']=0.05"
   ]
  },
  {
   "cell_type": "code",
   "execution_count": 7,
   "metadata": {
    "collapsed": true
   },
   "outputs": [],
   "source": [
    "gr_data['date_type'], gr_data['source'], gr_data['n_obs'] = 'HJD', 'Grankin et al. 2008', 1.0\n",
    "\n",
    "gr_data = gr_data.rename(columns={\"HJD\":\"JD_like\"})"
   ]
  },
  {
   "cell_type": "code",
   "execution_count": 8,
   "metadata": {
    "collapsed": true
   },
   "outputs": [],
   "source": [
    "gr_data.drop(['U_B', 'B_V', 'V_R'], axis=1, inplace=True)"
   ]
  },
  {
   "cell_type": "code",
   "execution_count": 9,
   "metadata": {
    "collapsed": false
   },
   "outputs": [
    {
     "data": {
      "text/html": [
       "<div>\n",
       "<table border=\"1\" class=\"dataframe\">\n",
       "  <thead>\n",
       "    <tr style=\"text-align: right;\">\n",
       "      <th></th>\n",
       "      <th>JD_like</th>\n",
       "      <th>Vmag</th>\n",
       "      <th>Bmag</th>\n",
       "      <th>Rmag</th>\n",
       "      <th>Umag</th>\n",
       "      <th>Berr</th>\n",
       "      <th>Verr</th>\n",
       "      <th>Rerr</th>\n",
       "      <th>Uerr</th>\n",
       "      <th>date_type</th>\n",
       "      <th>source</th>\n",
       "      <th>n_obs</th>\n",
       "    </tr>\n",
       "  </thead>\n",
       "  <tbody>\n",
       "    <tr>\n",
       "      <th>0</th>\n",
       "      <td>2.448858e+06</td>\n",
       "      <td>12.613</td>\n",
       "      <td>14.054</td>\n",
       "      <td>NaN</td>\n",
       "      <td>NaN</td>\n",
       "      <td>0.01</td>\n",
       "      <td>0.01</td>\n",
       "      <td>0.01</td>\n",
       "      <td>0.05</td>\n",
       "      <td>HJD</td>\n",
       "      <td>Grankin et al. 2008</td>\n",
       "      <td>1.0</td>\n",
       "    </tr>\n",
       "    <tr>\n",
       "      <th>1</th>\n",
       "      <td>2.448859e+06</td>\n",
       "      <td>12.336</td>\n",
       "      <td>13.736</td>\n",
       "      <td>NaN</td>\n",
       "      <td>NaN</td>\n",
       "      <td>0.01</td>\n",
       "      <td>0.01</td>\n",
       "      <td>0.01</td>\n",
       "      <td>0.05</td>\n",
       "      <td>HJD</td>\n",
       "      <td>Grankin et al. 2008</td>\n",
       "      <td>1.0</td>\n",
       "    </tr>\n",
       "    <tr>\n",
       "      <th>2</th>\n",
       "      <td>2.448860e+06</td>\n",
       "      <td>12.702</td>\n",
       "      <td>14.183</td>\n",
       "      <td>NaN</td>\n",
       "      <td>NaN</td>\n",
       "      <td>0.01</td>\n",
       "      <td>0.01</td>\n",
       "      <td>0.01</td>\n",
       "      <td>0.05</td>\n",
       "      <td>HJD</td>\n",
       "      <td>Grankin et al. 2008</td>\n",
       "      <td>1.0</td>\n",
       "    </tr>\n",
       "    <tr>\n",
       "      <th>3</th>\n",
       "      <td>2.448861e+06</td>\n",
       "      <td>12.696</td>\n",
       "      <td>14.114</td>\n",
       "      <td>NaN</td>\n",
       "      <td>NaN</td>\n",
       "      <td>0.01</td>\n",
       "      <td>0.01</td>\n",
       "      <td>0.01</td>\n",
       "      <td>0.05</td>\n",
       "      <td>HJD</td>\n",
       "      <td>Grankin et al. 2008</td>\n",
       "      <td>1.0</td>\n",
       "    </tr>\n",
       "    <tr>\n",
       "      <th>4</th>\n",
       "      <td>2.448862e+06</td>\n",
       "      <td>12.334</td>\n",
       "      <td>13.743</td>\n",
       "      <td>NaN</td>\n",
       "      <td>NaN</td>\n",
       "      <td>0.01</td>\n",
       "      <td>0.01</td>\n",
       "      <td>0.01</td>\n",
       "      <td>0.05</td>\n",
       "      <td>HJD</td>\n",
       "      <td>Grankin et al. 2008</td>\n",
       "      <td>1.0</td>\n",
       "    </tr>\n",
       "  </tbody>\n",
       "</table>\n",
       "</div>"
      ],
      "text/plain": [
       "        JD_like    Vmag    Bmag  Rmag  Umag  Berr  Verr  Rerr  Uerr date_type  \\\n",
       "0  2.448858e+06  12.613  14.054   NaN   NaN  0.01  0.01  0.01  0.05       HJD   \n",
       "1  2.448859e+06  12.336  13.736   NaN   NaN  0.01  0.01  0.01  0.05       HJD   \n",
       "2  2.448860e+06  12.702  14.183   NaN   NaN  0.01  0.01  0.01  0.05       HJD   \n",
       "3  2.448861e+06  12.696  14.114   NaN   NaN  0.01  0.01  0.01  0.05       HJD   \n",
       "4  2.448862e+06  12.334  13.743   NaN   NaN  0.01  0.01  0.01  0.05       HJD   \n",
       "\n",
       "                source  n_obs  \n",
       "0  Grankin et al. 2008    1.0  \n",
       "1  Grankin et al. 2008    1.0  \n",
       "2  Grankin et al. 2008    1.0  \n",
       "3  Grankin et al. 2008    1.0  \n",
       "4  Grankin et al. 2008    1.0  "
      ]
     },
     "execution_count": 9,
     "metadata": {},
     "output_type": "execute_result"
    }
   ],
   "source": [
    "gr_data.head()"
   ]
  },
  {
   "cell_type": "markdown",
   "metadata": {},
   "source": [
    "## Use Aggregated ASASSN Data"
   ]
  },
  {
   "cell_type": "code",
   "execution_count": 10,
   "metadata": {
    "collapsed": false
   },
   "outputs": [],
   "source": [
    "fn = '../data/photometry/LkCa4_ASASSN_aggregated.dat'\n",
    "dat = pd.read_csv(fn)"
   ]
  },
  {
   "cell_type": "code",
   "execution_count": 11,
   "metadata": {
    "collapsed": true
   },
   "outputs": [],
   "source": [
    "dat['date_type'], dat['source'] = 'JD', 'ASASSN'\n",
    "dat = dat.rename(columns={\"mean_mag\":\"Vmag\", \"stddev\":\"Verr\", \"JD\":\"JD_like\"})"
   ]
  },
  {
   "cell_type": "code",
   "execution_count": 12,
   "metadata": {
    "collapsed": false
   },
   "outputs": [
    {
     "data": {
      "text/html": [
       "<div>\n",
       "<table border=\"1\" class=\"dataframe\">\n",
       "  <thead>\n",
       "    <tr style=\"text-align: right;\">\n",
       "      <th></th>\n",
       "      <th>JD_like</th>\n",
       "      <th>Vmag</th>\n",
       "      <th>Verr</th>\n",
       "      <th>n_obs</th>\n",
       "      <th>date_type</th>\n",
       "      <th>source</th>\n",
       "    </tr>\n",
       "  </thead>\n",
       "  <tbody>\n",
       "    <tr>\n",
       "      <th>0</th>\n",
       "      <td>2.455947e+06</td>\n",
       "      <td>12.84</td>\n",
       "      <td>0.01</td>\n",
       "      <td>1.0</td>\n",
       "      <td>JD</td>\n",
       "      <td>ASASSN</td>\n",
       "    </tr>\n",
       "    <tr>\n",
       "      <th>1</th>\n",
       "      <td>2.455947e+06</td>\n",
       "      <td>12.75</td>\n",
       "      <td>0.01</td>\n",
       "      <td>1.0</td>\n",
       "      <td>JD</td>\n",
       "      <td>ASASSN</td>\n",
       "    </tr>\n",
       "    <tr>\n",
       "      <th>2</th>\n",
       "      <td>2.455951e+06</td>\n",
       "      <td>12.65</td>\n",
       "      <td>0.01</td>\n",
       "      <td>1.0</td>\n",
       "      <td>JD</td>\n",
       "      <td>ASASSN</td>\n",
       "    </tr>\n",
       "    <tr>\n",
       "      <th>3</th>\n",
       "      <td>2.455951e+06</td>\n",
       "      <td>12.64</td>\n",
       "      <td>0.01</td>\n",
       "      <td>1.0</td>\n",
       "      <td>JD</td>\n",
       "      <td>ASASSN</td>\n",
       "    </tr>\n",
       "    <tr>\n",
       "      <th>4</th>\n",
       "      <td>2.455953e+06</td>\n",
       "      <td>13.04</td>\n",
       "      <td>0.01</td>\n",
       "      <td>2.0</td>\n",
       "      <td>JD</td>\n",
       "      <td>ASASSN</td>\n",
       "    </tr>\n",
       "  </tbody>\n",
       "</table>\n",
       "</div>"
      ],
      "text/plain": [
       "        JD_like   Vmag  Verr  n_obs date_type  source\n",
       "0  2.455947e+06  12.84  0.01    1.0        JD  ASASSN\n",
       "1  2.455947e+06  12.75  0.01    1.0        JD  ASASSN\n",
       "2  2.455951e+06  12.65  0.01    1.0        JD  ASASSN\n",
       "3  2.455951e+06  12.64  0.01    1.0        JD  ASASSN\n",
       "4  2.455953e+06  13.04  0.01    2.0        JD  ASASSN"
      ]
     },
     "execution_count": 12,
     "metadata": {},
     "output_type": "execute_result"
    }
   ],
   "source": [
    "dat.head()"
   ]
  },
  {
   "cell_type": "markdown",
   "metadata": {},
   "source": [
    "## Bonus Grankin data from 2013"
   ]
  },
  {
   "cell_type": "code",
   "execution_count": 13,
   "metadata": {
    "collapsed": false
   },
   "outputs": [],
   "source": [
    "gr_bonus = pd.read_csv('../data/photometry/LkCa4_2013_grankin_bonus.dat', delim_whitespace=True)"
   ]
  },
  {
   "cell_type": "code",
   "execution_count": 14,
   "metadata": {
    "collapsed": true
   },
   "outputs": [],
   "source": [
    "gr_bonus['HJD'] = gr_bonus['HJD+2456000'] + 2456000.0"
   ]
  },
  {
   "cell_type": "code",
   "execution_count": 15,
   "metadata": {
    "collapsed": true
   },
   "outputs": [],
   "source": [
    "gr_bonus['date_type'], gr_bonus['source'], gr_bonus['n_obs'] = 'HJD', 'Donati et al. 2014', 1.0"
   ]
  },
  {
   "cell_type": "code",
   "execution_count": 16,
   "metadata": {
    "collapsed": true
   },
   "outputs": [],
   "source": [
    "gr_bonus['Verr'] = 0.01\n",
    "gr_bonus = gr_bonus.\\\n",
    "    rename(columns={\"V_mag\":\"Vmag\", \"HJD\":\"JD_like\"}).\\\n",
    "    drop(['HJD+2456000'], axis=1)"
   ]
  },
  {
   "cell_type": "code",
   "execution_count": 17,
   "metadata": {
    "collapsed": false
   },
   "outputs": [
    {
     "data": {
      "text/html": [
       "<div>\n",
       "<table border=\"1\" class=\"dataframe\">\n",
       "  <thead>\n",
       "    <tr style=\"text-align: right;\">\n",
       "      <th></th>\n",
       "      <th>Vmag</th>\n",
       "      <th>JD_like</th>\n",
       "      <th>date_type</th>\n",
       "      <th>source</th>\n",
       "      <th>n_obs</th>\n",
       "      <th>Verr</th>\n",
       "    </tr>\n",
       "  </thead>\n",
       "  <tbody>\n",
       "    <tr>\n",
       "      <th>0</th>\n",
       "      <td>12.780</td>\n",
       "      <td>2.456538e+06</td>\n",
       "      <td>HJD</td>\n",
       "      <td>Donati et al. 2014</td>\n",
       "      <td>1.0</td>\n",
       "      <td>0.01</td>\n",
       "    </tr>\n",
       "    <tr>\n",
       "      <th>1</th>\n",
       "      <td>12.819</td>\n",
       "      <td>2.456548e+06</td>\n",
       "      <td>HJD</td>\n",
       "      <td>Donati et al. 2014</td>\n",
       "      <td>1.0</td>\n",
       "      <td>0.01</td>\n",
       "    </tr>\n",
       "    <tr>\n",
       "      <th>2</th>\n",
       "      <td>12.942</td>\n",
       "      <td>2.456578e+06</td>\n",
       "      <td>HJD</td>\n",
       "      <td>Donati et al. 2014</td>\n",
       "      <td>1.0</td>\n",
       "      <td>0.01</td>\n",
       "    </tr>\n",
       "    <tr>\n",
       "      <th>3</th>\n",
       "      <td>12.821</td>\n",
       "      <td>2.456594e+06</td>\n",
       "      <td>HJD</td>\n",
       "      <td>Donati et al. 2014</td>\n",
       "      <td>1.0</td>\n",
       "      <td>0.01</td>\n",
       "    </tr>\n",
       "    <tr>\n",
       "      <th>4</th>\n",
       "      <td>12.699</td>\n",
       "      <td>2.456596e+06</td>\n",
       "      <td>HJD</td>\n",
       "      <td>Donati et al. 2014</td>\n",
       "      <td>1.0</td>\n",
       "      <td>0.01</td>\n",
       "    </tr>\n",
       "  </tbody>\n",
       "</table>\n",
       "</div>"
      ],
      "text/plain": [
       "     Vmag       JD_like date_type              source  n_obs  Verr\n",
       "0  12.780  2.456538e+06       HJD  Donati et al. 2014    1.0  0.01\n",
       "1  12.819  2.456548e+06       HJD  Donati et al. 2014    1.0  0.01\n",
       "2  12.942  2.456578e+06       HJD  Donati et al. 2014    1.0  0.01\n",
       "3  12.821  2.456594e+06       HJD  Donati et al. 2014    1.0  0.01\n",
       "4  12.699  2.456596e+06       HJD  Donati et al. 2014    1.0  0.01"
      ]
     },
     "execution_count": 17,
     "metadata": {},
     "output_type": "execute_result"
    }
   ],
   "source": [
    "gr_bonus.head()"
   ]
  },
  {
   "cell_type": "markdown",
   "metadata": {},
   "source": [
    "**This is missing the $B$ and $R$ data, see Table 2 of Donati 2014**"
   ]
  },
  {
   "cell_type": "markdown",
   "metadata": {},
   "source": [
    "## Integral OMC"
   ]
  },
  {
   "cell_type": "code",
   "execution_count": 18,
   "metadata": {
    "collapsed": false
   },
   "outputs": [],
   "source": [
    "omc = pd.read_csv('../data/photometry/LkCa4_Integral_OMC.csv')"
   ]
  },
  {
   "cell_type": "code",
   "execution_count": 19,
   "metadata": {
    "collapsed": false
   },
   "outputs": [],
   "source": [
    "omc['date_type'] = 'HJD'\n",
    "omc['source'] = 'Integral-OMC'\n",
    "omc.rename(columns={'HJD':'JD_like'}, inplace=True)"
   ]
  },
  {
   "cell_type": "code",
   "execution_count": 20,
   "metadata": {
    "collapsed": false
   },
   "outputs": [
    {
     "data": {
      "text/html": [
       "<div>\n",
       "<table border=\"1\" class=\"dataframe\">\n",
       "  <thead>\n",
       "    <tr style=\"text-align: right;\">\n",
       "      <th></th>\n",
       "      <th>JD_like</th>\n",
       "      <th>Vmag</th>\n",
       "      <th>Verr</th>\n",
       "      <th>date_type</th>\n",
       "      <th>source</th>\n",
       "    </tr>\n",
       "  </thead>\n",
       "  <tbody>\n",
       "    <tr>\n",
       "      <th>0</th>\n",
       "      <td>2.453949e+06</td>\n",
       "      <td>13.007421</td>\n",
       "      <td>0.029357</td>\n",
       "      <td>HJD</td>\n",
       "      <td>Integral-OMC</td>\n",
       "    </tr>\n",
       "    <tr>\n",
       "      <th>1</th>\n",
       "      <td>2.453949e+06</td>\n",
       "      <td>13.036949</td>\n",
       "      <td>0.030502</td>\n",
       "      <td>HJD</td>\n",
       "      <td>Integral-OMC</td>\n",
       "    </tr>\n",
       "    <tr>\n",
       "      <th>2</th>\n",
       "      <td>2.453949e+06</td>\n",
       "      <td>13.053765</td>\n",
       "      <td>0.032617</td>\n",
       "      <td>HJD</td>\n",
       "      <td>Integral-OMC</td>\n",
       "    </tr>\n",
       "    <tr>\n",
       "      <th>3</th>\n",
       "      <td>2.453949e+06</td>\n",
       "      <td>13.032140</td>\n",
       "      <td>0.030567</td>\n",
       "      <td>HJD</td>\n",
       "      <td>Integral-OMC</td>\n",
       "    </tr>\n",
       "    <tr>\n",
       "      <th>4</th>\n",
       "      <td>2.453949e+06</td>\n",
       "      <td>12.923807</td>\n",
       "      <td>0.034285</td>\n",
       "      <td>HJD</td>\n",
       "      <td>Integral-OMC</td>\n",
       "    </tr>\n",
       "  </tbody>\n",
       "</table>\n",
       "</div>"
      ],
      "text/plain": [
       "        JD_like       Vmag      Verr date_type        source\n",
       "0  2.453949e+06  13.007421  0.029357       HJD  Integral-OMC\n",
       "1  2.453949e+06  13.036949  0.030502       HJD  Integral-OMC\n",
       "2  2.453949e+06  13.053765  0.032617       HJD  Integral-OMC\n",
       "3  2.453949e+06  13.032140  0.030567       HJD  Integral-OMC\n",
       "4  2.453949e+06  12.923807  0.034285       HJD  Integral-OMC"
      ]
     },
     "execution_count": 20,
     "metadata": {},
     "output_type": "execute_result"
    }
   ],
   "source": [
    "omc.head()"
   ]
  },
  {
   "cell_type": "markdown",
   "metadata": {},
   "source": [
    "## Herbst and Shevchenko 1999\n",
    "(Really the data is from Vrba et al. 1993 and Bouvier et al. 1993.)"
   ]
  },
  {
   "cell_type": "code",
   "execution_count": 21,
   "metadata": {
    "collapsed": true
   },
   "outputs": [],
   "source": [
    "hs99 = pd.read_csv('../data/photometry/LkCa4_herbst99.dat')"
   ]
  },
  {
   "cell_type": "code",
   "execution_count": 22,
   "metadata": {
    "collapsed": false
   },
   "outputs": [],
   "source": [
    "hs99.drop(['U-B','B-V','V-R','R-I', 'Note', 'Ref'], axis=1, inplace=True)"
   ]
  },
  {
   "cell_type": "code",
   "execution_count": 23,
   "metadata": {
    "collapsed": false
   },
   "outputs": [],
   "source": [
    "hs99['Verr'], hs99['Berr'], hs99['Rerr'], hs99['Ierr'],hs99['Uerr'] = 0.01,0.01,0.01,0.01,0.05"
   ]
  },
  {
   "cell_type": "code",
   "execution_count": 24,
   "metadata": {
    "collapsed": false
   },
   "outputs": [],
   "source": [
    "hs99['date_type'] = 'JD'\n",
    "hs99.rename(columns={'JD':'JD_like'}, inplace=True)"
   ]
  },
  {
   "cell_type": "code",
   "execution_count": 25,
   "metadata": {
    "collapsed": false
   },
   "outputs": [
    {
     "data": {
      "text/html": [
       "<div>\n",
       "<table border=\"1\" class=\"dataframe\">\n",
       "  <thead>\n",
       "    <tr style=\"text-align: right;\">\n",
       "      <th></th>\n",
       "      <th>JD_like</th>\n",
       "      <th>Vmag</th>\n",
       "      <th>Bmag</th>\n",
       "      <th>Rmag</th>\n",
       "      <th>Imag</th>\n",
       "      <th>Umag</th>\n",
       "      <th>source</th>\n",
       "      <th>Verr</th>\n",
       "      <th>Berr</th>\n",
       "      <th>Rerr</th>\n",
       "      <th>Ierr</th>\n",
       "      <th>Uerr</th>\n",
       "      <th>date_type</th>\n",
       "    </tr>\n",
       "  </thead>\n",
       "  <tbody>\n",
       "    <tr>\n",
       "      <th>0</th>\n",
       "      <td>2446357.450</td>\n",
       "      <td>12.67</td>\n",
       "      <td>14.12</td>\n",
       "      <td>11.71</td>\n",
       "      <td>10.70</td>\n",
       "      <td>15.32</td>\n",
       "      <td>Vrba et al. 1993</td>\n",
       "      <td>0.01</td>\n",
       "      <td>0.01</td>\n",
       "      <td>0.01</td>\n",
       "      <td>0.01</td>\n",
       "      <td>0.05</td>\n",
       "      <td>JD</td>\n",
       "    </tr>\n",
       "    <tr>\n",
       "      <th>1</th>\n",
       "      <td>2446358.808</td>\n",
       "      <td>12.47</td>\n",
       "      <td>13.94</td>\n",
       "      <td>11.55</td>\n",
       "      <td>10.56</td>\n",
       "      <td>15.15</td>\n",
       "      <td>Vrba et al. 1993</td>\n",
       "      <td>0.01</td>\n",
       "      <td>0.01</td>\n",
       "      <td>0.01</td>\n",
       "      <td>0.01</td>\n",
       "      <td>0.05</td>\n",
       "      <td>JD</td>\n",
       "    </tr>\n",
       "    <tr>\n",
       "      <th>2</th>\n",
       "      <td>2446359.001</td>\n",
       "      <td>12.49</td>\n",
       "      <td>13.97</td>\n",
       "      <td>11.57</td>\n",
       "      <td>10.58</td>\n",
       "      <td>15.18</td>\n",
       "      <td>Vrba et al. 1993</td>\n",
       "      <td>0.01</td>\n",
       "      <td>0.01</td>\n",
       "      <td>0.01</td>\n",
       "      <td>0.01</td>\n",
       "      <td>0.05</td>\n",
       "      <td>JD</td>\n",
       "    </tr>\n",
       "    <tr>\n",
       "      <th>3</th>\n",
       "      <td>2446361.961</td>\n",
       "      <td>12.46</td>\n",
       "      <td>13.92</td>\n",
       "      <td>11.53</td>\n",
       "      <td>10.53</td>\n",
       "      <td>15.11</td>\n",
       "      <td>Vrba et al. 1993</td>\n",
       "      <td>0.01</td>\n",
       "      <td>0.01</td>\n",
       "      <td>0.01</td>\n",
       "      <td>0.01</td>\n",
       "      <td>0.05</td>\n",
       "      <td>JD</td>\n",
       "    </tr>\n",
       "    <tr>\n",
       "      <th>4</th>\n",
       "      <td>2446362.763</td>\n",
       "      <td>12.56</td>\n",
       "      <td>14.03</td>\n",
       "      <td>11.64</td>\n",
       "      <td>10.66</td>\n",
       "      <td>15.31</td>\n",
       "      <td>Vrba et al. 1993</td>\n",
       "      <td>0.01</td>\n",
       "      <td>0.01</td>\n",
       "      <td>0.01</td>\n",
       "      <td>0.01</td>\n",
       "      <td>0.05</td>\n",
       "      <td>JD</td>\n",
       "    </tr>\n",
       "  </tbody>\n",
       "</table>\n",
       "</div>"
      ],
      "text/plain": [
       "       JD_like   Vmag   Bmag   Rmag   Imag   Umag            source  Verr  \\\n",
       "0  2446357.450  12.67  14.12  11.71  10.70  15.32  Vrba et al. 1993  0.01   \n",
       "1  2446358.808  12.47  13.94  11.55  10.56  15.15  Vrba et al. 1993  0.01   \n",
       "2  2446359.001  12.49  13.97  11.57  10.58  15.18  Vrba et al. 1993  0.01   \n",
       "3  2446361.961  12.46  13.92  11.53  10.53  15.11  Vrba et al. 1993  0.01   \n",
       "4  2446362.763  12.56  14.03  11.64  10.66  15.31  Vrba et al. 1993  0.01   \n",
       "\n",
       "   Berr  Rerr  Ierr  Uerr date_type  \n",
       "0  0.01  0.01  0.01  0.05        JD  \n",
       "1  0.01  0.01  0.01  0.05        JD  \n",
       "2  0.01  0.01  0.01  0.05        JD  \n",
       "3  0.01  0.01  0.01  0.05        JD  \n",
       "4  0.01  0.01  0.01  0.05        JD  "
      ]
     },
     "execution_count": 25,
     "metadata": {},
     "output_type": "execute_result"
    }
   ],
   "source": [
    "hs99.head()"
   ]
  },
  {
   "cell_type": "markdown",
   "metadata": {},
   "source": [
    "## ASAS3"
   ]
  },
  {
   "cell_type": "code",
   "execution_count": 26,
   "metadata": {
    "collapsed": true
   },
   "outputs": [],
   "source": [
    "as3 = pd.read_csv('../data/photometry/LkCa4_asas3.csv')"
   ]
  },
  {
   "cell_type": "code",
   "execution_count": 27,
   "metadata": {
    "collapsed": false
   },
   "outputs": [
    {
     "data": {
      "text/html": [
       "<div>\n",
       "<table border=\"1\" class=\"dataframe\">\n",
       "  <thead>\n",
       "    <tr style=\"text-align: right;\">\n",
       "      <th></th>\n",
       "      <th>JD_like</th>\n",
       "      <th>date_type</th>\n",
       "      <th>Vmag</th>\n",
       "      <th>Verr</th>\n",
       "      <th>source</th>\n",
       "    </tr>\n",
       "  </thead>\n",
       "  <tbody>\n",
       "    <tr>\n",
       "      <th>0</th>\n",
       "      <td>2.452661e+06</td>\n",
       "      <td>HJD</td>\n",
       "      <td>13.019</td>\n",
       "      <td>0.054</td>\n",
       "      <td>ASAS3</td>\n",
       "    </tr>\n",
       "    <tr>\n",
       "      <th>1</th>\n",
       "      <td>2.452878e+06</td>\n",
       "      <td>HJD</td>\n",
       "      <td>13.049</td>\n",
       "      <td>0.037</td>\n",
       "      <td>ASAS3</td>\n",
       "    </tr>\n",
       "    <tr>\n",
       "      <th>2</th>\n",
       "      <td>2.452916e+06</td>\n",
       "      <td>HJD</td>\n",
       "      <td>12.881</td>\n",
       "      <td>0.034</td>\n",
       "      <td>ASAS3</td>\n",
       "    </tr>\n",
       "    <tr>\n",
       "      <th>3</th>\n",
       "      <td>2.452934e+06</td>\n",
       "      <td>HJD</td>\n",
       "      <td>13.068</td>\n",
       "      <td>0.029</td>\n",
       "      <td>ASAS3</td>\n",
       "    </tr>\n",
       "    <tr>\n",
       "      <th>4</th>\n",
       "      <td>2.452946e+06</td>\n",
       "      <td>HJD</td>\n",
       "      <td>12.645</td>\n",
       "      <td>0.038</td>\n",
       "      <td>ASAS3</td>\n",
       "    </tr>\n",
       "  </tbody>\n",
       "</table>\n",
       "</div>"
      ],
      "text/plain": [
       "        JD_like date_type    Vmag   Verr source\n",
       "0  2.452661e+06       HJD  13.019  0.054  ASAS3\n",
       "1  2.452878e+06       HJD  13.049  0.037  ASAS3\n",
       "2  2.452916e+06       HJD  12.881  0.034  ASAS3\n",
       "3  2.452934e+06       HJD  13.068  0.029  ASAS3\n",
       "4  2.452946e+06       HJD  12.645  0.038  ASAS3"
      ]
     },
     "execution_count": 27,
     "metadata": {},
     "output_type": "execute_result"
    }
   ],
   "source": [
    "as3.head()"
   ]
  },
  {
   "cell_type": "markdown",
   "metadata": {},
   "source": [
    "## AAVSO"
   ]
  },
  {
   "cell_type": "code",
   "execution_count": 28,
   "metadata": {
    "collapsed": false
   },
   "outputs": [],
   "source": [
    "names = ['JD_like', 'Bmag', 'Imag','Rmag','Vmag','Berr', 'Ierr', 'Rerr', 'Verr']"
   ]
  },
  {
   "cell_type": "code",
   "execution_count": 29,
   "metadata": {
    "collapsed": true
   },
   "outputs": [],
   "source": [
    "aav = pd.read_csv('../data/photometry/LkCa4_aavso.csv', skiprows=[0,1,2], names=names)"
   ]
  },
  {
   "cell_type": "code",
   "execution_count": 30,
   "metadata": {
    "collapsed": true
   },
   "outputs": [],
   "source": [
    "aav['date_type'] = 'JD'\n",
    "aav['source'] = 'AAVSO'"
   ]
  },
  {
   "cell_type": "code",
   "execution_count": 31,
   "metadata": {
    "collapsed": false
   },
   "outputs": [
    {
     "data": {
      "text/html": [
       "<div>\n",
       "<table border=\"1\" class=\"dataframe\">\n",
       "  <thead>\n",
       "    <tr style=\"text-align: right;\">\n",
       "      <th></th>\n",
       "      <th>JD_like</th>\n",
       "      <th>Bmag</th>\n",
       "      <th>Imag</th>\n",
       "      <th>Rmag</th>\n",
       "      <th>Vmag</th>\n",
       "      <th>Berr</th>\n",
       "      <th>Ierr</th>\n",
       "      <th>Rerr</th>\n",
       "      <th>Verr</th>\n",
       "      <th>date_type</th>\n",
       "      <th>source</th>\n",
       "    </tr>\n",
       "  </thead>\n",
       "  <tbody>\n",
       "    <tr>\n",
       "      <th>0</th>\n",
       "      <td>2.456651e+06</td>\n",
       "      <td>14.285</td>\n",
       "      <td>NaN</td>\n",
       "      <td>NaN</td>\n",
       "      <td>NaN</td>\n",
       "      <td>0.021</td>\n",
       "      <td>NaN</td>\n",
       "      <td>NaN</td>\n",
       "      <td>NaN</td>\n",
       "      <td>JD</td>\n",
       "      <td>AAVSO</td>\n",
       "    </tr>\n",
       "    <tr>\n",
       "      <th>1</th>\n",
       "      <td>2.456651e+06</td>\n",
       "      <td>NaN</td>\n",
       "      <td>NaN</td>\n",
       "      <td>NaN</td>\n",
       "      <td>12.648</td>\n",
       "      <td>NaN</td>\n",
       "      <td>NaN</td>\n",
       "      <td>NaN</td>\n",
       "      <td>0.009</td>\n",
       "      <td>JD</td>\n",
       "      <td>AAVSO</td>\n",
       "    </tr>\n",
       "    <tr>\n",
       "      <th>2</th>\n",
       "      <td>2.456651e+06</td>\n",
       "      <td>NaN</td>\n",
       "      <td>NaN</td>\n",
       "      <td>11.608</td>\n",
       "      <td>NaN</td>\n",
       "      <td>NaN</td>\n",
       "      <td>NaN</td>\n",
       "      <td>0.006</td>\n",
       "      <td>NaN</td>\n",
       "      <td>JD</td>\n",
       "      <td>AAVSO</td>\n",
       "    </tr>\n",
       "    <tr>\n",
       "      <th>3</th>\n",
       "      <td>2.456651e+06</td>\n",
       "      <td>NaN</td>\n",
       "      <td>10.549</td>\n",
       "      <td>NaN</td>\n",
       "      <td>NaN</td>\n",
       "      <td>NaN</td>\n",
       "      <td>0.007</td>\n",
       "      <td>NaN</td>\n",
       "      <td>NaN</td>\n",
       "      <td>JD</td>\n",
       "      <td>AAVSO</td>\n",
       "    </tr>\n",
       "    <tr>\n",
       "      <th>4</th>\n",
       "      <td>2.456651e+06</td>\n",
       "      <td>NaN</td>\n",
       "      <td>NaN</td>\n",
       "      <td>NaN</td>\n",
       "      <td>13.090</td>\n",
       "      <td>NaN</td>\n",
       "      <td>NaN</td>\n",
       "      <td>NaN</td>\n",
       "      <td>0.010</td>\n",
       "      <td>JD</td>\n",
       "      <td>AAVSO</td>\n",
       "    </tr>\n",
       "  </tbody>\n",
       "</table>\n",
       "</div>"
      ],
      "text/plain": [
       "        JD_like    Bmag    Imag    Rmag    Vmag   Berr   Ierr   Rerr   Verr  \\\n",
       "0  2.456651e+06  14.285     NaN     NaN     NaN  0.021    NaN    NaN    NaN   \n",
       "1  2.456651e+06     NaN     NaN     NaN  12.648    NaN    NaN    NaN  0.009   \n",
       "2  2.456651e+06     NaN     NaN  11.608     NaN    NaN    NaN  0.006    NaN   \n",
       "3  2.456651e+06     NaN  10.549     NaN     NaN    NaN  0.007    NaN    NaN   \n",
       "4  2.456651e+06     NaN     NaN     NaN  13.090    NaN    NaN    NaN  0.010   \n",
       "\n",
       "  date_type source  \n",
       "0        JD  AAVSO  \n",
       "1        JD  AAVSO  \n",
       "2        JD  AAVSO  \n",
       "3        JD  AAVSO  \n",
       "4        JD  AAVSO  "
      ]
     },
     "execution_count": 31,
     "metadata": {},
     "output_type": "execute_result"
    }
   ],
   "source": [
    "aav.head()"
   ]
  },
  {
   "cell_type": "markdown",
   "metadata": {},
   "source": [
    "## Concatenate all photometry into a \"database\""
   ]
  },
  {
   "cell_type": "code",
   "execution_count": 32,
   "metadata": {
    "collapsed": true
   },
   "outputs": [],
   "source": [
    "master = pd.concat([dat, gr_data, gr_bonus, omc, hs99, as3, aav], join='outer', ignore_index=True, axis=0)"
   ]
  },
  {
   "cell_type": "code",
   "execution_count": 33,
   "metadata": {
    "collapsed": false
   },
   "outputs": [
    {
     "data": {
      "text/html": [
       "<div>\n",
       "<table border=\"1\" class=\"dataframe\">\n",
       "  <thead>\n",
       "    <tr style=\"text-align: right;\">\n",
       "      <th></th>\n",
       "      <th>Berr</th>\n",
       "      <th>Bmag</th>\n",
       "      <th>Ierr</th>\n",
       "      <th>Imag</th>\n",
       "      <th>JD_like</th>\n",
       "      <th>Rerr</th>\n",
       "      <th>Rmag</th>\n",
       "      <th>Uerr</th>\n",
       "      <th>Umag</th>\n",
       "      <th>Verr</th>\n",
       "      <th>Vmag</th>\n",
       "      <th>date_type</th>\n",
       "      <th>n_obs</th>\n",
       "      <th>source</th>\n",
       "    </tr>\n",
       "  </thead>\n",
       "  <tbody>\n",
       "    <tr>\n",
       "      <th>0</th>\n",
       "      <td>NaN</td>\n",
       "      <td>NaN</td>\n",
       "      <td>NaN</td>\n",
       "      <td>NaN</td>\n",
       "      <td>2.455947e+06</td>\n",
       "      <td>NaN</td>\n",
       "      <td>NaN</td>\n",
       "      <td>NaN</td>\n",
       "      <td>NaN</td>\n",
       "      <td>0.01</td>\n",
       "      <td>12.84</td>\n",
       "      <td>JD</td>\n",
       "      <td>1.0</td>\n",
       "      <td>ASASSN</td>\n",
       "    </tr>\n",
       "    <tr>\n",
       "      <th>1</th>\n",
       "      <td>NaN</td>\n",
       "      <td>NaN</td>\n",
       "      <td>NaN</td>\n",
       "      <td>NaN</td>\n",
       "      <td>2.455947e+06</td>\n",
       "      <td>NaN</td>\n",
       "      <td>NaN</td>\n",
       "      <td>NaN</td>\n",
       "      <td>NaN</td>\n",
       "      <td>0.01</td>\n",
       "      <td>12.75</td>\n",
       "      <td>JD</td>\n",
       "      <td>1.0</td>\n",
       "      <td>ASASSN</td>\n",
       "    </tr>\n",
       "    <tr>\n",
       "      <th>2</th>\n",
       "      <td>NaN</td>\n",
       "      <td>NaN</td>\n",
       "      <td>NaN</td>\n",
       "      <td>NaN</td>\n",
       "      <td>2.455951e+06</td>\n",
       "      <td>NaN</td>\n",
       "      <td>NaN</td>\n",
       "      <td>NaN</td>\n",
       "      <td>NaN</td>\n",
       "      <td>0.01</td>\n",
       "      <td>12.65</td>\n",
       "      <td>JD</td>\n",
       "      <td>1.0</td>\n",
       "      <td>ASASSN</td>\n",
       "    </tr>\n",
       "    <tr>\n",
       "      <th>3</th>\n",
       "      <td>NaN</td>\n",
       "      <td>NaN</td>\n",
       "      <td>NaN</td>\n",
       "      <td>NaN</td>\n",
       "      <td>2.455951e+06</td>\n",
       "      <td>NaN</td>\n",
       "      <td>NaN</td>\n",
       "      <td>NaN</td>\n",
       "      <td>NaN</td>\n",
       "      <td>0.01</td>\n",
       "      <td>12.64</td>\n",
       "      <td>JD</td>\n",
       "      <td>1.0</td>\n",
       "      <td>ASASSN</td>\n",
       "    </tr>\n",
       "    <tr>\n",
       "      <th>4</th>\n",
       "      <td>NaN</td>\n",
       "      <td>NaN</td>\n",
       "      <td>NaN</td>\n",
       "      <td>NaN</td>\n",
       "      <td>2.455953e+06</td>\n",
       "      <td>NaN</td>\n",
       "      <td>NaN</td>\n",
       "      <td>NaN</td>\n",
       "      <td>NaN</td>\n",
       "      <td>0.01</td>\n",
       "      <td>13.04</td>\n",
       "      <td>JD</td>\n",
       "      <td>2.0</td>\n",
       "      <td>ASASSN</td>\n",
       "    </tr>\n",
       "  </tbody>\n",
       "</table>\n",
       "</div>"
      ],
      "text/plain": [
       "   Berr  Bmag  Ierr  Imag       JD_like  Rerr  Rmag  Uerr  Umag  Verr   Vmag  \\\n",
       "0   NaN   NaN   NaN   NaN  2.455947e+06   NaN   NaN   NaN   NaN  0.01  12.84   \n",
       "1   NaN   NaN   NaN   NaN  2.455947e+06   NaN   NaN   NaN   NaN  0.01  12.75   \n",
       "2   NaN   NaN   NaN   NaN  2.455951e+06   NaN   NaN   NaN   NaN  0.01  12.65   \n",
       "3   NaN   NaN   NaN   NaN  2.455951e+06   NaN   NaN   NaN   NaN  0.01  12.64   \n",
       "4   NaN   NaN   NaN   NaN  2.455953e+06   NaN   NaN   NaN   NaN  0.01  13.04   \n",
       "\n",
       "  date_type  n_obs  source  \n",
       "0        JD    1.0  ASASSN  \n",
       "1        JD    1.0  ASASSN  \n",
       "2        JD    1.0  ASASSN  \n",
       "3        JD    1.0  ASASSN  \n",
       "4        JD    2.0  ASASSN  "
      ]
     },
     "execution_count": 33,
     "metadata": {},
     "output_type": "execute_result"
    }
   ],
   "source": [
    "master.head()"
   ]
  },
  {
   "cell_type": "markdown",
   "metadata": {},
   "source": [
    "## Convert Julian Dates to year, month, day"
   ]
  },
  {
   "cell_type": "markdown",
   "metadata": {},
   "source": [
    "From JiffyClub's [gist](https://gist.github.com/jiffyclub/1294443):"
   ]
  },
  {
   "cell_type": "code",
   "execution_count": 34,
   "metadata": {
    "collapsed": true
   },
   "outputs": [],
   "source": [
    "import math\n",
    "import datetime as dt"
   ]
  },
  {
   "cell_type": "code",
   "execution_count": 35,
   "metadata": {
    "collapsed": true
   },
   "outputs": [],
   "source": [
    "@np.vectorize\n",
    "def jd_to_date(jd):\n",
    "    \"\"\"\n",
    "    Convert Julian Day to date.\n",
    "    \n",
    "    Algorithm from 'Practical Astronomy with your Calculator or Spreadsheet', \n",
    "        4th ed., Duffet-Smith and Zwart, 2011.\n",
    "    \n",
    "    Parameters\n",
    "    ----------\n",
    "    jd : float\n",
    "        Julian Day\n",
    "        \n",
    "    Returns\n",
    "    -------\n",
    "    year : int\n",
    "        Year as integer. Years preceding 1 A.D. should be 0 or negative.\n",
    "        The year before 1 A.D. is 0, 10 B.C. is year -9.\n",
    "        \n",
    "    month : int\n",
    "        Month as integer, Jan = 1, Feb. = 2, etc.\n",
    "    \n",
    "    day : float\n",
    "        Day, may contain fractional part.\n",
    "        \n",
    "    Examples\n",
    "    --------\n",
    "    Convert Julian Day 2446113.75 to year, month, and day.\n",
    "    \n",
    "    >>> jd_to_date(2446113.75)\n",
    "    (1985, 2, 17.25)\n",
    "    \n",
    "    \"\"\"\n",
    "    jd = jd + 0.5\n",
    "    \n",
    "    F, I = math.modf(jd)\n",
    "    I = int(I)\n",
    "    \n",
    "    A = math.trunc((I - 1867216.25)/36524.25)\n",
    "    \n",
    "    if I > 2299160:\n",
    "        B = I + 1 + A - math.trunc(A / 4.)\n",
    "    else:\n",
    "        B = I\n",
    "        \n",
    "    C = B + 1524\n",
    "    \n",
    "    D = math.trunc((C - 122.1) / 365.25)\n",
    "    \n",
    "    E = math.trunc(365.25 * D)\n",
    "    \n",
    "    G = math.trunc((C - E) / 30.6001)\n",
    "    \n",
    "    day = C - E + F - math.trunc(30.6001 * G)\n",
    "    \n",
    "    if G < 13.5:\n",
    "        month = G - 1\n",
    "    else:\n",
    "        month = G - 13\n",
    "        \n",
    "    if month > 2.5:\n",
    "        year = D - 4716\n",
    "    else:\n",
    "        year = D - 4715\n",
    "        \n",
    "    return year, month, day\n",
    "    "
   ]
  },
  {
   "cell_type": "code",
   "execution_count": 36,
   "metadata": {
    "collapsed": false
   },
   "outputs": [],
   "source": [
    "master['year'], master['month'], master['day'] = jd_to_date(master.JD_like.values)"
   ]
  },
  {
   "cell_type": "markdown",
   "metadata": {},
   "source": [
    "# Break the observations into **seasons**\n",
    "Seasons are divided by their observability (can't observe towards the sun!):"
   ]
  },
  {
   "cell_type": "code",
   "execution_count": 37,
   "metadata": {
    "collapsed": false
   },
   "outputs": [],
   "source": [
    "#sns.distplot(dat.month, rug=True, bins=np.arange(0,12,1))"
   ]
  },
  {
   "cell_type": "code",
   "execution_count": 38,
   "metadata": {
    "collapsed": false
   },
   "outputs": [],
   "source": [
    "#sns.distplot(gr_data.month, rug=True, bins=np.arange(0,12,1))"
   ]
  },
  {
   "cell_type": "markdown",
   "metadata": {},
   "source": [
    "May is the dividing line (makes sense, the sun is in Taurus in May... e.g. my birthday is May 6th and I am a Taurus)."
   ]
  },
  {
   "cell_type": "code",
   "execution_count": 39,
   "metadata": {
    "collapsed": true
   },
   "outputs": [],
   "source": [
    "def assign_season(df):\n",
    "    '''takes in a dataFrame possessing year and month, appends a season column.\n",
    "    '''\n",
    "    df['season'] = df.year - 1985\n",
    "    next_ids = df.month > 5\n",
    "    df.season[next_ids] += 1\n",
    "    return df"
   ]
  },
  {
   "cell_type": "code",
   "execution_count": 40,
   "metadata": {
    "collapsed": false
   },
   "outputs": [],
   "source": [
    "master = assign_season(master)"
   ]
  },
  {
   "cell_type": "code",
   "execution_count": 41,
   "metadata": {
    "collapsed": false
   },
   "outputs": [],
   "source": [
    "master = master[['JD_like', 'year', 'month', 'day', 'season', \n",
    "                'Vmag', 'Verr', 'Bmag', 'Berr', 'Rmag', 'Rerr', 'Umag', 'Uerr',\n",
    "                 'source', 'date_type']]"
   ]
  },
  {
   "cell_type": "markdown",
   "metadata": {},
   "source": [
    "Make sure uncertainties are NaN if mag is NaN."
   ]
  },
  {
   "cell_type": "code",
   "execution_count": 48,
   "metadata": {
    "collapsed": true
   },
   "outputs": [],
   "source": [
    "master.Verr[master.Vmag != master.Vmag] = np.NaN\n",
    "master.Rerr[master.Rmag != master.Rmag] = np.NaN\n",
    "master.Berr[master.Bmag != master.Bmag] = np.NaN\n",
    "master.Uerr[master.Umag != master.Umag] = np.NaN"
   ]
  },
  {
   "cell_type": "code",
   "execution_count": 49,
   "metadata": {
    "collapsed": false
   },
   "outputs": [
    {
     "data": {
      "text/plain": [
       "array(['ASASSN', 'Grankin et al. 2008', 'Donati et al. 2014',\n",
       "       'Integral-OMC', 'Vrba et al. 1993', 'Bouvier et al. 1993', 'ASAS3',\n",
       "       'AAVSO'], dtype=object)"
      ]
     },
     "execution_count": 49,
     "metadata": {},
     "output_type": "execute_result"
    }
   ],
   "source": [
    "master.source.unique()"
   ]
  },
  {
   "cell_type": "code",
   "execution_count": 75,
   "metadata": {
    "collapsed": true
   },
   "outputs": [],
   "source": [
    "#this_source = 'Grankin et al. 2008'\n",
    "this_source = 'Vrba et al. 1993'\n",
    "this_source = 'AAVSO'"
   ]
  },
  {
   "cell_type": "code",
   "execution_count": 77,
   "metadata": {
    "collapsed": false
   },
   "outputs": [
    {
     "data": {
      "text/plain": [
       "count     431.000000\n",
       "mean     2014.067285\n",
       "std         0.417770\n",
       "min      2013.000000\n",
       "25%      2014.000000\n",
       "50%      2014.000000\n",
       "75%      2014.000000\n",
       "max      2016.000000\n",
       "Name: year, dtype: float64"
      ]
     },
     "execution_count": 77,
     "metadata": {},
     "output_type": "execute_result"
    }
   ],
   "source": [
    "master[master.source == this_source]['year'].describe()"
   ]
  },
  {
   "cell_type": "code",
   "execution_count": 79,
   "metadata": {
    "collapsed": false
   },
   "outputs": [
    {
     "data": {
      "text/plain": [
       "JD_like    431.0\n",
       "year       431.0\n",
       "month      431.0\n",
       "day        431.0\n",
       "season     431.0\n",
       "Vmag       385.0\n",
       "Verr       385.0\n",
       "Bmag        23.0\n",
       "Berr        23.0\n",
       "Rmag        10.0\n",
       "Rerr        10.0\n",
       "Umag         0.0\n",
       "Uerr         0.0\n",
       "Name: count, dtype: float64"
      ]
     },
     "execution_count": 79,
     "metadata": {},
     "output_type": "execute_result"
    }
   ],
   "source": [
    "master[master.source == this_source].describe().loc['count']"
   ]
  },
  {
   "cell_type": "code",
   "execution_count": 80,
   "metadata": {
    "collapsed": false
   },
   "outputs": [
    {
     "data": {
      "text/html": [
       "<div>\n",
       "<table border=\"1\" class=\"dataframe\">\n",
       "  <thead>\n",
       "    <tr style=\"text-align: right;\">\n",
       "      <th></th>\n",
       "      <th>JD_like</th>\n",
       "      <th>year</th>\n",
       "      <th>month</th>\n",
       "      <th>day</th>\n",
       "      <th>season</th>\n",
       "      <th>Vmag</th>\n",
       "      <th>Verr</th>\n",
       "      <th>Bmag</th>\n",
       "      <th>Berr</th>\n",
       "      <th>Rmag</th>\n",
       "      <th>Rerr</th>\n",
       "      <th>Umag</th>\n",
       "      <th>Uerr</th>\n",
       "    </tr>\n",
       "  </thead>\n",
       "  <tbody>\n",
       "    <tr>\n",
       "      <th>count</th>\n",
       "      <td>1.173000e+03</td>\n",
       "      <td>1173.000000</td>\n",
       "      <td>1173.000000</td>\n",
       "      <td>1173.000000</td>\n",
       "      <td>1173.000000</td>\n",
       "      <td>1127.000000</td>\n",
       "      <td>1127.000000</td>\n",
       "      <td>356.000000</td>\n",
       "      <td>356.000000</td>\n",
       "      <td>333.000000</td>\n",
       "      <td>333.000000</td>\n",
       "      <td>66.000000</td>\n",
       "      <td>6.600000e+01</td>\n",
       "    </tr>\n",
       "    <tr>\n",
       "      <th>mean</th>\n",
       "      <td>2.454432e+06</td>\n",
       "      <td>2007.324808</td>\n",
       "      <td>7.484228</td>\n",
       "      <td>16.306098</td>\n",
       "      <td>23.047741</td>\n",
       "      <td>12.732228</td>\n",
       "      <td>0.018729</td>\n",
       "      <td>14.034784</td>\n",
       "      <td>0.011163</td>\n",
       "      <td>11.330796</td>\n",
       "      <td>0.009841</td>\n",
       "      <td>15.164424</td>\n",
       "      <td>5.000000e-02</td>\n",
       "    </tr>\n",
       "    <tr>\n",
       "      <th>std</th>\n",
       "      <td>3.110717e+03</td>\n",
       "      <td>8.578450</td>\n",
       "      <td>3.795425</td>\n",
       "      <td>8.193869</td>\n",
       "      <td>8.482130</td>\n",
       "      <td>0.176482</td>\n",
       "      <td>0.015187</td>\n",
       "      <td>0.214685</td>\n",
       "      <td>0.008940</td>\n",
       "      <td>0.221978</td>\n",
       "      <td>0.000913</td>\n",
       "      <td>0.246062</td>\n",
       "      <td>6.292860e-17</td>\n",
       "    </tr>\n",
       "    <tr>\n",
       "      <th>min</th>\n",
       "      <td>2.446357e+06</td>\n",
       "      <td>1985.000000</td>\n",
       "      <td>1.000000</td>\n",
       "      <td>1.157700</td>\n",
       "      <td>1.000000</td>\n",
       "      <td>12.280000</td>\n",
       "      <td>0.004000</td>\n",
       "      <td>13.530000</td>\n",
       "      <td>0.007000</td>\n",
       "      <td>10.963000</td>\n",
       "      <td>0.004000</td>\n",
       "      <td>14.368000</td>\n",
       "      <td>5.000000e-02</td>\n",
       "    </tr>\n",
       "    <tr>\n",
       "      <th>25%</th>\n",
       "      <td>2.452141e+06</td>\n",
       "      <td>2001.000000</td>\n",
       "      <td>3.000000</td>\n",
       "      <td>12.061300</td>\n",
       "      <td>17.000000</td>\n",
       "      <td>12.660000</td>\n",
       "      <td>0.010000</td>\n",
       "      <td>13.871750</td>\n",
       "      <td>0.010000</td>\n",
       "      <td>11.159000</td>\n",
       "      <td>0.010000</td>\n",
       "      <td>15.051000</td>\n",
       "      <td>5.000000e-02</td>\n",
       "    </tr>\n",
       "    <tr>\n",
       "      <th>50%</th>\n",
       "      <td>2.456651e+06</td>\n",
       "      <td>2013.000000</td>\n",
       "      <td>9.000000</td>\n",
       "      <td>13.579000</td>\n",
       "      <td>29.000000</td>\n",
       "      <td>12.688000</td>\n",
       "      <td>0.011000</td>\n",
       "      <td>14.030000</td>\n",
       "      <td>0.010000</td>\n",
       "      <td>11.308000</td>\n",
       "      <td>0.010000</td>\n",
       "      <td>15.170000</td>\n",
       "      <td>5.000000e-02</td>\n",
       "    </tr>\n",
       "    <tr>\n",
       "      <th>75%</th>\n",
       "      <td>2.456944e+06</td>\n",
       "      <td>2014.000000</td>\n",
       "      <td>10.000000</td>\n",
       "      <td>22.969180</td>\n",
       "      <td>30.000000</td>\n",
       "      <td>12.837343</td>\n",
       "      <td>0.025017</td>\n",
       "      <td>14.162250</td>\n",
       "      <td>0.010000</td>\n",
       "      <td>11.446000</td>\n",
       "      <td>0.010000</td>\n",
       "      <td>15.297500</td>\n",
       "      <td>5.000000e-02</td>\n",
       "    </tr>\n",
       "    <tr>\n",
       "      <th>max</th>\n",
       "      <td>2.457460e+06</td>\n",
       "      <td>2016.000000</td>\n",
       "      <td>12.000000</td>\n",
       "      <td>31.903200</td>\n",
       "      <td>31.000000</td>\n",
       "      <td>13.254857</td>\n",
       "      <td>0.088000</td>\n",
       "      <td>14.695000</td>\n",
       "      <td>0.155000</td>\n",
       "      <td>12.002000</td>\n",
       "      <td>0.010000</td>\n",
       "      <td>15.746000</td>\n",
       "      <td>5.000000e-02</td>\n",
       "    </tr>\n",
       "  </tbody>\n",
       "</table>\n",
       "</div>"
      ],
      "text/plain": [
       "            JD_like         year        month          day       season  \\\n",
       "count  1.173000e+03  1173.000000  1173.000000  1173.000000  1173.000000   \n",
       "mean   2.454432e+06  2007.324808     7.484228    16.306098    23.047741   \n",
       "std    3.110717e+03     8.578450     3.795425     8.193869     8.482130   \n",
       "min    2.446357e+06  1985.000000     1.000000     1.157700     1.000000   \n",
       "25%    2.452141e+06  2001.000000     3.000000    12.061300    17.000000   \n",
       "50%    2.456651e+06  2013.000000     9.000000    13.579000    29.000000   \n",
       "75%    2.456944e+06  2014.000000    10.000000    22.969180    30.000000   \n",
       "max    2.457460e+06  2016.000000    12.000000    31.903200    31.000000   \n",
       "\n",
       "              Vmag         Verr        Bmag        Berr        Rmag  \\\n",
       "count  1127.000000  1127.000000  356.000000  356.000000  333.000000   \n",
       "mean     12.732228     0.018729   14.034784    0.011163   11.330796   \n",
       "std       0.176482     0.015187    0.214685    0.008940    0.221978   \n",
       "min      12.280000     0.004000   13.530000    0.007000   10.963000   \n",
       "25%      12.660000     0.010000   13.871750    0.010000   11.159000   \n",
       "50%      12.688000     0.011000   14.030000    0.010000   11.308000   \n",
       "75%      12.837343     0.025017   14.162250    0.010000   11.446000   \n",
       "max      13.254857     0.088000   14.695000    0.155000   12.002000   \n",
       "\n",
       "             Rerr       Umag          Uerr  \n",
       "count  333.000000  66.000000  6.600000e+01  \n",
       "mean     0.009841  15.164424  5.000000e-02  \n",
       "std      0.000913   0.246062  6.292860e-17  \n",
       "min      0.004000  14.368000  5.000000e-02  \n",
       "25%      0.010000  15.051000  5.000000e-02  \n",
       "50%      0.010000  15.170000  5.000000e-02  \n",
       "75%      0.010000  15.297500  5.000000e-02  \n",
       "max      0.010000  15.746000  5.000000e-02  "
      ]
     },
     "execution_count": 80,
     "metadata": {},
     "output_type": "execute_result"
    }
   ],
   "source": [
    "master.describe()"
   ]
  },
  {
   "cell_type": "markdown",
   "metadata": {},
   "source": [
    "## Metadata for observing \"seasons\""
   ]
  },
  {
   "cell_type": "markdown",
   "metadata": {},
   "source": [
    "Estimate the period separately for each season:"
   ]
  },
  {
   "cell_type": "code",
   "execution_count": 81,
   "metadata": {
    "collapsed": true
   },
   "outputs": [],
   "source": [
    "seasons_unsorted = master.season.unique()\n",
    "seasons_unsorted.sort()\n",
    "seasons = seasons_unsorted"
   ]
  },
  {
   "cell_type": "code",
   "execution_count": 82,
   "metadata": {
    "collapsed": true
   },
   "outputs": [],
   "source": [
    "max_peaks = np.array([3.375]*22)\n",
    "P_errs = np.array([0.003]*22)"
   ]
  },
  {
   "cell_type": "code",
   "execution_count": 83,
   "metadata": {
    "collapsed": false
   },
   "outputs": [],
   "source": [
    "season_agg = pd.DataFrame({\"season\":seasons,\n",
    "                           \"P_est1\":max_peaks,\n",
    "                           \"P_err1\":P_errs})"
   ]
  },
  {
   "cell_type": "markdown",
   "metadata": {},
   "source": [
    "Add some metadata:"
   ]
  },
  {
   "cell_type": "code",
   "execution_count": 84,
   "metadata": {
    "collapsed": true
   },
   "outputs": [],
   "source": [
    "season_agg['years'] = ''\n",
    "season_agg['N_obs'] = 0\n",
    "season_agg['JD_min'] = 0.0\n",
    "season_agg['JD_max'] = 0.0\n",
    "season_agg['N_U'] = 0\n",
    "season_agg['N_B'] = 0\n",
    "season_agg['N_V'] = 0\n",
    "season_agg['N_R'] = 0"
   ]
  },
  {
   "cell_type": "code",
   "execution_count": 85,
   "metadata": {
    "collapsed": false
   },
   "outputs": [],
   "source": [
    "for i in range(22):\n",
    "    # get the data and best-fit angular frequency\n",
    "    s = season_agg.season[i]\n",
    "    ids = master.season == s\n",
    "    df = master[ids]\n",
    "    season_agg.years[i] = \"{}/{}-{}/{}\".format(df.month[df.JD_like.argmin()],\n",
    "                                               df.year.min(), \n",
    "                                               df.month[df.JD_like.argmax()],\n",
    "                                               df.year.max())\n",
    "    season_agg.N_obs[i] = len(df.Vmag)\n",
    "    season_agg.JD_min[i] = df.JD_like.min()\n",
    "    season_agg.JD_max[i] = df.JD_like.max()\n",
    "    season_agg.N_U[i] = (df.Umag == df.Umag).sum()\n",
    "    season_agg.N_B[i] = (df.Bmag == df.Bmag).sum()\n",
    "    season_agg.N_V[i] = (df.Vmag == df.Vmag).sum()\n",
    "    season_agg.N_R[i] = (df.Rmag == df.Rmag).sum()"
   ]
  },
  {
   "cell_type": "code",
   "execution_count": 86,
   "metadata": {
    "collapsed": false
   },
   "outputs": [],
   "source": [
    "season_agg['length'] = np.ceil(season_agg.JD_max-season_agg.JD_min)"
   ]
  },
  {
   "cell_type": "code",
   "execution_count": 87,
   "metadata": {
    "collapsed": false
   },
   "outputs": [
    {
     "data": {
      "text/html": [
       "<div>\n",
       "<table border=\"1\" class=\"dataframe\">\n",
       "  <thead>\n",
       "    <tr style=\"text-align: right;\">\n",
       "      <th></th>\n",
       "      <th>P_err1</th>\n",
       "      <th>P_est1</th>\n",
       "      <th>season</th>\n",
       "      <th>years</th>\n",
       "      <th>N_obs</th>\n",
       "      <th>JD_min</th>\n",
       "      <th>JD_max</th>\n",
       "      <th>N_U</th>\n",
       "      <th>N_B</th>\n",
       "      <th>N_V</th>\n",
       "      <th>N_R</th>\n",
       "      <th>length</th>\n",
       "    </tr>\n",
       "  </thead>\n",
       "  <tbody>\n",
       "    <tr>\n",
       "      <th>0</th>\n",
       "      <td>0.003</td>\n",
       "      <td>3.375</td>\n",
       "      <td>1</td>\n",
       "      <td>10/1985-3/1986</td>\n",
       "      <td>29</td>\n",
       "      <td>2.446357e+06</td>\n",
       "      <td>2.446519e+06</td>\n",
       "      <td>22</td>\n",
       "      <td>29</td>\n",
       "      <td>29</td>\n",
       "      <td>29</td>\n",
       "      <td>162.0</td>\n",
       "    </tr>\n",
       "    <tr>\n",
       "      <th>1</th>\n",
       "      <td>0.003</td>\n",
       "      <td>3.375</td>\n",
       "      <td>6</td>\n",
       "      <td>11/1990-1/1991</td>\n",
       "      <td>26</td>\n",
       "      <td>2.448212e+06</td>\n",
       "      <td>2.448272e+06</td>\n",
       "      <td>26</td>\n",
       "      <td>26</td>\n",
       "      <td>26</td>\n",
       "      <td>26</td>\n",
       "      <td>61.0</td>\n",
       "    </tr>\n",
       "    <tr>\n",
       "      <th>2</th>\n",
       "      <td>0.003</td>\n",
       "      <td>3.375</td>\n",
       "      <td>8</td>\n",
       "      <td>8/1992-12/1992</td>\n",
       "      <td>29</td>\n",
       "      <td>2.448858e+06</td>\n",
       "      <td>2.448960e+06</td>\n",
       "      <td>0</td>\n",
       "      <td>29</td>\n",
       "      <td>29</td>\n",
       "      <td>15</td>\n",
       "      <td>102.0</td>\n",
       "    </tr>\n",
       "    <tr>\n",
       "      <th>3</th>\n",
       "      <td>0.003</td>\n",
       "      <td>3.375</td>\n",
       "      <td>9</td>\n",
       "      <td>8/1993-10/1993</td>\n",
       "      <td>34</td>\n",
       "      <td>2.449215e+06</td>\n",
       "      <td>2.449284e+06</td>\n",
       "      <td>1</td>\n",
       "      <td>30</td>\n",
       "      <td>34</td>\n",
       "      <td>33</td>\n",
       "      <td>69.0</td>\n",
       "    </tr>\n",
       "    <tr>\n",
       "      <th>4</th>\n",
       "      <td>0.003</td>\n",
       "      <td>3.375</td>\n",
       "      <td>10</td>\n",
       "      <td>8/1994-12/1994</td>\n",
       "      <td>12</td>\n",
       "      <td>2.449581e+06</td>\n",
       "      <td>2.449697e+06</td>\n",
       "      <td>1</td>\n",
       "      <td>12</td>\n",
       "      <td>12</td>\n",
       "      <td>12</td>\n",
       "      <td>116.0</td>\n",
       "    </tr>\n",
       "  </tbody>\n",
       "</table>\n",
       "</div>"
      ],
      "text/plain": [
       "   P_err1  P_est1  season           years  N_obs        JD_min        JD_max  \\\n",
       "0   0.003   3.375       1  10/1985-3/1986     29  2.446357e+06  2.446519e+06   \n",
       "1   0.003   3.375       6  11/1990-1/1991     26  2.448212e+06  2.448272e+06   \n",
       "2   0.003   3.375       8  8/1992-12/1992     29  2.448858e+06  2.448960e+06   \n",
       "3   0.003   3.375       9  8/1993-10/1993     34  2.449215e+06  2.449284e+06   \n",
       "4   0.003   3.375      10  8/1994-12/1994     12  2.449581e+06  2.449697e+06   \n",
       "\n",
       "   N_U  N_B  N_V  N_R  length  \n",
       "0   22   29   29   29   162.0  \n",
       "1   26   26   26   26    61.0  \n",
       "2    0   29   29   15   102.0  \n",
       "3    1   30   34   33    69.0  \n",
       "4    1   12   12   12   116.0  "
      ]
     },
     "execution_count": 87,
     "metadata": {},
     "output_type": "execute_result"
    }
   ],
   "source": [
    "season_agg.head()"
   ]
  },
  {
   "cell_type": "markdown",
   "metadata": {},
   "source": [
    "## Metadata for observing \"epochs\""
   ]
  },
  {
   "cell_type": "code",
   "execution_count": 88,
   "metadata": {
    "collapsed": true
   },
   "outputs": [],
   "source": [
    "epochs = pd.read_csv('../data/epochs.csv').dropna(axis=0, how='all').dropna(axis=1, how='all')"
   ]
  },
  {
   "cell_type": "markdown",
   "metadata": {},
   "source": [
    "Associate each epoch with the closest season"
   ]
  },
  {
   "cell_type": "code",
   "execution_count": 89,
   "metadata": {
    "collapsed": false
   },
   "outputs": [],
   "source": [
    "epochs['InSeason'] = np.NaN\n",
    "epochs['NearSeason'] = np.NaN\n",
    "epochs['dist_hi'] = np.NaN\n",
    "epochs['dist_lo'] = np.NaN\n",
    "epochs['season_hi'] = np.NaN\n",
    "epochs['season_lo'] = np.NaN"
   ]
  },
  {
   "cell_type": "code",
   "execution_count": 90,
   "metadata": {
    "collapsed": false
   },
   "outputs": [],
   "source": [
    "for i in range(len(epochs)):\n",
    "    sid = (season_agg.JD_min < epochs.JD_like[i]) & (season_agg.JD_max > epochs.JD_like[i])\n",
    "    if sid.sum()==1:\n",
    "        epochs.InSeason[i] = season_agg.season[sid]\n",
    "    else:\n",
    "        dist_lo = np.abs(epochs.JD_like[i]-season_agg.JD_min)\n",
    "        dist_hi = np.abs(epochs.JD_like[i]-season_agg.JD_max) \n",
    "        s_hi = np.argmin(dist_hi)\n",
    "        s_lo = s_hi+1\n",
    "        epochs.season_hi[i] = season_agg.season[s_hi]\n",
    "        epochs.season_lo[i] = season_agg.season[s_lo]\n",
    "        epochs.dist_hi[i] = np.ceil(dist_hi[s_hi])\n",
    "        epochs.dist_lo[i] = np.ceil(dist_lo[s_lo])"
   ]
  },
  {
   "cell_type": "markdown",
   "metadata": {},
   "source": [
    "All of the epochs that were missed come just-after the end of the season by between 22 to 126 days."
   ]
  },
  {
   "cell_type": "code",
   "execution_count": 91,
   "metadata": {
    "collapsed": false
   },
   "outputs": [],
   "source": [
    "epochs.NearSeason = epochs.season_hi"
   ]
  },
  {
   "cell_type": "code",
   "execution_count": 92,
   "metadata": {
    "collapsed": true
   },
   "outputs": [],
   "source": [
    "epochs['AdoptedSeason'] = epochs.InSeason\n",
    "out_of_season = epochs.InSeason != epochs.InSeason\n",
    "epochs.AdoptedSeason[out_of_season] = epochs.NearSeason[out_of_season]"
   ]
  },
  {
   "cell_type": "markdown",
   "metadata": {},
   "source": [
    "Placeholders for BVR magnitude estimates:"
   ]
  },
  {
   "cell_type": "code",
   "execution_count": 93,
   "metadata": {
    "collapsed": false
   },
   "outputs": [],
   "source": [
    "epochs['B_est'], epochs['V_est'], epochs['R_est'] = 0.0, 0.0, 0.0"
   ]
  },
  {
   "cell_type": "code",
   "execution_count": 94,
   "metadata": {
    "collapsed": true
   },
   "outputs": [],
   "source": [
    "epochs['JD-2450000'] = epochs.JD_like-2450000.0"
   ]
  },
  {
   "cell_type": "markdown",
   "metadata": {},
   "source": [
    "We don't want to label everything we know about:"
   ]
  },
  {
   "cell_type": "code",
   "execution_count": 95,
   "metadata": {
    "collapsed": true
   },
   "outputs": [],
   "source": [
    "epochs.drop(epochs.index[epochs.Observation.isin(\n",
    "            ['Nguyen_1', 'Nguyen_2', 'Nguyen_3', 'Nguyen_4','IGRINS_1'])], inplace=True)"
   ]
  },
  {
   "cell_type": "code",
   "execution_count": 96,
   "metadata": {
    "collapsed": false
   },
   "outputs": [],
   "source": [
    "epochs = epochs.reset_index(drop=True)"
   ]
  },
  {
   "cell_type": "code",
   "execution_count": 97,
   "metadata": {
    "collapsed": true
   },
   "outputs": [],
   "source": [
    "epoch_ls = pd.DataFrame(columns=['Instrument', 'color', 'linestyles'])\n",
    "\n",
    "epoch_ls = epoch_ls.append({\"Instrument\":'ESPaDOnS', \"color\":'gray', 'linestyles':'dotted'}, ignore_index=True)\n",
    "epoch_ls = epoch_ls.append({\"Instrument\":'IGRINS', \"color\":'black', 'linestyles':'solid'}, ignore_index=True)\n",
    "epoch_ls = epoch_ls.append({\"Instrument\":'2MASS', \"color\":'red', 'linestyles':'dashed'}, ignore_index=True)\n",
    "epoch_ls = epoch_ls.append({\"Instrument\":'DoubleSpec', \"color\":'blue', 'linestyles':'dotted'}, ignore_index=True)\n",
    "epoch_ls = epoch_ls.append({\"Instrument\":'TripleSpec', \"color\":'blue', 'linestyles':'dashed'}, ignore_index=True)"
   ]
  },
  {
   "cell_type": "code",
   "execution_count": 98,
   "metadata": {
    "collapsed": true
   },
   "outputs": [],
   "source": [
    "epochs_orig = epochs.copy()"
   ]
  },
  {
   "cell_type": "code",
   "execution_count": 99,
   "metadata": {
    "collapsed": true
   },
   "outputs": [],
   "source": [
    "epochs = pd.merge(epochs, epoch_ls, on='Instrument')"
   ]
  },
  {
   "cell_type": "markdown",
   "metadata": {},
   "source": [
    "## Lightcurve analysis"
   ]
  },
  {
   "cell_type": "code",
   "execution_count": 100,
   "metadata": {
    "collapsed": true
   },
   "outputs": [],
   "source": [
    "from astroML.time_series import multiterm_periodogram\n",
    "from astroML.time_series import lomb_scargle\n",
    "\n",
    "from scipy.signal import argrelmax"
   ]
  },
  {
   "cell_type": "code",
   "execution_count": 101,
   "metadata": {
    "collapsed": true
   },
   "outputs": [],
   "source": [
    "from astroML.time_series import search_frequencies, lomb_scargle, MultiTermFit"
   ]
  },
  {
   "cell_type": "code",
   "execution_count": 102,
   "metadata": {
    "collapsed": true
   },
   "outputs": [],
   "source": [
    "from gatspy.periodic import LombScargle, LombScargleFast"
   ]
  },
  {
   "cell_type": "code",
   "execution_count": 103,
   "metadata": {
    "collapsed": false
   },
   "outputs": [
    {
     "data": {
      "image/png": "[encoded data removed]",
      "text/plain": [
       "<matplotlib.figure.Figure at 0x11d20ab00>"
      ]
     },
     "metadata": {
      "image/png": {
       "height": 749,
       "width": 574
      }
     },
     "output_type": "display_data"
    }
   ],
   "source": [
    "fig = plt.figure(figsize=(8.5, 11))\n",
    "fig.subplots_adjust(hspace=0.1, bottom=0.06, top=0.94, left=0.12, right=0.94)\n",
    "\n",
    "for i in range(22):\n",
    "    # get the data and best-fit angular frequency\n",
    "    s = season_agg.season[i]\n",
    "    ids = master.season == s\n",
    "    df = master[ids]\n",
    "    t = df.JD_like.values\n",
    "    y = df.Vmag.values\n",
    "    dy = df.Verr.values\n",
    "    #this_P = season_agg.P_est1[i]\n",
    "    this_P = season_agg.P_est1.median()\n",
    "    phased_t = np.mod(t, this_P)/this_P\n",
    "    \n",
    "    # Fit a multiterm model\n",
    "    Nterms = 4\n",
    "    reg = 0.1 * np.ones(2 * Nterms + 1)\n",
    "    reg[:5] = 0 # no regularization on low-order terms\n",
    "    if (df.year.min() == 2006): \n",
    "        reg = 0.3 * np.ones(2 * Nterms + 1)\n",
    "        reg[:3] = 0 # no regularization on low-order terms\n",
    "\n",
    "    modelV = LombScargle(Nterms=4, regularization=reg)\n",
    "    mask = y == y # We can mask flares later on\n",
    "    modelV.fit(t[mask], y[mask], dy[mask])\n",
    "    tfit = np.linspace(0, this_P, 100)\n",
    "    yfitV = modelV.predict(tfit, period=this_P)\n",
    "    \n",
    "    \n",
    "    # plot the phased data\n",
    "    ax = fig.add_subplot(6,4,1 + i)\n",
    "    plt.plot(tfit/this_P, yfitV, alpha=0.5)\n",
    "    ax.errorbar(phased_t, y, dy, fmt='.k', ecolor='gray',\n",
    "                lw=1, ms=4, capsize=1.5)\n",
    "\n",
    "    #---R-band---\n",
    "    \n",
    "    y = df.Rmag.values\n",
    "    dy = df.Rerr.values\n",
    "    #this_P = season_agg.P_est1[i]\n",
    "    this_P = season_agg.P_est1.median()\n",
    "    phased_t = np.mod(t, this_P)/this_P\n",
    "    \n",
    "    # Fit a multiterm model\n",
    "    Nterms = 4\n",
    "    reg = 0.1 * np.ones(2 * Nterms + 1)\n",
    "    reg[:5] = 0 # no regularization on low-order terms\n",
    "\n",
    "    ax = fig.add_subplot(6,4,1 + i)\n",
    "    \n",
    "    modelR = LombScargle(Nterms=4, regularization=reg)\n",
    "    mask = y == y # We can mask flares later on\n",
    "    try:\n",
    "        modelR.fit(t[mask], y[mask], dy[mask])\n",
    "        tfit = np.linspace(0, this_P, 100)\n",
    "        yfitR = modelR.predict(tfit, period=this_P)\n",
    "        plt.plot(tfit/this_P, yfitR, alpha=0.5)\n",
    "    except:\n",
    "        pass\n",
    "        #print('Season {} did not work for some reason'.format(s))\n",
    "    # plot the phased data\n",
    "    ax.errorbar(phased_t, y, dy, fmt='.k', ecolor='gray',\n",
    "                lw=1, ms=4, capsize=1.5)\n",
    "    #------------\n",
    "    \n",
    "    \n",
    "    #---B-band---\n",
    "    \n",
    "    y = df.Bmag.values\n",
    "    dy = df.Berr.values\n",
    "    #this_P = season_agg.P_est1[i]\n",
    "    this_P = season_agg.P_est1.median()\n",
    "    phased_t = np.mod(t, this_P)/this_P\n",
    "    \n",
    "    # Fit a multiterm model\n",
    "    Nterms = 4\n",
    "    reg = 0.1 * np.ones(2 * Nterms + 1)\n",
    "    reg[:5] = 0 # no regularization on low-order terms\n",
    "\n",
    "    ax = fig.add_subplot(6,4,1 + i)\n",
    "    \n",
    "    modelB = LombScargle(Nterms=4, regularization=reg)\n",
    "    mask = y == y # We can mask flares later on\n",
    "    try:\n",
    "        modelB.fit(t[mask], y[mask], dy[mask])\n",
    "        tfit = np.linspace(0, this_P, 100)\n",
    "        yfit = modelB.predict(tfit, period=this_P)\n",
    "        plt.plot(tfit/this_P, yfit, alpha=0.5)\n",
    "    except:\n",
    "        pass\n",
    "        #print('Season {} did not work for some reason'.format(s))\n",
    "    # plot the phased data\n",
    "    ax.errorbar(phased_t, y, dy, fmt='.k', ecolor='gray',\n",
    "                lw=1, ms=4, capsize=1.5)\n",
    "    #------------\n",
    "    \n",
    "    \n",
    "    #---Mark observation epochs---\n",
    "    ts_ids = (np.float(s) == epochs.AdoptedSeason)\n",
    "    if ts_ids.sum() > 0:\n",
    "        for ei in epochs.index.values[ts_ids.values]:\n",
    "            this_phase = np.mod(epochs.JD_like[ei], this_P)/this_P\n",
    "            ax.vlines(this_phase, 15.3, 10.2, linestyles=epochs.linestyles[ei], \n",
    "                      colors=epochs.color[ei], alpha=0.8)\n",
    "            for band, model in [('V_est', modelV), ('R_est', modelR), ('B_est', modelB)]:\n",
    "                try:\n",
    "                    estimated_mag = model.predict(this_phase*this_P, period=this_P).tolist()\n",
    "                    epochs.set_value(ei, band, estimated_mag)\n",
    "                except:\n",
    "                    pass\n",
    "                    #print('{}: Band {} could not be computed'.format(epochs.Observation[ei], band))  \n",
    "    #-----------------------------\n",
    "\n",
    "\n",
    "    ax.yaxis.set_major_locator(plt.MaxNLocator(4))\n",
    "    ax.set_ylim(13.3, 12.2)\n",
    "    \n",
    "    ax.text(0.03, 0.96, \"{}\".format(season_agg.years[i]),ha='left', va='top',\n",
    "            transform=ax.transAxes)\n",
    "    \n",
    "    if i < 18 :\n",
    "        ax.xaxis.set_major_formatter(plt.NullFormatter())\n",
    "    if i % 4 != 0:\n",
    "        ax.yaxis.set_major_formatter(plt.NullFormatter())\n",
    "    if i % 4 == 0:\n",
    "        ax.set_ylabel('$V$')\n",
    "\n",
    "    if i in (18, 19, 20, 21):\n",
    "        ax.set_xlabel('phase')\n",
    "        \n",
    "plt.savefig('../results/fig/Vband_22s.pdf', bbox_inches='tight')"
   ]
  },
  {
   "cell_type": "markdown",
   "metadata": {},
   "source": [
    "## Summarize estimated photometry into a table"
   ]
  },
  {
   "cell_type": "markdown",
   "metadata": {},
   "source": [
    "Drop the Observations that we are not using: Nguyen, IGRINS_1.  \n",
    "Drop the columns we are not using (most columns).  \n",
    "Add a column for JD-2456000 to match Donati et al. 2014."
   ]
  },
  {
   "cell_type": "code",
   "execution_count": 104,
   "metadata": {
    "collapsed": false
   },
   "outputs": [
    {
     "data": {
      "text/html": [
       "<div>\n",
       "<table border=\"1\" class=\"dataframe\">\n",
       "  <thead>\n",
       "    <tr style=\"text-align: right;\">\n",
       "      <th></th>\n",
       "      <th>JD-2450000</th>\n",
       "      <th>Instrument</th>\n",
       "      <th>B_est</th>\n",
       "      <th>V_est</th>\n",
       "      <th>R_est</th>\n",
       "    </tr>\n",
       "  </thead>\n",
       "  <tbody>\n",
       "    <tr>\n",
       "      <th>0</th>\n",
       "      <td>781.71060</td>\n",
       "      <td>2MASS</td>\n",
       "      <td>14.022682</td>\n",
       "      <td>12.605329</td>\n",
       "      <td>11.250059</td>\n",
       "    </tr>\n",
       "    <tr>\n",
       "      <th>1</th>\n",
       "      <td>4830.56369</td>\n",
       "      <td>TripleSpec</td>\n",
       "      <td>NaN</td>\n",
       "      <td>13.024335</td>\n",
       "      <td>NaN</td>\n",
       "    </tr>\n",
       "    <tr>\n",
       "      <th>2</th>\n",
       "      <td>4830.77189</td>\n",
       "      <td>DoubleSpec</td>\n",
       "      <td>NaN</td>\n",
       "      <td>12.940781</td>\n",
       "      <td>NaN</td>\n",
       "    </tr>\n",
       "    <tr>\n",
       "      <th>3</th>\n",
       "      <td>6665.72044</td>\n",
       "      <td>ESPaDOnS</td>\n",
       "      <td>14.404133</td>\n",
       "      <td>12.870791</td>\n",
       "      <td>11.802906</td>\n",
       "    </tr>\n",
       "    <tr>\n",
       "      <th>4</th>\n",
       "      <td>6666.85048</td>\n",
       "      <td>ESPaDOnS</td>\n",
       "      <td>14.251631</td>\n",
       "      <td>12.687990</td>\n",
       "      <td>11.631952</td>\n",
       "    </tr>\n",
       "    <tr>\n",
       "      <th>5</th>\n",
       "      <td>6667.77270</td>\n",
       "      <td>ESPaDOnS</td>\n",
       "      <td>14.371584</td>\n",
       "      <td>12.873431</td>\n",
       "      <td>11.808817</td>\n",
       "    </tr>\n",
       "    <tr>\n",
       "      <th>6</th>\n",
       "      <td>6668.86991</td>\n",
       "      <td>ESPaDOnS</td>\n",
       "      <td>14.464463</td>\n",
       "      <td>12.938918</td>\n",
       "      <td>11.880174</td>\n",
       "    </tr>\n",
       "    <tr>\n",
       "      <th>7</th>\n",
       "      <td>6672.89947</td>\n",
       "      <td>ESPaDOnS</td>\n",
       "      <td>14.417916</td>\n",
       "      <td>12.804548</td>\n",
       "      <td>11.731416</td>\n",
       "    </tr>\n",
       "    <tr>\n",
       "      <th>8</th>\n",
       "      <td>6673.84079</td>\n",
       "      <td>ESPaDOnS</td>\n",
       "      <td>14.180595</td>\n",
       "      <td>12.670068</td>\n",
       "      <td>11.619317</td>\n",
       "    </tr>\n",
       "    <tr>\n",
       "      <th>9</th>\n",
       "      <td>6674.77460</td>\n",
       "      <td>ESPaDOnS</td>\n",
       "      <td>14.512755</td>\n",
       "      <td>12.993301</td>\n",
       "      <td>11.926272</td>\n",
       "    </tr>\n",
       "    <tr>\n",
       "      <th>10</th>\n",
       "      <td>6675.73957</td>\n",
       "      <td>ESPaDOnS</td>\n",
       "      <td>14.430273</td>\n",
       "      <td>12.900477</td>\n",
       "      <td>11.837811</td>\n",
       "    </tr>\n",
       "    <tr>\n",
       "      <th>11</th>\n",
       "      <td>6676.79539</td>\n",
       "      <td>ESPaDOnS</td>\n",
       "      <td>14.346216</td>\n",
       "      <td>12.719781</td>\n",
       "      <td>11.657843</td>\n",
       "    </tr>\n",
       "    <tr>\n",
       "      <th>12</th>\n",
       "      <td>6677.86992</td>\n",
       "      <td>ESPaDOnS</td>\n",
       "      <td>14.355475</td>\n",
       "      <td>12.859035</td>\n",
       "      <td>11.794406</td>\n",
       "    </tr>\n",
       "    <tr>\n",
       "      <th>13</th>\n",
       "      <td>6678.74193</td>\n",
       "      <td>ESPaDOnS</td>\n",
       "      <td>14.532817</td>\n",
       "      <td>13.018117</td>\n",
       "      <td>11.954998</td>\n",
       "    </tr>\n",
       "    <tr>\n",
       "      <th>14</th>\n",
       "      <td>6678.89502</td>\n",
       "      <td>ESPaDOnS</td>\n",
       "      <td>14.492889</td>\n",
       "      <td>12.972126</td>\n",
       "      <td>11.913651</td>\n",
       "    </tr>\n",
       "    <tr>\n",
       "      <th>15</th>\n",
       "      <td>7344.86097</td>\n",
       "      <td>IGRINS</td>\n",
       "      <td>NaN</td>\n",
       "      <td>12.835812</td>\n",
       "      <td>NaN</td>\n",
       "    </tr>\n",
       "  </tbody>\n",
       "</table>\n",
       "</div>"
      ],
      "text/plain": [
       "    JD-2450000  Instrument      B_est      V_est      R_est\n",
       "0    781.71060       2MASS  14.022682  12.605329  11.250059\n",
       "1   4830.56369  TripleSpec        NaN  13.024335        NaN\n",
       "2   4830.77189  DoubleSpec        NaN  12.940781        NaN\n",
       "3   6665.72044    ESPaDOnS  14.404133  12.870791  11.802906\n",
       "4   6666.85048    ESPaDOnS  14.251631  12.687990  11.631952\n",
       "5   6667.77270    ESPaDOnS  14.371584  12.873431  11.808817\n",
       "6   6668.86991    ESPaDOnS  14.464463  12.938918  11.880174\n",
       "7   6672.89947    ESPaDOnS  14.417916  12.804548  11.731416\n",
       "8   6673.84079    ESPaDOnS  14.180595  12.670068  11.619317\n",
       "9   6674.77460    ESPaDOnS  14.512755  12.993301  11.926272\n",
       "10  6675.73957    ESPaDOnS  14.430273  12.900477  11.837811\n",
       "11  6676.79539    ESPaDOnS  14.346216  12.719781  11.657843\n",
       "12  6677.86992    ESPaDOnS  14.355475  12.859035  11.794406\n",
       "13  6678.74193    ESPaDOnS  14.532817  13.018117  11.954998\n",
       "14  6678.89502    ESPaDOnS  14.492889  12.972126  11.913651\n",
       "15  7344.86097      IGRINS        NaN  12.835812        NaN"
      ]
     },
     "execution_count": 104,
     "metadata": {},
     "output_type": "execute_result"
    }
   ],
   "source": [
    "eps = epochs.copy()\n",
    "\n",
    "keep = ['JD-2450000','Instrument', 'B_est', 'V_est', 'R_est']\n",
    "discard = set(eps.columns.values) - set(keep)\n",
    "eps.drop(list(discard), axis=1, inplace=True)\n",
    "eps.replace(0.0, np.NaN, inplace=True)\n",
    "eps[keep]"
   ]
  },
  {
   "cell_type": "markdown",
   "metadata": {
    "collapsed": true
   },
   "source": [
    "## Full range of data"
   ]
  },
  {
   "cell_type": "markdown",
   "metadata": {},
   "source": [
    "Photometric sources:"
   ]
  },
  {
   "cell_type": "code",
   "execution_count": 105,
   "metadata": {
    "collapsed": true
   },
   "outputs": [],
   "source": [
    "sources = ['Vrba et al. 1993', 'Bouvier et al. 1993','Grankin et al. 2008', 'ASAS3',\n",
    "           'Integral-OMC','Donati et al. 2014','ASASSN','AAVSO']"
   ]
  },
  {
   "cell_type": "code",
   "execution_count": 106,
   "metadata": {
    "collapsed": true
   },
   "outputs": [],
   "source": [
    "fmts = ['s', 's', '.', '.', '.', 's', '.', '.']"
   ]
  },
  {
   "cell_type": "code",
   "execution_count": 116,
   "metadata": {
    "collapsed": false
   },
   "outputs": [
    {
     "data": {
      "image/png": "[encoded data removed]",
      "text/plain": [
       "<matplotlib.figure.Figure at 0x11e96bcc0>"
      ]
     },
     "metadata": {
      "image/png": {
       "height": 308,
       "width": 733
      }
     },
     "output_type": "display_data"
    }
   ],
   "source": [
    "plt.figure(figsize=(12, 4.5))\n",
    "\n",
    "for source, fmt in zip(sources, fmts):\n",
    "    inds = master.source == source\n",
    "    plt.plot(master.JD_like[inds], master.Vmag[inds], fmt, ms=4,label=source)\n",
    "\n",
    "for i in range(len(epochs)):\n",
    "    label = epochs.Instrument[i]\n",
    "    if (label == 'ESPaDOnS') & (i!=6):\n",
    "        label=None\n",
    "    plt.vlines(epochs.JD_like[i], 13.5, 12.2, colors=epochs.color[i], \n",
    "               linestyles=epochs.linestyles[i], label = label)\n",
    "    \n",
    "#plt.vlines(2446192.083333, 13.5, 12.2, colors='cyan', linestyles='dashed')\n",
    "\n",
    "legend = plt.legend(loc='best', ncol=2)#, frameon=True, shadow=False, )\n",
    "plt.ylim(13.5, 12.2)\n",
    "\n",
    "plt.ylabel('$V$')\n",
    "plt.xlabel('JD')\n",
    "\n",
    "plt.xlim(2446192.083333, 2457597.833333)\n",
    "plt.savefig('../document/figures/LkCa4_phot1986-2016.pdf', bbox_inches='tight')"
   ]
  },
  {
   "cell_type": "markdown",
   "metadata": {
    "collapsed": true
   },
   "source": [
    "## Table of estimated $V$ values at the time of observations"
   ]
  },
  {
   "cell_type": "code",
   "execution_count": 108,
   "metadata": {
    "collapsed": false
   },
   "outputs": [],
   "source": [
    "eps = eps[keep]"
   ]
  },
  {
   "cell_type": "code",
   "execution_count": 109,
   "metadata": {
    "collapsed": false
   },
   "outputs": [
    {
     "data": {
      "text/html": [
       "<div>\n",
       "<table border=\"1\" class=\"dataframe\">\n",
       "  <thead>\n",
       "    <tr style=\"text-align: right;\">\n",
       "      <th></th>\n",
       "      <th>JD-2450000</th>\n",
       "      <th>Instrument</th>\n",
       "      <th>B_est</th>\n",
       "      <th>V_est</th>\n",
       "      <th>R_est</th>\n",
       "    </tr>\n",
       "  </thead>\n",
       "  <tbody>\n",
       "    <tr>\n",
       "      <th>0</th>\n",
       "      <td>781.71060</td>\n",
       "      <td>2MASS</td>\n",
       "      <td>14.022682</td>\n",
       "      <td>12.605329</td>\n",
       "      <td>11.250059</td>\n",
       "    </tr>\n",
       "    <tr>\n",
       "      <th>1</th>\n",
       "      <td>4830.56369</td>\n",
       "      <td>TripleSpec</td>\n",
       "      <td>NaN</td>\n",
       "      <td>13.024335</td>\n",
       "      <td>NaN</td>\n",
       "    </tr>\n",
       "    <tr>\n",
       "      <th>2</th>\n",
       "      <td>4830.77189</td>\n",
       "      <td>DoubleSpec</td>\n",
       "      <td>NaN</td>\n",
       "      <td>12.940781</td>\n",
       "      <td>NaN</td>\n",
       "    </tr>\n",
       "    <tr>\n",
       "      <th>3</th>\n",
       "      <td>6665.72044</td>\n",
       "      <td>ESPaDOnS</td>\n",
       "      <td>14.404133</td>\n",
       "      <td>12.870791</td>\n",
       "      <td>11.802906</td>\n",
       "    </tr>\n",
       "    <tr>\n",
       "      <th>4</th>\n",
       "      <td>6666.85048</td>\n",
       "      <td>ESPaDOnS</td>\n",
       "      <td>14.251631</td>\n",
       "      <td>12.687990</td>\n",
       "      <td>11.631952</td>\n",
       "    </tr>\n",
       "    <tr>\n",
       "      <th>5</th>\n",
       "      <td>6667.77270</td>\n",
       "      <td>ESPaDOnS</td>\n",
       "      <td>14.371584</td>\n",
       "      <td>12.873431</td>\n",
       "      <td>11.808817</td>\n",
       "    </tr>\n",
       "    <tr>\n",
       "      <th>6</th>\n",
       "      <td>6668.86991</td>\n",
       "      <td>ESPaDOnS</td>\n",
       "      <td>14.464463</td>\n",
       "      <td>12.938918</td>\n",
       "      <td>11.880174</td>\n",
       "    </tr>\n",
       "    <tr>\n",
       "      <th>7</th>\n",
       "      <td>6672.89947</td>\n",
       "      <td>ESPaDOnS</td>\n",
       "      <td>14.417916</td>\n",
       "      <td>12.804548</td>\n",
       "      <td>11.731416</td>\n",
       "    </tr>\n",
       "    <tr>\n",
       "      <th>8</th>\n",
       "      <td>6673.84079</td>\n",
       "      <td>ESPaDOnS</td>\n",
       "      <td>14.180595</td>\n",
       "      <td>12.670068</td>\n",
       "      <td>11.619317</td>\n",
       "    </tr>\n",
       "    <tr>\n",
       "      <th>9</th>\n",
       "      <td>6674.77460</td>\n",
       "      <td>ESPaDOnS</td>\n",
       "      <td>14.512755</td>\n",
       "      <td>12.993301</td>\n",
       "      <td>11.926272</td>\n",
       "    </tr>\n",
       "    <tr>\n",
       "      <th>10</th>\n",
       "      <td>6675.73957</td>\n",
       "      <td>ESPaDOnS</td>\n",
       "      <td>14.430273</td>\n",
       "      <td>12.900477</td>\n",
       "      <td>11.837811</td>\n",
       "    </tr>\n",
       "    <tr>\n",
       "      <th>11</th>\n",
       "      <td>6676.79539</td>\n",
       "      <td>ESPaDOnS</td>\n",
       "      <td>14.346216</td>\n",
       "      <td>12.719781</td>\n",
       "      <td>11.657843</td>\n",
       "    </tr>\n",
       "    <tr>\n",
       "      <th>12</th>\n",
       "      <td>6677.86992</td>\n",
       "      <td>ESPaDOnS</td>\n",
       "      <td>14.355475</td>\n",
       "      <td>12.859035</td>\n",
       "      <td>11.794406</td>\n",
       "    </tr>\n",
       "    <tr>\n",
       "      <th>13</th>\n",
       "      <td>6678.74193</td>\n",
       "      <td>ESPaDOnS</td>\n",
       "      <td>14.532817</td>\n",
       "      <td>13.018117</td>\n",
       "      <td>11.954998</td>\n",
       "    </tr>\n",
       "    <tr>\n",
       "      <th>14</th>\n",
       "      <td>6678.89502</td>\n",
       "      <td>ESPaDOnS</td>\n",
       "      <td>14.492889</td>\n",
       "      <td>12.972126</td>\n",
       "      <td>11.913651</td>\n",
       "    </tr>\n",
       "    <tr>\n",
       "      <th>15</th>\n",
       "      <td>7344.86097</td>\n",
       "      <td>IGRINS</td>\n",
       "      <td>NaN</td>\n",
       "      <td>12.835812</td>\n",
       "      <td>NaN</td>\n",
       "    </tr>\n",
       "  </tbody>\n",
       "</table>\n",
       "</div>"
      ],
      "text/plain": [
       "    JD-2450000  Instrument      B_est      V_est      R_est\n",
       "0    781.71060       2MASS  14.022682  12.605329  11.250059\n",
       "1   4830.56369  TripleSpec        NaN  13.024335        NaN\n",
       "2   4830.77189  DoubleSpec        NaN  12.940781        NaN\n",
       "3   6665.72044    ESPaDOnS  14.404133  12.870791  11.802906\n",
       "4   6666.85048    ESPaDOnS  14.251631  12.687990  11.631952\n",
       "5   6667.77270    ESPaDOnS  14.371584  12.873431  11.808817\n",
       "6   6668.86991    ESPaDOnS  14.464463  12.938918  11.880174\n",
       "7   6672.89947    ESPaDOnS  14.417916  12.804548  11.731416\n",
       "8   6673.84079    ESPaDOnS  14.180595  12.670068  11.619317\n",
       "9   6674.77460    ESPaDOnS  14.512755  12.993301  11.926272\n",
       "10  6675.73957    ESPaDOnS  14.430273  12.900477  11.837811\n",
       "11  6676.79539    ESPaDOnS  14.346216  12.719781  11.657843\n",
       "12  6677.86992    ESPaDOnS  14.355475  12.859035  11.794406\n",
       "13  6678.74193    ESPaDOnS  14.532817  13.018117  11.954998\n",
       "14  6678.89502    ESPaDOnS  14.492889  12.972126  11.913651\n",
       "15  7344.86097      IGRINS        NaN  12.835812        NaN"
      ]
     },
     "execution_count": 109,
     "metadata": {},
     "output_type": "execute_result"
    }
   ],
   "source": [
    "eps"
   ]
  },
  {
   "cell_type": "code",
   "execution_count": 110,
   "metadata": {
    "collapsed": false
   },
   "outputs": [],
   "source": [
    "latex_fmts = [lambda x:\"{:0.4f}\".format(x), lambda x:\"{}\".format(x), \n",
    "        lambda x:\"{:0.2f}\".format(x), lambda x:\"{:0.2f}\".format(x), lambda x:\"{:0.2f}\".format(x)]"
   ]
  },
  {
   "cell_type": "code",
   "execution_count": 111,
   "metadata": {
    "collapsed": true
   },
   "outputs": [],
   "source": [
    "tbl_out = eps"
   ]
  },
  {
   "cell_type": "code",
   "execution_count": 112,
   "metadata": {
    "collapsed": false
   },
   "outputs": [
    {
     "name": "stdout",
     "output_type": "stream",
     "text": [
      "\\begin{tabular}{rlrrr}\n",
      "\\toprule\n",
      "JD-2450000 &  Instrument & B\\_est & V\\_est & R\\_est \\\\\n",
      "\\midrule\n",
      "  781.7106 &       2MASS & 14.02 & 12.61 & 11.25 \\\\\n",
      " 4830.5637 &  TripleSpec &   nan & 13.02 &   nan \\\\\n",
      " 4830.7719 &  DoubleSpec &   nan & 12.94 &   nan \\\\\n",
      " 6665.7204 &    ESPaDOnS & 14.40 & 12.87 & 11.80 \\\\\n",
      " 6666.8505 &    ESPaDOnS & 14.25 & 12.69 & 11.63 \\\\\n",
      " 6667.7727 &    ESPaDOnS & 14.37 & 12.87 & 11.81 \\\\\n",
      " 6668.8699 &    ESPaDOnS & 14.46 & 12.94 & 11.88 \\\\\n",
      " 6672.8995 &    ESPaDOnS & 14.42 & 12.80 & 11.73 \\\\\n",
      " 6673.8408 &    ESPaDOnS & 14.18 & 12.67 & 11.62 \\\\\n",
      " 6674.7746 &    ESPaDOnS & 14.51 & 12.99 & 11.93 \\\\\n",
      " 6675.7396 &    ESPaDOnS & 14.43 & 12.90 & 11.84 \\\\\n",
      " 6676.7954 &    ESPaDOnS & 14.35 & 12.72 & 11.66 \\\\\n",
      " 6677.8699 &    ESPaDOnS & 14.36 & 12.86 & 11.79 \\\\\n",
      " 6678.7419 &    ESPaDOnS & 14.53 & 13.02 & 11.95 \\\\\n",
      " 6678.8950 &    ESPaDOnS & 14.49 & 12.97 & 11.91 \\\\\n",
      " 7344.8610 &      IGRINS &   nan & 12.84 &   nan \\\\\n",
      "\\bottomrule\n",
      "\\end{tabular}\n",
      "\n"
     ]
    }
   ],
   "source": [
    "print(tbl_out.to_latex(index=False, na_rep='$\\cdots$', formatters=latex_fmts))"
   ]
  },
  {
   "cell_type": "markdown",
   "metadata": {},
   "source": [
    "## The end."
   ]
  }
 ],
 "metadata": {
  "kernelspec": {
   "display_name": "Python 3",
   "language": "python",
   "name": "python3"
  },
  "language_info": {
   "codemirror_mode": {
    "name": "ipython",
    "version": 3
   },
   "file_extension": ".py",
   "mimetype": "text/x-python",
   "name": "python",
   "nbconvert_exporter": "python",
   "pygments_lexer": "ipython3",
   "version": "3.4.4"
  }
 },
 "nbformat": 4,
 "nbformat_minor": 0
}
