{
 "cells": [
  {
   "cell_type": "markdown",
   "metadata": {},
   "source": [
    "# Welter issue #8\n",
    "## Set up the Starfish config.yaml files and directories\n",
    "### Part 2- For the visual spectrum\n",
    "\n",
    "Michael Gully-Santiago  \n",
    "Thursday, December 31, 2015  \n",
    "\n",
    "Let's do it."
   ]
  },
  {
   "cell_type": "code",
   "execution_count": 1,
   "metadata": {
    "collapsed": true
   },
   "outputs": [],
   "source": [
    "import warnings\n",
    "warnings.filterwarnings(\"ignore\")\n",
    "import numpy as np\n",
    "from astropy.io import fits\n",
    "import matplotlib.pyplot as plt"
   ]
  },
  {
   "cell_type": "code",
   "execution_count": 2,
   "metadata": {
    "collapsed": true
   },
   "outputs": [],
   "source": [
    "% matplotlib inline\n",
    "% config InlineBackend.figure_format = 'retina'\n",
    "import seaborn as sns\n",
    "sns.set_context('notebook')"
   ]
  },
  {
   "cell_type": "markdown",
   "metadata": {},
   "source": [
    "## Big loop."
   ]
  },
  {
   "cell_type": "code",
   "execution_count": 3,
   "metadata": {
    "collapsed": true
   },
   "outputs": [],
   "source": [
    "import Starfish\n",
    "import yaml\n",
    "import os\n",
    "import h5py"
   ]
  },
  {
   "cell_type": "markdown",
   "metadata": {},
   "source": [
    "We have to change: \n",
    "- `data/files`\n",
    "- `grid/hdf5_path`\n",
    "- `grid/wl_range`\n",
    "- `PCA/path`\n",
    "- `name`"
   ]
  },
  {
   "cell_type": "code",
   "execution_count": 7,
   "metadata": {
    "collapsed": false
   },
   "outputs": [
    {
     "name": "stdout",
     "output_type": "stream",
     "text": [
      "000: 5161  -  5200   ../data/reduced/optical/LkCa4_ESPaDOnS_eo000.hdf5\n",
      "wrote to ../sf/eo000/\n",
      "001: 5200  -  5263   ../data/reduced/optical/LkCa4_ESPaDOnS_eo001.hdf5\n",
      "wrote to ../sf/eo001/\n",
      "002: 5263  -  5327   ../data/reduced/optical/LkCa4_ESPaDOnS_eo002.hdf5\n",
      "wrote to ../sf/eo002/\n",
      "003: 5327  -  5395   ../data/reduced/optical/LkCa4_ESPaDOnS_eo003.hdf5\n",
      "wrote to ../sf/eo003/\n",
      "004: 5395  -  5464   ../data/reduced/optical/LkCa4_ESPaDOnS_eo004.hdf5\n",
      "wrote to ../sf/eo004/\n",
      "005: 5464  -  5536   ../data/reduced/optical/LkCa4_ESPaDOnS_eo005.hdf5\n",
      "wrote to ../sf/eo005/\n",
      "006: 5536  -  5611   ../data/reduced/optical/LkCa4_ESPaDOnS_eo006.hdf5\n",
      "wrote to ../sf/eo006/\n",
      "007: 5611  -  5689   ../data/reduced/optical/LkCa4_ESPaDOnS_eo007.hdf5\n",
      "wrote to ../sf/eo007/\n",
      "008: 5689  -  5769   ../data/reduced/optical/LkCa4_ESPaDOnS_eo008.hdf5\n",
      "wrote to ../sf/eo008/\n",
      "009: 5769  -  5853   ../data/reduced/optical/LkCa4_ESPaDOnS_eo009.hdf5\n",
      "wrote to ../sf/eo009/\n",
      "010: 5853  -  5941   ../data/reduced/optical/LkCa4_ESPaDOnS_eo010.hdf5\n",
      "skipping o=10\n",
      "011: 5941  -  6031   ../data/reduced/optical/LkCa4_ESPaDOnS_eo011.hdf5\n",
      "wrote to ../sf/eo011/\n",
      "012: 6032  -  6126   ../data/reduced/optical/LkCa4_ESPaDOnS_eo012.hdf5\n",
      "wrote to ../sf/eo012/\n",
      "013: 6126  -  6225   ../data/reduced/optical/LkCa4_ESPaDOnS_eo013.hdf5\n",
      "wrote to ../sf/eo013/\n",
      "014: 6225  -  6328   ../data/reduced/optical/LkCa4_ESPaDOnS_eo014.hdf5\n",
      "wrote to ../sf/eo014/\n",
      "015: 6328  -  6436   ../data/reduced/optical/LkCa4_ESPaDOnS_eo015.hdf5\n",
      "wrote to ../sf/eo015/\n",
      "016: 6436  -  6549   ../data/reduced/optical/LkCa4_ESPaDOnS_eo016.hdf5\n",
      "wrote to ../sf/eo016/\n",
      "017: 6549  -  6667   ../data/reduced/optical/LkCa4_ESPaDOnS_eo017.hdf5\n",
      "wrote to ../sf/eo017/\n",
      "018: 6667  -  6791   ../data/reduced/optical/LkCa4_ESPaDOnS_eo018.hdf5\n",
      "wrote to ../sf/eo018/\n",
      "019: 6791  -  6920   ../data/reduced/optical/LkCa4_ESPaDOnS_eo019.hdf5\n",
      "wrote to ../sf/eo019/\n",
      "020: 6920  -  7057   ../data/reduced/optical/LkCa4_ESPaDOnS_eo020.hdf5\n",
      "wrote to ../sf/eo020/\n",
      "021: 7057  -  7200   ../data/reduced/optical/LkCa4_ESPaDOnS_eo021.hdf5\n",
      "wrote to ../sf/eo021/\n",
      "022: 7201  -  7352   ../data/reduced/optical/LkCa4_ESPaDOnS_eo022.hdf5\n",
      "wrote to ../sf/eo022/\n",
      "023: 7352  -  7511   ../data/reduced/optical/LkCa4_ESPaDOnS_eo023.hdf5\n",
      "wrote to ../sf/eo023/\n",
      "024: 7511  -  7680   ../data/reduced/optical/LkCa4_ESPaDOnS_eo024.hdf5\n",
      "wrote to ../sf/eo024/\n",
      "025: 7680  -  7858   ../data/reduced/optical/LkCa4_ESPaDOnS_eo025.hdf5\n",
      "wrote to ../sf/eo025/\n",
      "026: 7858  -  8051   ../data/reduced/optical/LkCa4_ESPaDOnS_eo026.hdf5\n",
      "wrote to ../sf/eo026/\n",
      "027: 8051  -  8256   ../data/reduced/optical/LkCa4_ESPaDOnS_eo027.hdf5\n",
      "wrote to ../sf/eo027/\n",
      "028: 8256  -  8474   ../data/reduced/optical/LkCa4_ESPaDOnS_eo028.hdf5\n",
      "wrote to ../sf/eo028/\n",
      "029: 8474  -  8706   ../data/reduced/optical/LkCa4_ESPaDOnS_eo029.hdf5\n",
      "wrote to ../sf/eo029/\n",
      "030: 8706  -  8954   ../data/reduced/optical/LkCa4_ESPaDOnS_eo030.hdf5\n",
      "wrote to ../sf/eo030/\n",
      "031: 8954  -  9219   ../data/reduced/optical/LkCa4_ESPaDOnS_eo031.hdf5\n",
      "wrote to ../sf/eo031/\n",
      "032: 9219  -  9503   ../data/reduced/optical/LkCa4_ESPaDOnS_eo032.hdf5\n",
      "wrote to ../sf/eo032/\n",
      "033: 9503  -  9808   ../data/reduced/optical/LkCa4_ESPaDOnS_eo033.hdf5\n",
      "wrote to ../sf/eo033/\n",
      "034: 9808  -  10000   ../data/reduced/optical/LkCa4_ESPaDOnS_eo034.hdf5\n",
      "wrote to ../sf/eo034/\n"
     ]
    }
   ],
   "source": [
    "for o in range(35):\n",
    "    m = o + 0\n",
    "    dat_name = '../data/reduced/optical/LkCa4_ESPaDOnS_eo{:03d}.hdf5'.format(m)\n",
    "    path_out = '../sf/eo{:03d}/'.format(m)\n",
    "    sf_out = '../sf/eo{:03d}/config.yaml'.format(m)\n",
    "    \n",
    "    f = open(\"../sf/eo010/config.yaml\")\n",
    "    config = yaml.load(f)\n",
    "    f.close()\n",
    "    \n",
    "    f=h5py.File(dat_name, \"r\")\n",
    "    wls = f['wls'][:]\n",
    "    f.close()\n",
    "    \n",
    "    config['data']['files'] = ['/Users/gully/GitHub/welter/data/reduced/optical/LkCa4_ESPaDOnS_eo{:03d}.hdf5'.format(m)]\n",
    "    config['grid']['hdf5_path'] = '/Users/gully/GitHub/welter/sf/eo{:03d}/libraries/PHOENIX_ESPaDOnS_m{:03d}.hdf5'.format(m, m)\n",
    "    lb, ub = int(np.floor(wls[0])), int(np.ceil(wls[-1]))\n",
    "\n",
    "    config['grid']['wl_range'] = [lb, ub]\n",
    "    config['PCA']['path'] = '/Users/gully/GitHub/welter/sf/eo{:03d}/PHOENIX_ESPaDOnS_H_PCA.hdf5'.format(m)\n",
    "    config['name'] = 'LkCa4_eo{:03d}'.format(m)\n",
    "    config['Comments'] = 'LkCa4 single order: o = {}, autogenerated config file.'.format(m)\n",
    "    \n",
    "    print(\"{:03d}: {:.0f}  -  {:.0f}   {}\".format(m, wls[0], wls[-1], dat_name))\n",
    "    \n",
    "    if m!=10:\n",
    "        os.makedirs(path_out, exist_ok=True)\n",
    "        with open(sf_out, mode='w') as outfile:\n",
    "            outfile.write(yaml.dump(config))\n",
    "            print('wrote to {}'.format(path_out))\n",
    "    else:\n",
    "        print('skipping o=10')"
   ]
  },
  {
   "cell_type": "markdown",
   "metadata": {
    "collapsed": true
   },
   "source": [
    "## The end."
   ]
  }
 ],
 "metadata": {
  "kernelspec": {
   "display_name": "Python 3",
   "language": "python",
   "name": "python3"
  },
  "language_info": {
   "codemirror_mode": {
    "name": "ipython",
    "version": 3
   },
   "file_extension": ".py",
   "mimetype": "text/x-python",
   "name": "python",
   "nbconvert_exporter": "python",
   "pygments_lexer": "ipython3",
   "version": "3.4.3"
  }
 },
 "nbformat": 4,
 "nbformat_minor": 0
}
