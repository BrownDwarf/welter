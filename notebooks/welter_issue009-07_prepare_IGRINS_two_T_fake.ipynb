{
 "cells": [
  {
   "cell_type": "markdown",
   "metadata": {},
   "source": [
    "# Welter issue #9\n",
    "## Generate synthetic, noised-up two-temperature model spectra, then naively fit a single temperature model to it.\n",
    "### Part 7- Prepare for *IGRINS*\n",
    "\n",
    "Michael Gully-Santiago  \n",
    "Monday, January 11, 2016  \n",
    "\n",
    "See the previous notebook for the theory and background.\n",
    "\n",
    "Steps:\n",
    "1. Modify all the config and phi files to have the values from the MCMC run."
   ]
  },
  {
   "cell_type": "code",
   "execution_count": 1,
   "metadata": {
    "collapsed": false
   },
   "outputs": [],
   "source": [
    "import warnings\n",
    "warnings.filterwarnings(\"ignore\")\n",
    "import numpy as np\n",
    "from astropy.io import fits\n",
    "import matplotlib.pyplot as plt"
   ]
  },
  {
   "cell_type": "code",
   "execution_count": 2,
   "metadata": {
    "collapsed": true
   },
   "outputs": [],
   "source": [
    "% matplotlib inline\n",
    "% config InlineBackend.figure_format = 'retina'\n",
    "import seaborn as sns\n",
    "sns.set_context('paper', font_scale=1.4)\n",
    "sns.set_style('ticks')"
   ]
  },
  {
   "cell_type": "code",
   "execution_count": 3,
   "metadata": {
    "collapsed": true
   },
   "outputs": [],
   "source": [
    "import os\n",
    "import json\n",
    "import pandas as pd\n",
    "import yaml\n",
    "import h5py"
   ]
  },
  {
   "cell_type": "code",
   "execution_count": 4,
   "metadata": {
    "collapsed": true
   },
   "outputs": [],
   "source": [
    "sf_dat = pd.read_csv('../data/analysis/IGRINS_LkCa4_run02_last20kMCMC.csv')"
   ]
  },
  {
   "cell_type": "markdown",
   "metadata": {},
   "source": [
    "## Set the value of the config files to all the same values."
   ]
  },
  {
   "cell_type": "code",
   "execution_count": 16,
   "metadata": {
    "collapsed": true
   },
   "outputs": [],
   "source": [
    "ms = sf_dat.m_val[sf_dat.Teff_50p == sf_dat.Teff_50p]"
   ]
  },
  {
   "cell_type": "code",
   "execution_count": 17,
   "metadata": {
    "collapsed": false
   },
   "outputs": [
    {
     "data": {
      "text/plain": [
       "[<matplotlib.lines.Line2D at 0x119360048>]"
      ]
     },
     "execution_count": 17,
     "metadata": {},
     "output_type": "execute_result"
    },
    {
     "data": {
      "image/png": "[encoded data removed]",
      "text/plain": [
       "<matplotlib.figure.Figure at 0x11934e198>"
      ]
     },
     "metadata": {
      "image/png": {
       "height": 286,
       "width": 400
      }
     },
     "output_type": "display_data"
    }
   ],
   "source": [
    "plt.plot(sf_dat.m_val, sf_dat.ll_50p, '.')"
   ]
  },
  {
   "cell_type": "code",
   "execution_count": 18,
   "metadata": {
    "collapsed": false
   },
   "outputs": [],
   "source": [
    "for m in ms:\n",
    "    index = sf_dat.index[sf_dat.m_val == m]\n",
    "    mdir = 'm{:03d}'.format(m)\n",
    "    sf_out = '../sf/m{:03d}/config.yaml'.format(m)\n",
    "\n",
    "    f2 = open(sf_out)\n",
    "    config = yaml.load(f2)\n",
    "    f2.close()\n",
    "\n",
    "    ii = index.values[0]\n",
    "    \n",
    "    config['Theta']['grid'] = [4100.0, 3.5, 0.0]\n",
    "    config['Theta']['vsini'] = float(30.0)\n",
    "    config['Theta']['vz'] = float(95.0)\n",
    "    config['Theta']['logOmega'] = float(-0.26)\n",
    "    if (sf_dat.logO_50p[ii] == sf_dat.logO_50p[ii]):\n",
    "        config['Theta']['logOmega'] = float(sf_dat.logO_50p[ii])\n",
    "\n",
    "    with open(sf_out, mode='w') as outfile:\n",
    "        outfile.write(yaml.dump(config))"
   ]
  },
  {
   "cell_type": "code",
   "execution_count": 19,
   "metadata": {
    "collapsed": false
   },
   "outputs": [
    {
     "name": "stdout",
     "output_type": "stream",
     "text": [
      "actual: 76\n",
      "actual: 77\n",
      "actual: 78\n",
      "actual: 79\n",
      "actual: 80\n",
      "actual: 81\n",
      "actual: 82\n",
      "actual: 83\n",
      "actual: 84\n",
      "actual: 85\n",
      "actual: 86\n",
      "actual: 87\n",
      "actual: 88\n",
      "actual: 89\n",
      "actual: 90\n",
      "actual: 91\n"
     ]
    }
   ],
   "source": [
    "for m in ms:\n",
    "    index = sf_dat.index[sf_dat.m_val == m]\n",
    "    mdir = 'm{:03d}'.format(m)\n",
    "    \n",
    "    phi_out = '../sf/m{:03d}/s0_o0phi.json'.format(m)\n",
    "\n",
    "    jf = open(phi_out)\n",
    "    phi = json.load(jf)\n",
    "    jf.close()\n",
    "\n",
    "    ii = index.values[0]\n",
    "    \n",
    "    c1, c2, c3 = sf_dat.c1_50p[ii], sf_dat.c2_50p[ii], sf_dat.c3_50p[ii]\n",
    "    if c1 != c1:\n",
    "        print(\"default: {}\".format(m))\n",
    "        phi['cheb'] = [0.0,0.0,0.0]\n",
    "        phi['logAmp']= -1.95\n",
    "        phi['sigAmp']= 0.4\n",
    "        phi['l']= 10.0\n",
    "    if c1 == c1:\n",
    "        print(\"actual: {}\".format(m))\n",
    "        phi['cheb'] = [c1, c2, c3]\n",
    "        if sf_dat.LA_50p[ii] > -1.4:\n",
    "            phi['logAmp']= -1.4\n",
    "        else:\n",
    "            phi['logAmp']= sf_dat.LA_50p[ii]\n",
    "        phi['sigAmp']= sf_dat.SA_50p[ii]\n",
    "        phi['l']= sf_dat.ll_50p[ii]\n",
    "    \n",
    "    phi['fix_c0'] = True\n",
    "    \n",
    "    with open(phi_out, mode='w') as outfile:\n",
    "        json.dump(phi, outfile, indent=2)"
   ]
  },
  {
   "cell_type": "markdown",
   "metadata": {},
   "source": [
    "The end."
   ]
  }
 ],
 "metadata": {
  "kernelspec": {
   "display_name": "Python 3",
   "language": "python",
   "name": "python3"
  },
  "language_info": {
   "codemirror_mode": {
    "name": "ipython",
    "version": 3
   },
   "file_extension": ".py",
   "mimetype": "text/x-python",
   "name": "python",
   "nbconvert_exporter": "python",
   "pygments_lexer": "ipython3",
   "version": "3.4.3"
  }
 },
 "nbformat": 4,
 "nbformat_minor": 0
}
