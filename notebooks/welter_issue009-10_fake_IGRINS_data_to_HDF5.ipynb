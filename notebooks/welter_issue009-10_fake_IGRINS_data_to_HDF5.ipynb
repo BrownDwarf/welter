{
 "cells": [
  {
   "cell_type": "markdown",
   "metadata": {},
   "source": [
    "# Welter issue #9\n",
    "## Generate synthetic, noised-up two-temperature model spectra, then naively fit a single temperature model to it.\n",
    "### Part 10- Fake IGRINS Data to HDF5\n",
    "\n",
    "Michael Gully-Santiago  \n",
    "Monday, January 11, 2016  \n",
    "\n",
    "We can now save the synthetic data in an HDF5 file, as if it were real data."
   ]
  },
  {
   "cell_type": "code",
   "execution_count": 1,
   "metadata": {
    "collapsed": false
   },
   "outputs": [],
   "source": [
    "import warnings\n",
    "warnings.filterwarnings(\"ignore\")\n",
    "import numpy as np\n",
    "from astropy.io import fits\n",
    "import matplotlib.pyplot as plt"
   ]
  },
  {
   "cell_type": "code",
   "execution_count": 2,
   "metadata": {
    "collapsed": true
   },
   "outputs": [],
   "source": [
    "% matplotlib inline\n",
    "% config InlineBackend.figure_format = 'retina'\n",
    "import seaborn as sns\n",
    "sns.set_context('notebook')"
   ]
  },
  {
   "cell_type": "markdown",
   "metadata": {},
   "source": [
    "# Copy the real data, then replace the flux column with synthetic data."
   ]
  },
  {
   "cell_type": "code",
   "execution_count": 3,
   "metadata": {
    "collapsed": true
   },
   "outputs": [],
   "source": [
    "import os\n",
    "\n",
    "import json\n",
    "\n",
    "import h5py"
   ]
  },
  {
   "cell_type": "code",
   "execution_count": 9,
   "metadata": {
    "collapsed": true
   },
   "outputs": [],
   "source": [
    "os.chdir('/Users/gully/GitHub/welter/notebooks/')"
   ]
  },
  {
   "cell_type": "code",
   "execution_count": 5,
   "metadata": {
    "collapsed": false
   },
   "outputs": [],
   "source": [
    "for i in range(76, 91+1):\n",
    "\n",
    "    with open('../sf/m{:03d}/mixture_model.json'.format(i)) as f:\n",
    "        mmix = json.load(f)\n",
    "\n",
    "    f2 = h5py.File('../data/reduced/LkCa4_IGRINS_m{:03d}.hdf5'.format(i), mode='r')\n",
    "    name_out = 'LkCa4_Synthetic_sm{:03d}.hdf5'.format(i)\n",
    "    f3 = h5py.File('../data/synthetic/{}'.format(name_out), mode='w')\n",
    "\n",
    "    for key in ['masks', 'sigmas', 'wls']:\n",
    "        f3[key] = f2[key].value \n",
    "\n",
    "    f3['fls'] = np.array(mmix['mmix_noised'])\n",
    "\n",
    "    f2.close()\n",
    "    f3.close()"
   ]
  },
  {
   "cell_type": "markdown",
   "metadata": {},
   "source": [
    "## Set up the scripts for the next run: `run03`"
   ]
  },
  {
   "cell_type": "markdown",
   "metadata": {},
   "source": [
    "Need to:\n",
    "\n",
    "- Change config.yaml file\n",
    "    - Name, eo goes to so\n",
    "    - Data path goes to Synthetic, eo goes to so\n",
    "    - Use the configs set on gigayear\n",
    "    - (Replace Users with home on Phuket)\n",
    "    - Change Teff guess to, say, 4020\n",
    "- Run star.py --run_index\n",
    "\n"
   ]
  },
  {
   "cell_type": "code",
   "execution_count": 7,
   "metadata": {
    "collapsed": true
   },
   "outputs": [],
   "source": [
    "import yaml"
   ]
  },
  {
   "cell_type": "markdown",
   "metadata": {},
   "source": [
    "Set starting guesses."
   ]
  },
  {
   "cell_type": "markdown",
   "metadata": {
    "collapsed": true
   },
   "source": [
    "```python\n",
    "config['Comments'] = \"SYNTHETIC DATA simulating two-Temps: 3300 and 4100. The 4100 filling factor is 70 percent.\"\n",
    "config['Theta']['grid'] = [4000.0, 3.7, 0.0]\n",
    "config['Theta']['logOmega'] = -0.25\n",
    "config['Theta']['vsini'] = 30.0\n",
    "config['Theta']['vz'] = 90.0\n",
    "config['name'] = \"LkCa4_sm{:03d}\".format(i)\n",
    "config['data']['files'] = \"/Users/gully/GitHub/welter/data/synthetic/LkCa4_Synthetic_sm{:03d}.hdf5\".format(i)\n",
    "```"
   ]
  },
  {
   "cell_type": "code",
   "execution_count": 11,
   "metadata": {
    "collapsed": false
   },
   "outputs": [
    {
     "name": "stdout",
     "output_type": "stream",
     "text": [
      "76\n",
      "77\n",
      "78\n",
      "79\n",
      "80\n",
      "81\n",
      "82\n",
      "83\n",
      "84\n",
      "85\n",
      "86\n",
      "87\n",
      "88\n",
      "89\n",
      "90\n",
      "91\n"
     ]
    }
   ],
   "source": [
    "for i in range(76, 91+1):\n",
    "    print(i)\n",
    "    os.chdir('../sf/m{:03d}/'.format(i))\n",
    "\n",
    "    with open('config.yaml', mode='r') as f:\n",
    "        config = yaml.load(f)    \n",
    "\n",
    "    config['Comments'] = \"SYNTHETIC DATA simulating two-Temps: 3300 and 4100. The 4100 filling factor is 70 percent.\"\n",
    "    config['Theta']['grid'] = [4000.0, 3.7, 0.0]\n",
    "    config['Theta']['logOmega'] = -0.25\n",
    "    config['Theta']['vsini'] = 30.0\n",
    "    config['Theta']['vz'] = 90.0\n",
    "    config['name'] = \"LkCa4_sm{:03d}\".format(i)\n",
    "    config['data']['files'] = [\"/Users/gully/GitHub/welter/data/synthetic/LkCa4_Synthetic_sm{:03d}.hdf5\".format(i)]\n",
    "    with open('config.yaml', mode='w') as f:\n",
    "        f.write(yaml.dump(config))\n",
    "\n",
    "    os.system('star.py --run_index 3')\n",
    "\n",
    "    # Save mixture model\n",
    "\n",
    "    os.chdir('/Users/gully/GitHub/welter/notebooks/')"
   ]
  },
  {
   "cell_type": "code",
   "execution_count": null,
   "metadata": {
    "collapsed": true
   },
   "outputs": [],
   "source": []
  }
 ],
 "metadata": {
  "kernelspec": {
   "display_name": "Python 3",
   "language": "python",
   "name": "python3"
  },
  "language_info": {
   "codemirror_mode": {
    "name": "ipython",
    "version": 3
   },
   "file_extension": ".py",
   "mimetype": "text/x-python",
   "name": "python",
   "nbconvert_exporter": "python",
   "pygments_lexer": "ipython3",
   "version": "3.4.3"
  }
 },
 "nbformat": 4,
 "nbformat_minor": 0
}
