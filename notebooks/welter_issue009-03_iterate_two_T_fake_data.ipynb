{
 "cells": [
  {
   "cell_type": "markdown",
   "metadata": {},
   "source": [
    "# Welter issue #9\n",
    "## Generate synthetic, noised-up two-temperature model spectra, then naively fit a single temperature model to it.\n",
    "### Part 2- Iterate\n",
    "\n",
    "Michael Gully-Santiago  \n",
    "Friday, January 8, 2015  \n",
    "\n",
    "We now need to iterate."
   ]
  },
  {
   "cell_type": "code",
   "execution_count": 1,
   "metadata": {
    "collapsed": false
   },
   "outputs": [],
   "source": [
    "import warnings\n",
    "warnings.filterwarnings(\"ignore\")\n",
    "import numpy as np\n",
    "from astropy.io import fits\n",
    "import matplotlib.pyplot as plt"
   ]
  },
  {
   "cell_type": "code",
   "execution_count": 2,
   "metadata": {
    "collapsed": true
   },
   "outputs": [],
   "source": [
    "% matplotlib inline\n",
    "% config InlineBackend.figure_format = 'retina'\n",
    "import seaborn as sns\n",
    "sns.set_context('notebook')"
   ]
  },
  {
   "cell_type": "markdown",
   "metadata": {},
   "source": [
    "See the previous notebook for the theory and background."
   ]
  },
  {
   "cell_type": "code",
   "execution_count": 3,
   "metadata": {
    "collapsed": true
   },
   "outputs": [],
   "source": [
    "import os\n",
    "import json\n",
    "import pandas as pd\n",
    "import yaml"
   ]
  },
  {
   "cell_type": "markdown",
   "metadata": {},
   "source": [
    "## Make mixture model\n",
    "Assumes you have run splot.py and renamed the model json file to model_a and model_b."
   ]
  },
  {
   "cell_type": "code",
   "execution_count": 4,
   "metadata": {
    "collapsed": false
   },
   "outputs": [],
   "source": [
    "def make_mixture_model():\n",
    "    try:\n",
    "        with open('model_A_spec.json') as f:\n",
    "            ma_raw = json.load(f)\n",
    "\n",
    "        with open('model_B_spec.json') as f:\n",
    "            mb_raw = json.load(f)\n",
    "    except FileNotFoundError:\n",
    "        print(\"You need to have the model_A and model_B spectral json files in place first.\")\n",
    "        \n",
    "    r_factor = 1.0/2.39894\n",
    "    wl = np.array(ma_raw['wl'])\n",
    "    fl_ma = np.array(ma_raw['model'])\n",
    "    nd_ma = np.array(ma_raw['noise_draw'])\n",
    "    fl_mb_raw = np.array(mb_raw['model'])\n",
    "    nd_mb_raw = np.array(mb_raw['noise_draw'])\n",
    "\n",
    "    #Scale the flux (and noise spectrum) by the cofactor $r$ as discussed above.\n",
    "    fl_mb = fl_mb_raw * r_factor\n",
    "    nd_mb = nd_mb_raw * r_factor\n",
    "\n",
    "    # Mixture model\n",
    "    c = 0.70\n",
    "\n",
    "    mmix = c * fl_ma + (1 - c) * fl_mb\n",
    "    ndmix = 0.5 * (c * nd_ma + (1 - c) * nd_mb) # Remove the factor of 2.\n",
    "\n",
    "    mmix_noised = mmix + ndmix\n",
    "    return {\"wl\":wl.tolist(), \"mmix\":mmix.tolist(), \"mmix_noised\":mmix_noised.tolist()}"
   ]
  },
  {
   "cell_type": "markdown",
   "metadata": {},
   "source": [
    "## Automate the mixture model making"
   ]
  },
  {
   "cell_type": "code",
   "execution_count": 5,
   "metadata": {
    "collapsed": true
   },
   "outputs": [],
   "source": [
    "os.chdir('/Users/gully/GitHub/welter/notebooks/')"
   ]
  },
  {
   "cell_type": "code",
   "execution_count": null,
   "metadata": {
    "collapsed": false
   },
   "outputs": [],
   "source": [
    "for i in range(0, 34+1):\n",
    "    print(i)\n",
    "    os.chdir('../sf/eo{:03d}/'.format(i))\n",
    "\n",
    "    # Make model A\n",
    "    with open('config.yaml', mode='r') as f:\n",
    "        config = yaml.load(f)    \n",
    "\n",
    "    config['Theta']['grid'] = [4100.0, 3.5, 0.0]\n",
    "    with open('config.yaml', mode='w') as f:\n",
    "        f.write(yaml.dump(config))\n",
    "\n",
    "    os.system('star.py --generate')\n",
    "    os.system('splot.py s0_o0spec.json --matplotlib --noise --save_draw')\n",
    "    os.system('mv model_spec.json model_A_spec.json')\n",
    "\n",
    "    # Make model B\n",
    "    with open('config.yaml', mode='r') as f:\n",
    "        config = yaml.load(f)    \n",
    "\n",
    "    config['Theta']['grid'] = [3300.0, 3.5, 0.0]\n",
    "    with open('config.yaml', mode='w') as f:\n",
    "        f.write(yaml.dump(config))\n",
    "\n",
    "    os.system('star.py --generate')\n",
    "    os.system('splot.py s0_o0spec.json --matplotlib --noise --save_draw')\n",
    "    os.system('mv model_spec.json model_B_spec.json')\n",
    "\n",
    "    # Make mixture model\n",
    "    my_dict = make_mixture_model()\n",
    "\n",
    "    # Save mixture model\n",
    "    with open(\"mixture_model.json\", mode='w') as f:\n",
    "        json.dump(my_dict, f, indent=2, sort_keys=True)\n",
    "\n",
    "    os.chdir('/Users/gully/GitHub/welter/notebooks/')"
   ]
  },
  {
   "cell_type": "code",
   "execution_count": null,
   "metadata": {
    "collapsed": true
   },
   "outputs": [],
   "source": []
  }
 ],
 "metadata": {
  "kernelspec": {
   "display_name": "Python 3",
   "language": "python",
   "name": "python3"
  },
  "language_info": {
   "codemirror_mode": {
    "name": "ipython",
    "version": 3
   },
   "file_extension": ".py",
   "mimetype": "text/x-python",
   "name": "python",
   "nbconvert_exporter": "python",
   "pygments_lexer": "ipython3",
   "version": "3.4.3"
  }
 },
 "nbformat": 4,
 "nbformat_minor": 0
}
