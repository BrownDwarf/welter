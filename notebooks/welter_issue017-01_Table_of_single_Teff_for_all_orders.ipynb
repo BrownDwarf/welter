{
 "cells": [
  {
   "cell_type": "markdown",
   "metadata": {},
   "source": [
    "# Welter issue #17\n",
    "## Teff vs order\n",
    "### Part 1: Make a Table\n",
    "\n",
    "Michael Gully-Santiago  \n",
    "Monday, June 28, 2016  \n",
    "\n",
    "See [Issue17](https://github.com/BrownDwarf/welter/issues/17)"
   ]
  },
  {
   "cell_type": "code",
   "execution_count": 1,
   "metadata": {
    "collapsed": false
   },
   "outputs": [],
   "source": [
    "import warnings\n",
    "warnings.filterwarnings(\"ignore\")\n",
    "import numpy as np\n",
    "from astropy.io import fits\n",
    "import matplotlib.pyplot as plt"
   ]
  },
  {
   "cell_type": "code",
   "execution_count": 2,
   "metadata": {
    "collapsed": true
   },
   "outputs": [],
   "source": [
    "% matplotlib inline\n",
    "% config InlineBackend.figure_format = 'retina'\n",
    "import seaborn as sns\n",
    "sns.set_context('notebook')"
   ]
  },
  {
   "cell_type": "code",
   "execution_count": 3,
   "metadata": {
    "collapsed": true
   },
   "outputs": [],
   "source": [
    "import pandas as pd"
   ]
  },
  {
   "cell_type": "markdown",
   "metadata": {},
   "source": [
    "## Retrieve aggregated data for single-$T_{\\rm eff}$ Starfish runs for all spectral orders."
   ]
  },
  {
   "cell_type": "code",
   "execution_count": 4,
   "metadata": {
    "collapsed": true
   },
   "outputs": [],
   "source": [
    "IG_run01 = pd.read_csv('../data/analysis/IGRINS_LkCa4_run01_last20kMCMC.csv')\n",
    "IG_run02 = pd.read_csv('../data/analysis/IGRINS_LkCa4_run02_last20kMCMC.csv')\n",
    "ES_run01 = pd.read_csv('../data/analysis/IGRINS_ESPaDOnS_run01_last10kMCMC.csv')"
   ]
  },
  {
   "cell_type": "markdown",
   "metadata": {},
   "source": [
    "Add metadata and merge the data into a single DataFrame:\n",
    "- Use H-band from Run01\n",
    "- Use K-band from Run02\n",
    "- Trim extra columns from ESPaDoNs\n",
    "- Add `Instrument` column\n",
    "- Add `Run` column\n",
    "- *optional* Add run bounds"
   ]
  },
  {
   "cell_type": "code",
   "execution_count": 5,
   "metadata": {
    "collapsed": true
   },
   "outputs": [],
   "source": [
    "IG_run01['Run_num'] = 'run01'\n",
    "IG_run02['Run_num'] = 'run02'\n",
    "\n",
    "IG = pd.concat([IG_run01[IG_run01.band=='H'], \n",
    "                IG_run02[IG_run01.band=='K']], ignore_index=True)\n",
    "\n",
    "IG['Instrument'] = 'IGRINS'"
   ]
  },
  {
   "cell_type": "code",
   "execution_count": 6,
   "metadata": {
    "collapsed": false
   },
   "outputs": [],
   "source": [
    "ES_run01.rename(columns={\"m_val_x\":\"m_val\"}, inplace=True)\n",
    "ES_run01.drop(['m_val_y', 'm_int'], axis=1, inplace=True)\n",
    "\n",
    "#print(set(IG.columns)-set(ES_run01.columns))\n",
    "ES_run01['Instrument'] = 'ESPaDoNs'\n",
    "ES_run01['Run_num'] = 'run01'\n",
    "ES_run01['band'] = 'VRI'\n",
    "ES_run01['tell_trans'] = 1.0 #Approximately...\n",
    "\n",
    "SF_single_Teff = pd.concat([ES_run01, IG], ignore_index=True)\n",
    "SF_single_Teff = SF_single_Teff[IG.columns]"
   ]
  },
  {
   "cell_type": "markdown",
   "metadata": {},
   "source": [
    "## Demarcate upper limits"
   ]
  },
  {
   "cell_type": "code",
   "execution_count": 7,
   "metadata": {
    "collapsed": true
   },
   "outputs": [],
   "source": [
    "SF_single_Teff['up_limit'] = False"
   ]
  },
  {
   "cell_type": "code",
   "execution_count": 8,
   "metadata": {
    "collapsed": false
   },
   "outputs": [],
   "source": [
    "bi = ((SF_single_Teff.Teff_05p < 3530) & \n",
    "      (SF_single_Teff.Instrument == 'IGRINS') & \n",
    "      (SF_single_Teff.Run_num == 'run01'))"
   ]
  },
  {
   "cell_type": "code",
   "execution_count": 9,
   "metadata": {
    "collapsed": true
   },
   "outputs": [],
   "source": [
    "SF_single_Teff.up_limit[bi] = True"
   ]
  },
  {
   "cell_type": "markdown",
   "metadata": {},
   "source": [
    "## Read in the flux ratio"
   ]
  },
  {
   "cell_type": "code",
   "execution_count": 16,
   "metadata": {
    "collapsed": true
   },
   "outputs": [],
   "source": [
    "bb_rat = pd.read_csv('../data/analysis/rat_BB_2800_4100.csv', )\n",
    "phx_rat = pd.read_csv('../data/analysis/rat_PHX_2800_4100.csv',)"
   ]
  },
  {
   "cell_type": "markdown",
   "metadata": {},
   "source": [
    "## Plot of $T_{eff}$ vs. spectral order"
   ]
  },
  {
   "cell_type": "code",
   "execution_count": 10,
   "metadata": {
    "collapsed": true
   },
   "outputs": [],
   "source": [
    "orders = SF_single_Teff\n",
    "N_orders = len(orders)"
   ]
  },
  {
   "cell_type": "code",
   "execution_count": 11,
   "metadata": {
    "collapsed": true
   },
   "outputs": [],
   "source": [
    "sns.set_style('ticks')"
   ]
  },
  {
   "cell_type": "code",
   "execution_count": 35,
   "metadata": {
    "collapsed": true
   },
   "outputs": [],
   "source": [
    "sns.set_context('paper', font_scale=1.25)"
   ]
  },
  {
   "cell_type": "code",
   "execution_count": 53,
   "metadata": {
    "collapsed": false
   },
   "outputs": [
    {
     "data": {
      "image/png": "[encoded data removed]",
      "text/plain": [
       "<matplotlib.figure.Figure at 0x120aaf748>"
      ]
     },
     "metadata": {
      "image/png": {
       "height": 374,
       "width": 377
      }
     },
     "output_type": "display_data"
    }
   ],
   "source": [
    "fig = plt.figure(figsize=(5, 5))\n",
    "\n",
    "fig.subplots_adjust(left=0.09, bottom=0.08, hspace=0.0, right=0.92, top=0.95)\n",
    "\n",
    "# Plot 1 - Teff vs wavelength\n",
    "ax1 = fig.add_subplot(211)\n",
    "\n",
    "#ax.plot(orders.wl_center, orders.Teff_50p, 'k.', alpha=1.0)\n",
    "yerr = orders.Teff_95p - orders.Teff_50p\n",
    "ax1.errorbar(orders.wl_center, orders.Teff_50p, yerr=yerr, fmt='k.', uplims=orders.up_limit, capthick=1, alpha=1.0)\n",
    "ax1.xaxis.set_major_locator(plt.NullLocator())\n",
    "\n",
    "ax1.set_ylim(2700, 4500)\n",
    "ax1.set_xlim(5000, 26000)\n",
    "ax1.set_ylabel('$T_{\\mathrm{eff}}$ (K)')\n",
    "#ax.set_xlabel('$\\lambda \\,(\\AA $)')\n",
    "\n",
    "\n",
    "ax = fig.add_subplot(212)\n",
    "\n",
    "ax.plot(bb_rat.wavelength, bb_rat.ratio, 'r--', label='Black body')\n",
    "ax.plot(phx_rat.wavelength, phx_rat.ratio, label = 'Phoenix models')\n",
    "\n",
    "ax.set_xlabel('$\\lambda \\, (\\AA)$')\n",
    "ax.set_ylabel('$f_\\lambda(2800) / f_\\lambda(4100)$')\n",
    "ax.legend(loc='best')\n",
    "ax.set_xlim(5000, 25000)\n",
    "ax.set_ylim(0, 0.6)\n",
    "\n",
    "plt.savefig('../document/figures/single_Teff_v_order.pdf', bbox_inches='tight')"
   ]
  },
  {
   "cell_type": "markdown",
   "metadata": {},
   "source": [
    "## Make a Latex Table of Single $T_{\\rm eff}$ for all orders"
   ]
  },
  {
   "cell_type": "code",
   "execution_count": 14,
   "metadata": {
    "collapsed": false
   },
   "outputs": [],
   "source": [
    "latex_out = pd.DataFrame()"
   ]
  },
  {
   "cell_type": "code",
   "execution_count": 15,
   "metadata": {
    "collapsed": true
   },
   "outputs": [],
   "source": [
    "finite_orders = orders[orders.Teff_50p == orders.Teff_50p]"
   ]
  },
  {
   "cell_type": "code",
   "execution_count": 16,
   "metadata": {
    "collapsed": false
   },
   "outputs": [],
   "source": [
    "fo = finite_orders.sort_values('wl_center')"
   ]
  },
  {
   "cell_type": "code",
   "execution_count": 17,
   "metadata": {
    "collapsed": true
   },
   "outputs": [],
   "source": [
    "latex_out['Order'] = fo.m_val"
   ]
  },
  {
   "cell_type": "code",
   "execution_count": 18,
   "metadata": {
    "collapsed": false
   },
   "outputs": [],
   "source": [
    "latex_out['Instrument'] = fo.Instrument"
   ]
  },
  {
   "cell_type": "code",
   "execution_count": 19,
   "metadata": {
    "collapsed": false
   },
   "outputs": [],
   "source": [
    "latex_out['wavelength_range'] = (fo.wl_start.apply(lambda x:\"{}\".format(int(np.floor(x))))+'$-$'+\n",
    "       fo.wl_end.apply(lambda x:\"{}\".format(int(np.ceil(x)))))"
   ]
  },
  {
   "cell_type": "markdown",
   "metadata": {},
   "source": [
    "We want plus/minus ranges: $3800^{+100}_{-50}$\n",
    "\n",
    "`3800^{+100}_{-50}`"
   ]
  },
  {
   "cell_type": "code",
   "execution_count": 20,
   "metadata": {
    "collapsed": true
   },
   "outputs": [],
   "source": [
    "fo['plus_error'] = fo.Teff_95p-fo.Teff_50p\n",
    "fo['minus_error'] = fo.Teff_50p-fo.Teff_05p"
   ]
  },
  {
   "cell_type": "code",
   "execution_count": 21,
   "metadata": {
    "collapsed": true
   },
   "outputs": [],
   "source": [
    "latex_out['Teff'] = ('$'+fo.Teff_50p.apply(lambda x:\"{}\".format(int(x)))+'^{+'+\n",
    "                     fo.plus_error.apply(lambda x:\"{}\".format(int(x)))+'}_{-'+\n",
    "                     fo.minus_error.apply(lambda x:\"{}\".format(int(x)))+'}$')"
   ]
  },
  {
   "cell_type": "code",
   "execution_count": 22,
   "metadata": {
    "collapsed": false
   },
   "outputs": [],
   "source": [
    "latex_out.Teff[fo.up_limit] = ('$<'+fo.Teff_95p.apply(lambda x:\"{}\".format(int(x)))+'$')"
   ]
  },
  {
   "cell_type": "code",
   "execution_count": 23,
   "metadata": {
    "collapsed": false
   },
   "outputs": [],
   "source": [
    "latex_out['Teff1'], latex_out['Teff2'], latex_out['f'] = np.NaN, np.NaN, np.NaN"
   ]
  },
  {
   "cell_type": "code",
   "execution_count": 24,
   "metadata": {
    "collapsed": false
   },
   "outputs": [],
   "source": [
    "latex_out.to_latex('../document/tables/tbl_order_results_raw.tex', na_rep='---', index=False, escape=False)"
   ]
  },
  {
   "cell_type": "code",
   "execution_count": 28,
   "metadata": {
    "collapsed": false
   },
   "outputs": [],
   "source": [
    "orders.to_csv('../data/analysis/orders_LkCa4_oneTeff.csv', index=False)\n",
    "latex_out.to_csv('../data/analysis/latex_TeffOrder_table.csv', index=False)"
   ]
  },
  {
   "cell_type": "markdown",
   "metadata": {},
   "source": [
    "## The end."
   ]
  }
 ],
 "metadata": {
  "kernelspec": {
   "display_name": "Python 3",
   "language": "python",
   "name": "python3"
  },
  "language_info": {
   "codemirror_mode": {
    "name": "ipython",
    "version": 3
   },
   "file_extension": ".py",
   "mimetype": "text/x-python",
   "name": "python",
   "nbconvert_exporter": "python",
   "pygments_lexer": "ipython3",
   "version": "3.4.5"
  }
 },
 "nbformat": 4,
 "nbformat_minor": 0
}
