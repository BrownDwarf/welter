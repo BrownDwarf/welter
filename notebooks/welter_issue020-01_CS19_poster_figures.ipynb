{
 "cells": [
  {
   "cell_type": "code",
   "execution_count": null,
   "metadata": {
    "collapsed": true
   },
   "outputs": [],
   "source": [
    "import os\n",
    "import json\n",
    "import numpy as np"
   ]
  },
  {
   "cell_type": "code",
   "execution_count": null,
   "metadata": {
    "collapsed": false
   },
   "outputs": [],
   "source": [
    "import matplotlib.pyplot as plt\n",
    "import seaborn as sns\n",
    "%matplotlib notebook\n",
    "%config InlineBackend.figure_format = 'retina'"
   ]
  },
  {
   "cell_type": "markdown",
   "metadata": {},
   "source": [
    "Read in the data."
   ]
  },
  {
   "cell_type": "code",
   "execution_count": null,
   "metadata": {
    "collapsed": true
   },
   "outputs": [],
   "source": [
    "%matplotlib inline"
   ]
  },
  {
   "cell_type": "code",
   "execution_count": null,
   "metadata": {
    "collapsed": true
   },
   "outputs": [],
   "source": [
    "with open('../sf/m074/output/mix_emcee/run01/mix_spec.json') as f:\n",
    "    dat = json.load(f)"
   ]
  },
  {
   "cell_type": "code",
   "execution_count": null,
   "metadata": {
    "collapsed": false
   },
   "outputs": [],
   "source": [
    "dat.keys()"
   ]
  },
  {
   "cell_type": "code",
   "execution_count": null,
   "metadata": {
    "collapsed": false
   },
   "outputs": [],
   "source": [
    "plt.plot(dat['wl'], dat['data'])\n",
    "plt.plot(dat['wl'], dat['composite'])\n",
    "plt.plot(dat['wl'], dat['model2_cool'])\n",
    "plt.plot(dat['wl'], dat['model1_hot'])"
   ]
  },
  {
   "cell_type": "code",
   "execution_count": null,
   "metadata": {
    "collapsed": true
   },
   "outputs": [],
   "source": [
    "ws = np.load('../sf/m074/output/mix_emcee/run01/emcee_chain.npy')"
   ]
  },
  {
   "cell_type": "code",
   "execution_count": null,
   "metadata": {
    "collapsed": true
   },
   "outputs": [],
   "source": [
    "burned = ws[:, 4000:,:]\n",
    "xs, ys, zs = burned.shape\n",
    "fc = burned.reshape(xs*ys, zs)\n",
    "nx, ny = fc.shape"
   ]
  },
  {
   "cell_type": "code",
   "execution_count": null,
   "metadata": {
    "collapsed": false
   },
   "outputs": [],
   "source": [
    "fc.shape"
   ]
  },
  {
   "cell_type": "code",
   "execution_count": null,
   "metadata": {
    "collapsed": true
   },
   "outputs": [],
   "source": [
    "import corner"
   ]
  },
  {
   "cell_type": "code",
   "execution_count": null,
   "metadata": {
    "collapsed": true
   },
   "outputs": [],
   "source": [
    "bb = 10**fc[:,7] / ( 10**fc[:,5] + 10**fc[:,7] )"
   ]
  },
  {
   "cell_type": "code",
   "execution_count": null,
   "metadata": {
    "collapsed": true
   },
   "outputs": [],
   "source": [
    "d3 = np.vstack((fc[:, 0], fc[:,6], bb)).T"
   ]
  },
  {
   "cell_type": "code",
   "execution_count": null,
   "metadata": {
    "collapsed": false
   },
   "outputs": [],
   "source": [
    "d3.shape"
   ]
  },
  {
   "cell_type": "code",
   "execution_count": null,
   "metadata": {
    "collapsed": true
   },
   "outputs": [],
   "source": [
    "sns.set_context('talk')\n",
    "sns.set_style('ticks')"
   ]
  },
  {
   "cell_type": "code",
   "execution_count": null,
   "metadata": {
    "collapsed": false,
    "scrolled": false
   },
   "outputs": [],
   "source": [
    "label = [\"$T_{\\mathrm{eff}}$\", \"$T_{\\mathrm{eff, 2}}$\", \"$f$\"] \n",
    "fig = corner.corner(d3, labels=label, range=[(2800,4200),(2800,4400),(0,1)], show_titles=True, \n",
    "                    top_ticks=False)\n",
    "#fig.savefig('twelve_parameter_corner.png', dpi=300)"
   ]
  },
  {
   "cell_type": "code",
   "execution_count": null,
   "metadata": {
    "collapsed": true
   },
   "outputs": [],
   "source": [
    "#sns.violinplot()"
   ]
  },
  {
   "cell_type": "markdown",
   "metadata": {},
   "source": [
    "# A stack of all the spectra in one figure"
   ]
  },
  {
   "cell_type": "markdown",
   "metadata": {},
   "source": [
    "## K-band"
   ]
  },
  {
   "cell_type": "code",
   "execution_count": null,
   "metadata": {
    "collapsed": false,
    "scrolled": false
   },
   "outputs": [],
   "source": [
    "ms = np.arange(72, 94, 1)\n",
    "#ms = np.arange(72, 78, 1)\n",
    "n_components = len(ms)\n",
    "\n",
    "sns.set_context('talk')\n",
    "\n",
    "fig = plt.figure(figsize=(6, 46))\n",
    "fig.subplots_adjust(bottom=0.1, top=0.9, hspace=0.3)\n",
    "\n",
    "for i in range(n_components):\n",
    "    m = ms[i]\n",
    "    with open('../sf/m{:03d}/output/mix_emcee/run01/mix_spec.json'.format(m)) as f:\n",
    "        dat = json.load(f)\n",
    "    ax = fig.add_subplot(n_components, 1, i+1)\n",
    "    ax.step(dat['wl'], dat['data'], 'k')\n",
    "    ax.plot(dat['wl'], dat['composite'], 'g')\n",
    "    ax.plot(dat['wl'], dat['model2_cool'], 'b')\n",
    "    ax.plot(dat['wl'], dat['model1_hot'], 'r')\n",
    "    ax.text(dat['wl'][0]+5.0, 0.7, \"m = {}\".format(m), fontsize=12)\n",
    "    ax.set_xlim(dat['wl'][0], dat['wl'][-1])\n",
    "    ax.set_yscale('log')\n",
    "    ax.set_ylim(0.14, 0.8)\n",
    "    if i == n_components-1:\n",
    "        ax.set_xlabel('$\\lambda$ (\\AA)')\n",
    "plt.savefig('../results/fig/All_Kband_IGRINS_spectra.pdf', bbox_inches='tight')"
   ]
  },
  {
   "cell_type": "markdown",
   "metadata": {},
   "source": [
    "## H-band"
   ]
  },
  {
   "cell_type": "code",
   "execution_count": null,
   "metadata": {
    "collapsed": false,
    "scrolled": false
   },
   "outputs": [],
   "source": [
    "ms = np.arange(99, 118+1, 1)\n",
    "#ms = np.arange(72, 78, 1)\n",
    "n_components = len(ms)\n",
    "\n",
    "sns.set_context('talk')\n",
    "\n",
    "fig = plt.figure(figsize=(6, 46))\n",
    "fig.subplots_adjust(bottom=0.1, top=0.9, hspace=0.3)\n",
    "\n",
    "for i in range(n_components):\n",
    "    m = ms[i]\n",
    "    with open('../sf/m{:03d}/output/mix_emcee/run01/mix_spec.json'.format(m)) as f:\n",
    "        dat = json.load(f)\n",
    "    ax = fig.add_subplot(n_components, 1, i+1)\n",
    "    ax.step(dat['wl'], dat['data'], 'k')\n",
    "    ax.plot(dat['wl'], dat['composite'], 'g')\n",
    "    ax.plot(dat['wl'], dat['model2_cool'], 'b')\n",
    "    ax.plot(dat['wl'], dat['model1_hot'], 'r')\n",
    "    ax.text(dat['wl'][0]+5.0, 0.14, \"m = {}\".format(m), fontsize=12)\n",
    "    ax.set_xlim(dat['wl'][0], dat['wl'][-1])\n",
    "    ax.set_ylim(0.1, 0.65)\n",
    "    ax.set_yscale('log')\n",
    "    if i == n_components-1:\n",
    "        ax.set_xlabel('$\\lambda$ ($\\AA$)')\n",
    "plt.savefig('../results/fig/All_Hband_IGRINS_spectra.pdf', bbox_inches='tight')"
   ]
  },
  {
   "cell_type": "markdown",
   "metadata": {},
   "source": [
    "Now combine for all orders..."
   ]
  },
  {
   "cell_type": "markdown",
   "metadata": {},
   "source": [
    "# The end."
   ]
  }
 ],
 "metadata": {
  "kernelspec": {
   "display_name": "Python 3",
   "language": "python",
   "name": "python3"
  },
  "language_info": {
   "codemirror_mode": {
    "name": "ipython",
    "version": 3
   },
   "file_extension": ".py",
   "mimetype": "text/x-python",
   "name": "python",
   "nbconvert_exporter": "python",
   "pygments_lexer": "ipython3",
   "version": "3.4.4"
  }
 },
 "nbformat": 4,
 "nbformat_minor": 0
}
