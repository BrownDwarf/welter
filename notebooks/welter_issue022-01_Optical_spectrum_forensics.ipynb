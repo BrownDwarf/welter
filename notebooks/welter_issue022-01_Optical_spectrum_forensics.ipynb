{
 "cells": [
  {
   "cell_type": "markdown",
   "metadata": {},
   "source": [
    "# Welter issue #22\n",
    "## Which spectrum was I using to make the famous Teff vs. Order plot?\n",
    "\n",
    "Michael Gully-Santiago  \n",
    "Monday, June 27, 2016  \n",
    "\n",
    "Which 1?"
   ]
  },
  {
   "cell_type": "code",
   "execution_count": 1,
   "metadata": {
    "collapsed": false
   },
   "outputs": [],
   "source": [
    "import warnings\n",
    "warnings.filterwarnings(\"ignore\")\n",
    "import numpy as np\n",
    "from astropy.io import fits\n",
    "import matplotlib.pyplot as plt"
   ]
  },
  {
   "cell_type": "code",
   "execution_count": 2,
   "metadata": {
    "collapsed": true
   },
   "outputs": [],
   "source": [
    "% matplotlib inline\n",
    "% config InlineBackend.figure_format = 'retina'\n",
    "import seaborn as sns\n",
    "sns.set_context('notebook')"
   ]
  },
  {
   "cell_type": "code",
   "execution_count": 3,
   "metadata": {
    "collapsed": true
   },
   "outputs": [],
   "source": [
    "import h5py"
   ]
  },
  {
   "cell_type": "code",
   "execution_count": 4,
   "metadata": {
    "collapsed": true
   },
   "outputs": [],
   "source": [
    "import pandas as pd"
   ]
  },
  {
   "cell_type": "markdown",
   "metadata": {},
   "source": [
    "### We need the meta data about the optical spectral orders "
   ]
  },
  {
   "cell_type": "code",
   "execution_count": 5,
   "metadata": {
    "collapsed": true
   },
   "outputs": [],
   "source": [
    "start_wl = []\n",
    "end_wl = []\n",
    "center_wl = []\n",
    "ord_name = []\n",
    "\n",
    "for o in range(0, 34+1):\n",
    "    f = h5py.File('../data/reduced/optical/LkCa4_ESPaDOnS_eo{:03d}.hdf5'.format(o), 'r')\n",
    "    this_wl = (f['wls'][0] + f['wls'][-1])/2.0\n",
    "    start_wl.append(f['wls'][0])\n",
    "    end_wl.append(f['wls'][-1])\n",
    "    center_wl.append(this_wl)\n",
    "    ord_name.append('{:03d}'.format(o))\n",
    "    f.close()"
   ]
  },
  {
   "cell_type": "code",
   "execution_count": 6,
   "metadata": {
    "collapsed": false
   },
   "outputs": [
    {
     "data": {
      "text/html": [
       "<div>\n",
       "<table border=\"1\" class=\"dataframe\">\n",
       "  <thead>\n",
       "    <tr style=\"text-align: right;\">\n",
       "      <th></th>\n",
       "      <th>m_val</th>\n",
       "      <th>number</th>\n",
       "      <th>wl_center</th>\n",
       "      <th>wl_end</th>\n",
       "      <th>wl_start</th>\n",
       "    </tr>\n",
       "  </thead>\n",
       "  <tbody>\n",
       "    <tr>\n",
       "      <th>0</th>\n",
       "      <td>000</td>\n",
       "      <td>0</td>\n",
       "      <td>5180.62500</td>\n",
       "      <td>5199.9292</td>\n",
       "      <td>5161.3208</td>\n",
       "    </tr>\n",
       "    <tr>\n",
       "      <th>1</th>\n",
       "      <td>001</td>\n",
       "      <td>1</td>\n",
       "      <td>5231.25700</td>\n",
       "      <td>5262.5311</td>\n",
       "      <td>5199.9829</td>\n",
       "    </tr>\n",
       "    <tr>\n",
       "      <th>2</th>\n",
       "      <td>002</td>\n",
       "      <td>2</td>\n",
       "      <td>5294.98655</td>\n",
       "      <td>5327.4005</td>\n",
       "      <td>5262.5726</td>\n",
       "    </tr>\n",
       "    <tr>\n",
       "      <th>3</th>\n",
       "      <td>003</td>\n",
       "      <td>3</td>\n",
       "      <td>5360.99580</td>\n",
       "      <td>5394.5496</td>\n",
       "      <td>5327.4420</td>\n",
       "    </tr>\n",
       "    <tr>\n",
       "      <th>4</th>\n",
       "      <td>004</td>\n",
       "      <td>4</td>\n",
       "      <td>5429.35055</td>\n",
       "      <td>5464.0826</td>\n",
       "      <td>5394.6185</td>\n",
       "    </tr>\n",
       "  </tbody>\n",
       "</table>\n",
       "</div>"
      ],
      "text/plain": [
       "  m_val  number   wl_center     wl_end   wl_start\n",
       "0   000       0  5180.62500  5199.9292  5161.3208\n",
       "1   001       1  5231.25700  5262.5311  5199.9829\n",
       "2   002       2  5294.98655  5327.4005  5262.5726\n",
       "3   003       3  5360.99580  5394.5496  5327.4420\n",
       "4   004       4  5429.35055  5464.0826  5394.6185"
      ]
     },
     "execution_count": 6,
     "metadata": {},
     "output_type": "execute_result"
    }
   ],
   "source": [
    "opt_ords = pd.DataFrame({\"wl_start\":start_wl, \"wl_end\":end_wl, \"wl_center\":center_wl, \n",
    "                         \"number\":range(0,34+1), \"m_val\":ord_name})\n",
    "opt_ords.head()"
   ]
  },
  {
   "cell_type": "code",
   "execution_count": 11,
   "metadata": {
    "collapsed": false
   },
   "outputs": [
    {
     "data": {
      "text/html": [
       "<div>\n",
       "<table border=\"1\" class=\"dataframe\">\n",
       "  <thead>\n",
       "    <tr style=\"text-align: right;\">\n",
       "      <th></th>\n",
       "      <th>m_val</th>\n",
       "      <th>number</th>\n",
       "      <th>wl_center</th>\n",
       "      <th>wl_end</th>\n",
       "      <th>wl_start</th>\n",
       "    </tr>\n",
       "  </thead>\n",
       "  <tbody>\n",
       "    <tr>\n",
       "      <th>0</th>\n",
       "      <td>000</td>\n",
       "      <td>0</td>\n",
       "      <td>5180.62500</td>\n",
       "      <td>5199.9292</td>\n",
       "      <td>5161.3208</td>\n",
       "    </tr>\n",
       "    <tr>\n",
       "      <th>1</th>\n",
       "      <td>001</td>\n",
       "      <td>1</td>\n",
       "      <td>5231.25700</td>\n",
       "      <td>5262.5311</td>\n",
       "      <td>5199.9829</td>\n",
       "    </tr>\n",
       "    <tr>\n",
       "      <th>2</th>\n",
       "      <td>002</td>\n",
       "      <td>2</td>\n",
       "      <td>5294.98655</td>\n",
       "      <td>5327.4005</td>\n",
       "      <td>5262.5726</td>\n",
       "    </tr>\n",
       "    <tr>\n",
       "      <th>3</th>\n",
       "      <td>003</td>\n",
       "      <td>3</td>\n",
       "      <td>5360.99580</td>\n",
       "      <td>5394.5496</td>\n",
       "      <td>5327.4420</td>\n",
       "    </tr>\n",
       "    <tr>\n",
       "      <th>4</th>\n",
       "      <td>004</td>\n",
       "      <td>4</td>\n",
       "      <td>5429.35055</td>\n",
       "      <td>5464.0826</td>\n",
       "      <td>5394.6185</td>\n",
       "    </tr>\n",
       "    <tr>\n",
       "      <th>5</th>\n",
       "      <td>005</td>\n",
       "      <td>5</td>\n",
       "      <td>5500.15715</td>\n",
       "      <td>5536.1810</td>\n",
       "      <td>5464.1333</td>\n",
       "    </tr>\n",
       "    <tr>\n",
       "      <th>6</th>\n",
       "      <td>006</td>\n",
       "      <td>6</td>\n",
       "      <td>5573.65050</td>\n",
       "      <td>5611.0803</td>\n",
       "      <td>5536.2207</td>\n",
       "    </tr>\n",
       "    <tr>\n",
       "      <th>7</th>\n",
       "      <td>007</td>\n",
       "      <td>7</td>\n",
       "      <td>5649.92550</td>\n",
       "      <td>5688.7048</td>\n",
       "      <td>5611.1462</td>\n",
       "    </tr>\n",
       "    <tr>\n",
       "      <th>8</th>\n",
       "      <td>008</td>\n",
       "      <td>8</td>\n",
       "      <td>5729.08110</td>\n",
       "      <td>5769.3994</td>\n",
       "      <td>5688.7628</td>\n",
       "    </tr>\n",
       "    <tr>\n",
       "      <th>9</th>\n",
       "      <td>009</td>\n",
       "      <td>9</td>\n",
       "      <td>5811.36870</td>\n",
       "      <td>5853.2635</td>\n",
       "      <td>5769.4739</td>\n",
       "    </tr>\n",
       "    <tr>\n",
       "      <th>10</th>\n",
       "      <td>010</td>\n",
       "      <td>10</td>\n",
       "      <td>5896.92415</td>\n",
       "      <td>5940.5292</td>\n",
       "      <td>5853.3191</td>\n",
       "    </tr>\n",
       "    <tr>\n",
       "      <th>11</th>\n",
       "      <td>011</td>\n",
       "      <td>11</td>\n",
       "      <td>5986.02415</td>\n",
       "      <td>6031.4532</td>\n",
       "      <td>5940.5951</td>\n",
       "    </tr>\n",
       "    <tr>\n",
       "      <th>12</th>\n",
       "      <td>012</td>\n",
       "      <td>12</td>\n",
       "      <td>6078.84830</td>\n",
       "      <td>6126.1774</td>\n",
       "      <td>6031.5192</td>\n",
       "    </tr>\n",
       "    <tr>\n",
       "      <th>13</th>\n",
       "      <td>013</td>\n",
       "      <td>13</td>\n",
       "      <td>6175.60730</td>\n",
       "      <td>6224.9695</td>\n",
       "      <td>6126.2451</td>\n",
       "    </tr>\n",
       "    <tr>\n",
       "      <th>14</th>\n",
       "      <td>014</td>\n",
       "      <td>14</td>\n",
       "      <td>6276.59180</td>\n",
       "      <td>6328.1580</td>\n",
       "      <td>6225.0256</td>\n",
       "    </tr>\n",
       "    <tr>\n",
       "      <th>15</th>\n",
       "      <td>015</td>\n",
       "      <td>15</td>\n",
       "      <td>6382.04830</td>\n",
       "      <td>6435.8752</td>\n",
       "      <td>6328.2214</td>\n",
       "    </tr>\n",
       "    <tr>\n",
       "      <th>16</th>\n",
       "      <td>016</td>\n",
       "      <td>16</td>\n",
       "      <td>6492.29645</td>\n",
       "      <td>6548.6694</td>\n",
       "      <td>6435.9235</td>\n",
       "    </tr>\n",
       "    <tr>\n",
       "      <th>17</th>\n",
       "      <td>017</td>\n",
       "      <td>17</td>\n",
       "      <td>6607.72795</td>\n",
       "      <td>6666.7419</td>\n",
       "      <td>6548.7140</td>\n",
       "    </tr>\n",
       "    <tr>\n",
       "      <th>18</th>\n",
       "      <td>018</td>\n",
       "      <td>18</td>\n",
       "      <td>6728.66730</td>\n",
       "      <td>6790.5310</td>\n",
       "      <td>6666.8036</td>\n",
       "    </tr>\n",
       "    <tr>\n",
       "      <th>19</th>\n",
       "      <td>019</td>\n",
       "      <td>19</td>\n",
       "      <td>6855.48915</td>\n",
       "      <td>6920.3741</td>\n",
       "      <td>6790.6042</td>\n",
       "    </tr>\n",
       "    <tr>\n",
       "      <th>20</th>\n",
       "      <td>020</td>\n",
       "      <td>20</td>\n",
       "      <td>6988.65145</td>\n",
       "      <td>7056.8805</td>\n",
       "      <td>6920.4224</td>\n",
       "    </tr>\n",
       "    <tr>\n",
       "      <th>21</th>\n",
       "      <td>021</td>\n",
       "      <td>21</td>\n",
       "      <td>7128.69475</td>\n",
       "      <td>7200.4388</td>\n",
       "      <td>7056.9507</td>\n",
       "    </tr>\n",
       "    <tr>\n",
       "      <th>22</th>\n",
       "      <td>022</td>\n",
       "      <td>22</td>\n",
       "      <td>7276.11175</td>\n",
       "      <td>7351.7126</td>\n",
       "      <td>7200.5109</td>\n",
       "    </tr>\n",
       "    <tr>\n",
       "      <th>23</th>\n",
       "      <td>023</td>\n",
       "      <td>23</td>\n",
       "      <td>7431.47340</td>\n",
       "      <td>7511.1786</td>\n",
       "      <td>7351.7682</td>\n",
       "    </tr>\n",
       "    <tr>\n",
       "      <th>24</th>\n",
       "      <td>024</td>\n",
       "      <td>24</td>\n",
       "      <td>7595.52125</td>\n",
       "      <td>7679.8053</td>\n",
       "      <td>7511.2372</td>\n",
       "    </tr>\n",
       "    <tr>\n",
       "      <th>25</th>\n",
       "      <td>025</td>\n",
       "      <td>25</td>\n",
       "      <td>7768.94530</td>\n",
       "      <td>7858.0176</td>\n",
       "      <td>7679.8730</td>\n",
       "    </tr>\n",
       "    <tr>\n",
       "      <th>26</th>\n",
       "      <td>026</td>\n",
       "      <td>26</td>\n",
       "      <td>7954.31825</td>\n",
       "      <td>8050.5725</td>\n",
       "      <td>7858.0640</td>\n",
       "    </tr>\n",
       "    <tr>\n",
       "      <th>27</th>\n",
       "      <td>027</td>\n",
       "      <td>27</td>\n",
       "      <td>8153.12650</td>\n",
       "      <td>8255.6317</td>\n",
       "      <td>8050.6213</td>\n",
       "    </tr>\n",
       "    <tr>\n",
       "      <th>28</th>\n",
       "      <td>028</td>\n",
       "      <td>28</td>\n",
       "      <td>8364.67985</td>\n",
       "      <td>8473.6639</td>\n",
       "      <td>8255.6958</td>\n",
       "    </tr>\n",
       "    <tr>\n",
       "      <th>29</th>\n",
       "      <td>029</td>\n",
       "      <td>29</td>\n",
       "      <td>8589.87455</td>\n",
       "      <td>8706.0406</td>\n",
       "      <td>8473.7085</td>\n",
       "    </tr>\n",
       "    <tr>\n",
       "      <th>30</th>\n",
       "      <td>030</td>\n",
       "      <td>30</td>\n",
       "      <td>8830.04120</td>\n",
       "      <td>8953.9783</td>\n",
       "      <td>8706.1041</td>\n",
       "    </tr>\n",
       "    <tr>\n",
       "      <th>31</th>\n",
       "      <td>031</td>\n",
       "      <td>31</td>\n",
       "      <td>9086.52770</td>\n",
       "      <td>9219.0149</td>\n",
       "      <td>8954.0405</td>\n",
       "    </tr>\n",
       "    <tr>\n",
       "      <th>32</th>\n",
       "      <td>032</td>\n",
       "      <td>32</td>\n",
       "      <td>9361.03245</td>\n",
       "      <td>9502.9816</td>\n",
       "      <td>9219.0833</td>\n",
       "    </tr>\n",
       "    <tr>\n",
       "      <th>33</th>\n",
       "      <td>033</td>\n",
       "      <td>33</td>\n",
       "      <td>9655.50905</td>\n",
       "      <td>9807.9840</td>\n",
       "      <td>9503.0341</td>\n",
       "    </tr>\n",
       "    <tr>\n",
       "      <th>34</th>\n",
       "      <td>034</td>\n",
       "      <td>34</td>\n",
       "      <td>9904.02190</td>\n",
       "      <td>9999.9908</td>\n",
       "      <td>9808.0530</td>\n",
       "    </tr>\n",
       "  </tbody>\n",
       "</table>\n",
       "</div>"
      ],
      "text/plain": [
       "   m_val  number   wl_center     wl_end   wl_start\n",
       "0    000       0  5180.62500  5199.9292  5161.3208\n",
       "1    001       1  5231.25700  5262.5311  5199.9829\n",
       "2    002       2  5294.98655  5327.4005  5262.5726\n",
       "3    003       3  5360.99580  5394.5496  5327.4420\n",
       "4    004       4  5429.35055  5464.0826  5394.6185\n",
       "5    005       5  5500.15715  5536.1810  5464.1333\n",
       "6    006       6  5573.65050  5611.0803  5536.2207\n",
       "7    007       7  5649.92550  5688.7048  5611.1462\n",
       "8    008       8  5729.08110  5769.3994  5688.7628\n",
       "9    009       9  5811.36870  5853.2635  5769.4739\n",
       "10   010      10  5896.92415  5940.5292  5853.3191\n",
       "11   011      11  5986.02415  6031.4532  5940.5951\n",
       "12   012      12  6078.84830  6126.1774  6031.5192\n",
       "13   013      13  6175.60730  6224.9695  6126.2451\n",
       "14   014      14  6276.59180  6328.1580  6225.0256\n",
       "15   015      15  6382.04830  6435.8752  6328.2214\n",
       "16   016      16  6492.29645  6548.6694  6435.9235\n",
       "17   017      17  6607.72795  6666.7419  6548.7140\n",
       "18   018      18  6728.66730  6790.5310  6666.8036\n",
       "19   019      19  6855.48915  6920.3741  6790.6042\n",
       "20   020      20  6988.65145  7056.8805  6920.4224\n",
       "21   021      21  7128.69475  7200.4388  7056.9507\n",
       "22   022      22  7276.11175  7351.7126  7200.5109\n",
       "23   023      23  7431.47340  7511.1786  7351.7682\n",
       "24   024      24  7595.52125  7679.8053  7511.2372\n",
       "25   025      25  7768.94530  7858.0176  7679.8730\n",
       "26   026      26  7954.31825  8050.5725  7858.0640\n",
       "27   027      27  8153.12650  8255.6317  8050.6213\n",
       "28   028      28  8364.67985  8473.6639  8255.6958\n",
       "29   029      29  8589.87455  8706.0406  8473.7085\n",
       "30   030      30  8830.04120  8953.9783  8706.1041\n",
       "31   031      31  9086.52770  9219.0149  8954.0405\n",
       "32   032      32  9361.03245  9502.9816  9219.0833\n",
       "33   033      33  9655.50905  9807.9840  9503.0341\n",
       "34   034      34  9904.02190  9999.9908  9808.0530"
      ]
     },
     "execution_count": 11,
     "metadata": {},
     "output_type": "execute_result"
    }
   ],
   "source": [
    "opt_ords"
   ]
  },
  {
   "cell_type": "markdown",
   "metadata": {},
   "source": [
    "There is technically no `m_val`, since we don't know the $m$ of the spectrograph.  But we will just use the relative order number, $o$, as $m$ for now."
   ]
  },
  {
   "cell_type": "code",
   "execution_count": null,
   "metadata": {
    "collapsed": true
   },
   "outputs": [],
   "source": []
  },
  {
   "cell_type": "code",
   "execution_count": 12,
   "metadata": {
    "collapsed": true
   },
   "outputs": [],
   "source": [
    "o=21\n",
    "f = h5py.File('../data/reduced/optical/LkCa4_ESPaDOnS_eo{:03d}.hdf5'.format(o), 'r')"
   ]
  },
  {
   "cell_type": "code",
   "execution_count": 13,
   "metadata": {
    "collapsed": false
   },
   "outputs": [
    {
     "data": {
      "text/plain": [
       "['fls', 'masks', 'sigmas', 'wls']"
      ]
     },
     "execution_count": 13,
     "metadata": {},
     "output_type": "execute_result"
    }
   ],
   "source": [
    "list(f.keys())"
   ]
  },
  {
   "cell_type": "code",
   "execution_count": 26,
   "metadata": {
    "collapsed": true
   },
   "outputs": [],
   "source": [
    "tmp = f['wls']"
   ]
  },
  {
   "cell_type": "code",
   "execution_count": 28,
   "metadata": {
    "collapsed": false
   },
   "outputs": [],
   "source": [
    "orig_wl, orig_fl = f['wls'].value, f['fls'].value"
   ]
  },
  {
   "cell_type": "code",
   "execution_count": 29,
   "metadata": {
    "collapsed": true
   },
   "outputs": [],
   "source": [
    "f.close()"
   ]
  },
  {
   "cell_type": "markdown",
   "metadata": {},
   "source": [
    "Read in all the raw files."
   ]
  },
  {
   "cell_type": "code",
   "execution_count": 58,
   "metadata": {
    "collapsed": false
   },
   "outputs": [
    {
     "name": "stdout",
     "output_type": "stream",
     "text": [
      "LkCa4_tspec.fits\r\n",
      "README\r\n",
      "lkca4_07jan14.dat\r\n",
      "lkca4_08jan14.dat\r\n",
      "lkca4_09jan14.dat\r\n",
      "lkca4_10jan14.dat\r\n",
      "lkca4_14jan14.dat\r\n",
      "lkca4_15jan14.dat\r\n",
      "lkca4_16jan14.dat\r\n",
      "lkca4_17jan14.dat\r\n",
      "lkca4_18jan14.dat\r\n",
      "lkca4_19jan14.dat\r\n",
      "lkca4_20080121.dat\r\n",
      "lkca4_20081230.dat\r\n",
      "lkca4_20jan14a.dat\r\n",
      "lkca4_20jan14b.dat\r\n",
      "lkca4blue_20080121.dat\r\n",
      "lkca4blue_20081230.dat\r\n"
     ]
    }
   ],
   "source": [
    "! ls -1 ../data/raw/optical/"
   ]
  },
  {
   "cell_type": "code",
   "execution_count": 59,
   "metadata": {
    "collapsed": false
   },
   "outputs": [
    {
     "name": "stdout",
     "output_type": "stream",
     "text": [
      "       369.10297      5.52024\r\n",
      "       369.10532      3.77908\r\n",
      "       369.10767      2.59929\r\n",
      "       369.11002   -0.0409353\r\n",
      "       369.11237    -0.798713\r\n",
      "       369.11472      4.09479\r\n",
      "       369.11707      3.36449\r\n",
      "       369.11942     -4.32258\r\n",
      "       369.12177    -0.387621\r\n",
      "       369.12411     -5.07386\r\n"
     ]
    }
   ],
   "source": [
    "! head ../data/raw/optical/lkca4_08jan14.dat"
   ]
  },
  {
   "cell_type": "markdown",
   "metadata": {},
   "source": [
    "|file | match?|\n",
    "|---|---|\n",
    "|lkca4_07jan14.dat| no|\n",
    "|lkca4_08jan14.dat| no|\n",
    "|lkca4_09jan14.dat| no| \n",
    "|lkca4_10jan14.dat| yes!|"
   ]
  },
  {
   "cell_type": "code",
   "execution_count": 64,
   "metadata": {
    "collapsed": true
   },
   "outputs": [],
   "source": [
    "dat1 = pd.read_csv('../data/raw/optical/lkca4_10jan14.dat', delim_whitespace=True, names=['wl', 'flux'])\n",
    "\n",
    "dat1['wl_A'] = dat1.wl*10.0\n",
    "\n",
    "d1 = dat1[(dat1.wl_A > orig_wl[0]) & (dat1.wl_A < orig_wl[-1])]"
   ]
  },
  {
   "cell_type": "code",
   "execution_count": 73,
   "metadata": {
    "collapsed": false
   },
   "outputs": [
    {
     "data": {
      "image/png": "[encoded data removed]",
      "text/plain": [
       "<matplotlib.figure.Figure at 0x1207f2dd8>"
      ]
     },
     "metadata": {
      "image/png": {
       "height": 337,
       "width": 481
      }
     },
     "output_type": "display_data"
    }
   ],
   "source": [
    "plt.plot(d1.wl_A, d1.flux)\n",
    "plt.plot(orig_wl, orig_fl)\n",
    "plt.xlim(orig_wl[0]-10, orig_wl[-1]+10);\n",
    "plt.ylim(0, orig_fl.max()*1.1);"
   ]
  },
  {
   "cell_type": "markdown",
   "metadata": {},
   "source": [
    "Woohoo, we have a match!  The spectrum I had been using for the last half year is: **lkca4_10jan14.dat**"
   ]
  },
  {
   "cell_type": "markdown",
   "metadata": {},
   "source": [
    "This spectrum has an estimated $V-$band magnitude at the time of optical spectrum observation of $\\hat V = 12.90$, whereas the IGRINS spectrum has $\\hat V = 12.83$"
   ]
  },
  {
   "cell_type": "markdown",
   "metadata": {},
   "source": [
    "## The End."
   ]
  }
 ],
 "metadata": {
  "kernelspec": {
   "display_name": "Python 3",
   "language": "python",
   "name": "python3"
  },
  "language_info": {
   "codemirror_mode": {
    "name": "ipython",
    "version": 3
   },
   "file_extension": ".py",
   "mimetype": "text/x-python",
   "name": "python",
   "nbconvert_exporter": "python",
   "pygments_lexer": "ipython3",
   "version": "3.4.4"
  }
 },
 "nbformat": 4,
 "nbformat_minor": 0
}
