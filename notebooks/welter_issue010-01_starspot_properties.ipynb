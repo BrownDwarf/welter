{
 "cells": [
  {
   "cell_type": "markdown",
   "metadata": {
    "collapsed": true
   },
   "source": [
    "How's it look?\n",
    "\n",
    "Now with **Mixture model**!"
   ]
  },
  {
   "cell_type": "markdown",
   "metadata": {},
   "source": [
    "We have orders m111, m113, m114, m115 complete.  Let's plot all of the results on the same figure."
   ]
  },
  {
   "cell_type": "code",
   "execution_count": null,
   "metadata": {
    "collapsed": false
   },
   "outputs": [],
   "source": [
    "#ws = np.load(\"../sf/m115/output/mix_emcee/run_veil/emcee_chain.npy\")\n",
    "ws = np.load(\"../sf/m076/output/mix_emcee/run01/emcee_chain.npy\")"
   ]
  },
  {
   "cell_type": "code",
   "execution_count": null,
   "metadata": {
    "collapsed": true
   },
   "outputs": [],
   "source": [
    "#label = [\"$T_{\\mathrm{eff}}$\", \"$\\log{g}$\", \"$[\\mathrm{Fe}/\\mathrm{H}]$\",\"$v_z$\", \"$v\\sin{i}$\", \"$\\log{\\Omega}$\", \n",
    "#         \"$f_{d}$\", \"$c^1$\", \"$c^2$\", \"$c^3$\", \"sigAmp\", \"logAmp\", \"$l$\"] "
   ]
  },
  {
   "cell_type": "code",
   "execution_count": null,
   "metadata": {
    "collapsed": false
   },
   "outputs": [],
   "source": [
    "ws.shape"
   ]
  },
  {
   "cell_type": "code",
   "execution_count": null,
   "metadata": {
    "collapsed": true
   },
   "outputs": [],
   "source": [
    "from matplotlib.ticker import MaxNLocator"
   ]
  },
  {
   "cell_type": "code",
   "execution_count": null,
   "metadata": {
    "collapsed": true
   },
   "outputs": [],
   "source": [
    "label = [\"$T_{\\mathrm{eff}}$\", \"$\\log{g}$\", \"$[\\mathrm{Fe}/\\mathrm{H}]$\",\"$v_z$\", \"$v\\sin{i}$\", \"$\\log{\\Omega}$\", \n",
    "         \"$T_{\\mathrm{eff, 2}}$\", \"$\\log{\\Omega_2}$\", \"$c^1$\", \"$c^2$\", \"$c^3$\", \"sigAmp\", \"logAmp\", \"$l$\"] "
   ]
  },
  {
   "cell_type": "code",
   "execution_count": null,
   "metadata": {
    "collapsed": false
   },
   "outputs": [],
   "source": [
    "ws = np.load(\"../sf/m094/output/mix_emcee/run01/emcee_chain.npy\")\n",
    "fig, axes = plt.subplots(14, 1, sharex=True, figsize=(8, 14))\n",
    "for i in range(0, 14, 1):\n",
    "    axes[i].plot(ws[:, :, i].T, color=\"k\", alpha=0.2)\n",
    "    axes[i].yaxis.set_major_locator(MaxNLocator(5))\n",
    "    axes[i].set_ylabel(label[i])\n",
    "\n",
    "axes[13].set_xlabel(\"step number\")\n",
    "\n",
    "fig.tight_layout(h_pad=0.0)"
   ]
  },
  {
   "cell_type": "code",
   "execution_count": null,
   "metadata": {
    "collapsed": false
   },
   "outputs": [],
   "source": [
    "burned = ws[:, 4000:,:]\n",
    "xs, ys, zs = burned.shape\n",
    "fc = burned.reshape(xs*ys, zs)\n",
    "nx, ny = fc.shape"
   ]
  },
  {
   "cell_type": "code",
   "execution_count": null,
   "metadata": {
    "collapsed": false
   },
   "outputs": [],
   "source": [
    "fc.shape"
   ]
  },
  {
   "cell_type": "code",
   "execution_count": null,
   "metadata": {
    "collapsed": false
   },
   "outputs": [],
   "source": [
    "import corner\n",
    "fig = corner.corner(fc, labels=label)\n",
    "fig.savefig('twelve_parameter_corner.png', dpi=300)"
   ]
  },
  {
   "cell_type": "markdown",
   "metadata": {},
   "source": [
    "So cool, it looks like it's working, but it's displaying $\\log{\\Omega_2}$ instead of the fill factor.  Let's **compute** the fill factor, $b$, by:  \n",
    "$ b = \\frac{\\Omega_2}{\\Omega_1 + \\Omega_2}$"
   ]
  },
  {
   "cell_type": "code",
   "execution_count": null,
   "metadata": {
    "collapsed": false
   },
   "outputs": [],
   "source": [
    "fc.shape"
   ]
  },
  {
   "cell_type": "code",
   "execution_count": null,
   "metadata": {
    "collapsed": true
   },
   "outputs": [],
   "source": [
    "bb = 10**fc[:,7] / ( 10**fc[:,5] + 10**fc[:,7] )"
   ]
  },
  {
   "cell_type": "markdown",
   "metadata": {},
   "source": [
    "The other parameter we care about is the temperature of the cool spot, $T_{\\mathrm{eff,2}}$."
   ]
  },
  {
   "cell_type": "code",
   "execution_count": null,
   "metadata": {
    "collapsed": true
   },
   "outputs": [],
   "source": [
    "tt = fc[:,6]"
   ]
  },
  {
   "cell_type": "code",
   "execution_count": null,
   "metadata": {
    "collapsed": true
   },
   "outputs": [],
   "source": [
    "sns.set_context('talk')"
   ]
  },
  {
   "cell_type": "code",
   "execution_count": null,
   "metadata": {
    "collapsed": true
   },
   "outputs": [],
   "source": [
    "sns.set_style('ticks')"
   ]
  },
  {
   "cell_type": "code",
   "execution_count": null,
   "metadata": {
    "collapsed": false
   },
   "outputs": [],
   "source": [
    "ax = sns.jointplot(bb, tt, kind='kde')\n",
    "ax.ax_joint.set_ylabel('Star spot $T_{\\mathrm{eff}}$')\n",
    "ax.ax_joint.set_xlabel('Coverage fraction $f$')\n",
    "plt.savefig('Star_spot_measurement.pdf', bbox_inches='tight')"
   ]
  },
  {
   "cell_type": "markdown",
   "metadata": {},
   "source": [
    "# Over-plot many measurements from different orders."
   ]
  },
  {
   "cell_type": "code",
   "execution_count": null,
   "metadata": {
    "collapsed": true
   },
   "outputs": [],
   "source": [
    "ws115 = np.load(\"../sf/m115/output/mix_emcee/run01/emcee_chain.npy\")\n",
    "ws114 = np.load(\"../sf/m114/output/mix_emcee/run01/emcee_chain.npy\")\n",
    "ws113 = np.load(\"../sf/m113/output/mix_emcee/run01/emcee_chain.npy\")\n",
    "ws112 = np.load(\"../sf/m112/output/mix_emcee/run01/emcee_chain.npy\")"
   ]
  },
  {
   "cell_type": "code",
   "execution_count": null,
   "metadata": {
    "collapsed": true
   },
   "outputs": [],
   "source": [
    "b115 = ws115[:, 4000:,:]\n",
    "xs, ys, zs = b115.shape\n",
    "fc115 = b115.reshape(xs*ys, zs)\n",
    "\n",
    "b114 = ws114[:, 4000:,:]\n",
    "xs, ys, zs = b114.shape\n",
    "fc114 = b114.reshape(xs*ys, zs)\n",
    "\n",
    "b113 = ws113[:, 4000:,:]\n",
    "xs, ys, zs = b113.shape\n",
    "fc113 = b113.reshape(xs*ys, zs)\n",
    "\n",
    "b112 = ws112[:, 4000:,:]\n",
    "xs, ys, zs = b112.shape\n",
    "fc112 = b112.reshape(xs*ys, zs)"
   ]
  },
  {
   "cell_type": "code",
   "execution_count": null,
   "metadata": {
    "collapsed": true
   },
   "outputs": [],
   "source": [
    "bb115 = 10**fc115[:,7] / ( 10**fc115[:,5] + 10**fc115[:,7] )\n",
    "bb114 = 10**fc114[:,7] / ( 10**fc114[:,5] + 10**fc114[:,7] )\n",
    "bb113 = 10**fc113[:,7] / ( 10**fc113[:,5] + 10**fc113[:,7] )\n",
    "bb112 = 10**fc112[:,7] / ( 10**fc112[:,5] + 10**fc112[:,7] )"
   ]
  },
  {
   "cell_type": "code",
   "execution_count": null,
   "metadata": {
    "collapsed": false
   },
   "outputs": [],
   "source": [
    "ax = sns.jointplot(bb115, fc115[:,6], kind='kde')\n",
    "ax.ax_joint.set_ylabel('Star spot $T_{\\mathrm{eff}}$')\n",
    "ax.ax_joint.set_xlabel('Coverage fraction $f$')\n",
    "sns.kdeplot(bb114,  fc114[:,6], ax=ax.ax_joint)\n",
    "sns.kdeplot(bb113,  fc113[:,6], ax=ax.ax_joint)\n",
    "sns.kdeplot(bb112,  fc112[:,6], ax=ax.ax_joint)\n",
    "plt.savefig('Star_spot_measurement.pdf', bbox_inches='tight')"
   ]
  },
  {
   "cell_type": "markdown",
   "metadata": {},
   "source": [
    "Whaaat?  The estimates actually agree (sort of)??  My first reaction is that lower Teff2 starspot spectra just add more variance to the fit, since cooler star spectra have more wiggles...  I dunno though, could be \"real\"!"
   ]
  },
  {
   "cell_type": "code",
   "execution_count": null,
   "metadata": {
    "collapsed": false
   },
   "outputs": [],
   "source": [
    "sns.distplot(fc115[:,0], hist=False);\n",
    "sns.distplot(fc114[:,0], hist=False);\n",
    "sns.distplot(fc113[:,0], hist=False);\n",
    "sns.distplot(fc112[:,0], hist=False);"
   ]
  },
  {
   "cell_type": "code",
   "execution_count": null,
   "metadata": {
    "collapsed": false
   },
   "outputs": [],
   "source": [
    "i=6\n",
    "sns.distplot(fc115[:,i], hist=False);\n",
    "sns.distplot(fc114[:,i], hist=False);\n",
    "sns.distplot(fc113[:,i], hist=False);\n",
    "sns.distplot(fc112[:,i], hist=False);"
   ]
  },
  {
   "cell_type": "code",
   "execution_count": null,
   "metadata": {
    "collapsed": false
   },
   "outputs": [],
   "source": [
    "sns.distplot(bb115, hist=False);\n",
    "sns.distplot(bb114, hist=False);\n",
    "sns.distplot(bb113, hist=False);\n",
    "sns.distplot(bb112, hist=False);"
   ]
  },
  {
   "cell_type": "code",
   "execution_count": null,
   "metadata": {
    "collapsed": true
   },
   "outputs": [],
   "source": []
  },
  {
   "cell_type": "code",
   "execution_count": null,
   "metadata": {
    "collapsed": true
   },
   "outputs": [],
   "source": [
    "vals = map(lambda v: (v[1], v[2]-v[1], v[1]-v[0]), \n",
    "           zip(*np.percentile(fc, [16, 50, 84], axis=0)))"
   ]
  },
  {
   "cell_type": "code",
   "execution_count": null,
   "metadata": {
    "collapsed": false
   },
   "outputs": [],
   "source": [
    "vs = list(vals)"
   ]
  },
  {
   "cell_type": "code",
   "execution_count": null,
   "metadata": {
    "collapsed": false
   },
   "outputs": [],
   "source": [
    "for lab, v in zip(label, vs):\n",
    "    print(\"{}: {:.4f}\".format(lab, v[0]))"
   ]
  },
  {
   "cell_type": "markdown",
   "metadata": {},
   "source": [
    "## But what does the *range* of best fit spectra look like?\n",
    "\n",
    "Ways to demonstrate:\n",
    "    - Animation\n",
    "    - Fill between color bands\n",
    "    - Animation for one parameter variation at a time"
   ]
  },
  {
   "cell_type": "markdown",
   "metadata": {},
   "source": [
    "The end."
   ]
  }
 ],
 "metadata": {
  "kernelspec": {
   "display_name": "Python 3",
   "language": "python",
   "name": "python3"
  },
  "language_info": {
   "codemirror_mode": {
    "name": "ipython",
    "version": 3
   },
   "file_extension": ".py",
   "mimetype": "text/x-python",
   "name": "python",
   "nbconvert_exporter": "python",
   "pygments_lexer": "ipython3",
   "version": "3.4.4"
  }
 },
 "nbformat": 4,
 "nbformat_minor": 0
}
