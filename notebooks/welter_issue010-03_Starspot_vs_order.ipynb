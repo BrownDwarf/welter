{
 "cells": [
  {
   "cell_type": "code",
   "execution_count": null,
   "metadata": {
    "collapsed": false
   },
   "outputs": [],
   "source": [
    "import warnings\n",
    "warnings.filterwarnings(\"ignore\")\n",
    "import numpy as np\n",
    "from astropy.io import fits\n",
    "import matplotlib.pyplot as plt"
   ]
  },
  {
   "cell_type": "code",
   "execution_count": null,
   "metadata": {
    "collapsed": true
   },
   "outputs": [],
   "source": [
    "% matplotlib inline\n",
    "% config InlineBackend.figure_format = 'retina'\n",
    "import seaborn as sns\n",
    "sns.set_context('notebook')"
   ]
  },
  {
   "cell_type": "markdown",
   "metadata": {},
   "source": [
    "## Read in all the data.\n",
    "No spot-checking necessary, since we already did that in the previous notebook."
   ]
  },
  {
   "cell_type": "markdown",
   "metadata": {},
   "source": [
    "### IGRINS data of ASASSN15qi"
   ]
  },
  {
   "cell_type": "code",
   "execution_count": null,
   "metadata": {
    "collapsed": true
   },
   "outputs": [],
   "source": [
    "import h5py"
   ]
  },
  {
   "cell_type": "markdown",
   "metadata": {},
   "source": [
    "## Actual data"
   ]
  },
  {
   "cell_type": "markdown",
   "metadata": {},
   "source": [
    "You can have pandas read the clipboard if you copy the output from the terminal.  Saves a step of copying files over, at the expense of reproducibility..."
   ]
  },
  {
   "cell_type": "code",
   "execution_count": null,
   "metadata": {
    "collapsed": true
   },
   "outputs": [],
   "source": [
    "import pandas as pd"
   ]
  },
  {
   "cell_type": "code",
   "execution_count": null,
   "metadata": {
    "collapsed": false
   },
   "outputs": [],
   "source": [
    "sf_dat = pd.read_csv('../data/analysis/IGRINS_LkCa4_run02_last20kMCMC.csv')\n",
    "sf_dat2 = pd.read_csv('../data/analysis/IGRINS_LkCa4_run01_last20kMCMC.csv')\n",
    "sf_dat3 = pd.read_csv('../data/analysis/IGRINS_ESPaDOnS_run01_last10kMCMC.csv')\n",
    "sf_dat4 = pd.read_csv('../data/analysis/IGRINS_mix_emcee_last200.csv')"
   ]
  },
  {
   "cell_type": "code",
   "execution_count": null,
   "metadata": {
    "collapsed": false
   },
   "outputs": [],
   "source": [
    "sf_dat4.columns"
   ]
  },
  {
   "cell_type": "code",
   "execution_count": null,
   "metadata": {
    "collapsed": false
   },
   "outputs": [],
   "source": [
    "plt.plot(sf_dat4.wl_center, sf_dat4.logg_50p, '.')\n",
    "plt.errorbar(sf_dat4.wl_center, sf_dat4.logg_50p, \n",
    "             yerr=(sf_dat4.logg_95p-sf_dat4.logg_50p,\n",
    "                  sf_dat4.logg_50p-sf_dat4.logg_05p),fmt='ko', alpha=0.5)"
   ]
  },
  {
   "cell_type": "markdown",
   "metadata": {},
   "source": [
    "## Plot of $T_{eff}$ vs. spectral order"
   ]
  },
  {
   "cell_type": "code",
   "execution_count": null,
   "metadata": {
    "collapsed": true
   },
   "outputs": [],
   "source": [
    "N_orders = len(sf_dat.m_val)"
   ]
  },
  {
   "cell_type": "code",
   "execution_count": null,
   "metadata": {
    "collapsed": true
   },
   "outputs": [],
   "source": [
    "sns.set_style('ticks')\n",
    "sns.set_context('talk')"
   ]
  },
  {
   "cell_type": "code",
   "execution_count": null,
   "metadata": {
    "collapsed": true
   },
   "outputs": [],
   "source": [
    "bm = sf_dat4.m_val.isin([79, 81, 82, 90, 92])\n",
    "gm = ~bm"
   ]
  },
  {
   "cell_type": "code",
   "execution_count": null,
   "metadata": {
    "collapsed": true
   },
   "outputs": [],
   "source": [
    "sf_dat4_cln = sf_dat4[gm]"
   ]
  },
  {
   "cell_type": "code",
   "execution_count": null,
   "metadata": {
    "collapsed": false
   },
   "outputs": [],
   "source": [
    "#plt.subplot(211)\n",
    "fig = plt.figure(figsize=(18, 6))\n",
    "ax1 = fig.add_axes([0.35, 0.7, 0.45, 0.2],xticks=[], yticks=[0.0, 0.5, 1])\n",
    "#ax1.fill_between(tell.wls, tell.trans, y2=1.0, alpha=0.5)\n",
    "ax1.set_xlim(14000, 26000)\n",
    "ax1.set_ylim(-0.2, 1)\n",
    "ax1.set_ylabel('$\\oplus$ trans.')\n",
    "for i in range(N_orders):\n",
    "    x = [sf_dat.wl_start[i], sf_dat.wl_end[i]]\n",
    "    y = [sf_dat.tell_trans[i]]*2\n",
    "    ax1.plot(x, y, 'k-', alpha=0.5)\n",
    "    \n",
    "#text_pos = 500.0 + 20.0*np.arange(N_orders)    \n",
    "for i in range(N_orders):\n",
    "    print_every = 1\n",
    "    if sf_dat.m_val[i] > 100:\n",
    "        print_every = 2\n",
    "    if (sf_dat.number.values[i] % print_every) == 0:\n",
    "        ax1.text(sf_dat.wl_center[i], -0.08, '{}'.format(sf_dat.m_val.values[i]),\n",
    "                 fontsize=8, rotation=90)\n",
    "    \n",
    "    \n",
    "ax = fig.add_axes([0.35, 0.1, 0.45, 0.6])\n",
    "\n",
    "ax.vlines(sf_dat2.wl_center, 2500, 5000, linestyles='dotted')\n",
    "#ax.plot(sf_dat2.wl_center, sf_dat2.Teff_50p, 'bs', alpha=0.5)\n",
    "#ax.plot(sf_dat.wl_center, sf_dat.Teff_50p, 'ro', alpha=0.5)\n",
    "#ax.plot(sf_dat3.wl_center, sf_dat3.Teff_50p, 'go', alpha=0.5)\n",
    "ax.errorbar(sf_dat4.wl_center, sf_dat4.Teff2_50p, \n",
    "             yerr=(sf_dat4.Teff2_50p-sf_dat4.Teff2_05p,\n",
    "                  sf_dat4.Teff2_95p-sf_dat4.Teff2_50p),fmt='b.', alpha=0.7)\n",
    "ax.errorbar(sf_dat4.wl_center, sf_dat4.Teff_50p, \n",
    "             yerr=(sf_dat4.Teff_50p-sf_dat4.Teff_05p,\n",
    "                  sf_dat4.Teff_95p-sf_dat4.Teff_50p),fmt='r.', alpha=0.7)\n",
    "ax.plot(sf_dat4.wl_center, sf_dat4.Teff_50p, 'ko', alpha=0.9)\n",
    "ax.plot(sf_dat4.wl_center, sf_dat4.Teff2_50p, 'ko', alpha=0.9)\n",
    "\n",
    "ax.set_ylim(2500, 4600)\n",
    "ax.set_xlim(14000, 26000)\n",
    "ax.set_ylabel('$T_{eff}$ (K)')\n",
    "ax.set_xlabel('$\\lambda \\,(\\AA $)')\n",
    "ax.legend(loc='best')\n",
    "plt.savefig('LkCa4_HK_mixTeff_by_order.pdf', bbox_inches='tight')"
   ]
  },
  {
   "cell_type": "code",
   "execution_count": null,
   "metadata": {
    "collapsed": true
   },
   "outputs": [],
   "source": [
    "sns.set_context('poster')"
   ]
  },
  {
   "cell_type": "code",
   "execution_count": null,
   "metadata": {
    "collapsed": false
   },
   "outputs": [],
   "source": [
    "#plt.subplot(211)\n",
    "fig = plt.figure(figsize=(20, 8))\n",
    "ax1 = fig.add_axes([0.35, 0.7, 0.45, 0.2],xticks=[], yticks=[0.0, 0.5, 1])\n",
    "#ax1.fill_between(tell.wls, tell.trans, y2=1.0, alpha=0.5)\n",
    "ax1.set_xlim(14000, 26000)\n",
    "ax1.set_ylim(-0.2, 1)\n",
    "ax1.set_ylabel('$\\oplus$ trans.')\n",
    "for i in range(N_orders):\n",
    "    x = [sf_dat.wl_start[i], sf_dat.wl_end[i]]\n",
    "    y = [sf_dat.tell_trans[i]]*2\n",
    "    ax1.plot(x, y, 'k-', alpha=0.5)\n",
    "    \n",
    "#text_pos = 500.0 + 20.0*np.arange(N_orders)    \n",
    "for i in range(N_orders):\n",
    "    print_every = 1\n",
    "    if sf_dat.m_val[i] > 100:\n",
    "        print_every = 2\n",
    "    if (sf_dat.number.values[i] % print_every) == 0:\n",
    "        ax1.text(sf_dat.wl_center[i], -0.08, '{}'.format(sf_dat.m_val.values[i]),\n",
    "                 fontsize=8, rotation=90)\n",
    "    \n",
    "    \n",
    "ax = fig.add_axes([0.35, 0.1, 0.45, 0.6])\n",
    "\n",
    "ax.vlines(sf_dat2.wl_center, 2500, 5000, linestyles='dotted')\n",
    "#ax.plot(sf_dat2.wl_center, sf_dat2.Teff_50p, 'bs', alpha=0.5)\n",
    "#ax.plot(sf_dat.wl_center, sf_dat.Teff_50p, 'ro', alpha=0.5)\n",
    "#ax.plot(sf_dat3.wl_center, sf_dat3.Teff_50p, 'go', alpha=0.5)\n",
    "ax.errorbar(sf_dat4_cln.wl_center, sf_dat4_cln.Teff2_50p, \n",
    "             yerr=(sf_dat4_cln.Teff2_50p-sf_dat4_cln.Teff2_05p,\n",
    "                  sf_dat4_cln.Teff2_95p-sf_dat4_cln.Teff2_50p),fmt='b.', alpha=0.7)\n",
    "ax.errorbar(sf_dat4_cln.wl_center, sf_dat4_cln.Teff_50p, \n",
    "             yerr=(sf_dat4_cln.Teff_50p-sf_dat4_cln.Teff_05p,\n",
    "                  sf_dat4_cln.Teff_95p-sf_dat4_cln.Teff_50p),fmt='r.', alpha=0.7)\n",
    "ax.plot(sf_dat4_cln.wl_center, sf_dat4_cln.Teff_50p, 'ko', alpha=0.5)\n",
    "ax.plot(sf_dat4_cln.wl_center, sf_dat4_cln.Teff2_50p, 'ko', alpha=0.5)\n",
    "\n",
    "ax.set_ylim(2500, 4600)\n",
    "ax.set_xlim(14000, 26000)\n",
    "ax.set_ylabel('$T_{eff}$ (K)')\n",
    "ax.set_xlabel('$\\lambda \\,(\\AA $)')\n",
    "ax.legend(loc='best')\n",
    "#plt.savefig('LkCa4_HK_mixTeff_by_order.pdf', bbox_inches='tight')\n",
    "plt.savefig('../results/coolstars19/LkCa4_HK_mixTeff_poster.pdf', bbox_inches='tight')"
   ]
  },
  {
   "cell_type": "code",
   "execution_count": null,
   "metadata": {
    "collapsed": false
   },
   "outputs": [],
   "source": [
    "#plt.subplot(211)\n",
    "fig = plt.figure(figsize=(18, 6))\n",
    "ax1 = fig.add_axes([0.35, 0.7, 0.45, 0.2],xticks=[], yticks=[0.0, 0.5, 1])\n",
    "#ax1.fill_between(tell.wls, tell.trans, y2=1.0, alpha=0.5)\n",
    "ax1.set_xlim(14000, 26000)\n",
    "ax1.set_ylim(-0.2, 1)\n",
    "ax1.set_ylabel('$\\oplus$ trans.')\n",
    "for i in range(N_orders):\n",
    "    x = [sf_dat.wl_start[i], sf_dat.wl_end[i]]\n",
    "    y = [sf_dat.tell_trans[i]]*2\n",
    "    ax1.plot(x, y, 'k-', alpha=0.5)\n",
    "    \n",
    "#text_pos = 500.0 + 20.0*np.arange(N_orders)    \n",
    "for i in range(N_orders):\n",
    "    print_every = 1\n",
    "    if sf_dat.m_val[i] > 100:\n",
    "        print_every = 2\n",
    "    if (sf_dat.number.values[i] % print_every) == 0:\n",
    "        ax1.text(sf_dat.wl_center[i], -0.08, '{}'.format(sf_dat.m_val.values[i]),\n",
    "                 fontsize=8, rotation=90)\n",
    "    \n",
    "    \n",
    "ax = fig.add_axes([0.35, 0.1, 0.45, 0.6])\n",
    "\n",
    "ax.vlines(sf_dat2.wl_center, 3.4, 4.1, linestyles='dotted')\n",
    "#ax.plot(sf_dat2.wl_center, sf_dat2.logg_50p, 'bs', alpha=0.5)\n",
    "#ax.plot(sf_dat.wl_center, sf_dat.logg_50p, 'ro', alpha=0.5)\n",
    "#ax.plot(sf_dat3.wl_center, sf_dat3.logg_50p, 'go', alpha=0.5)\n",
    "ax.errorbar(sf_dat4.wl_center, sf_dat4.logg_50p, \n",
    "             yerr=(sf_dat4.logg_50p-sf_dat4.logg_05p,\n",
    "                  sf_dat4.logg_95p-sf_dat4.logg_50p),fmt='g.', alpha=0.7)\n",
    "ax.plot(sf_dat4.wl_center, sf_dat4.logg_50p, 'ko', alpha=0.9)\n",
    "ax.plot(sf_dat4.wl_center, sf_dat4.Teff2_50p, 'ko', alpha=0.9)\n",
    "\n",
    "ax.set_ylim(3.4, 4.1)\n",
    "ax.set_xlim(14000, 26000)\n",
    "ax.set_ylabel('$\\log{g}$')\n",
    "ax.set_xlabel('$\\lambda \\,(\\AA $)')\n",
    "ax.legend(loc='best')\n",
    "#plt.savefig('LkCa4_HK_mixlogg_by_order.pdf', bbox_inches='tight')"
   ]
  },
  {
   "cell_type": "code",
   "execution_count": null,
   "metadata": {
    "collapsed": false
   },
   "outputs": [],
   "source": [
    "#plt.subplot(211)\n",
    "fig = plt.figure(figsize=(18, 6))\n",
    "ax1 = fig.add_axes([0.35, 0.7, 0.45, 0.2],xticks=[], yticks=[0.0, 0.5, 1])\n",
    "#ax1.fill_between(tell.wls, tell.trans, y2=1.0, alpha=0.5)\n",
    "ax1.set_xlim(14000, 26000)\n",
    "ax1.set_ylim(-0.2, 1)\n",
    "ax1.set_ylabel('$\\oplus$ trans.')\n",
    "for i in range(N_orders):\n",
    "    x = [sf_dat.wl_start[i], sf_dat.wl_end[i]]\n",
    "    y = [sf_dat.tell_trans[i]]*2\n",
    "    ax1.plot(x, y, 'k-', alpha=0.5)\n",
    "    \n",
    "#text_pos = 500.0 + 20.0*np.arange(N_orders)    \n",
    "for i in range(N_orders):\n",
    "    print_every = 1\n",
    "    if sf_dat.m_val[i] > 100:\n",
    "        print_every = 2\n",
    "    if (sf_dat.number.values[i] % print_every) == 0:\n",
    "        ax1.text(sf_dat.wl_center[i], -0.08, '{}'.format(sf_dat.m_val.values[i]),\n",
    "                 fontsize=8, rotation=90)\n",
    "    \n",
    "    \n",
    "ax = fig.add_axes([0.35, 0.1, 0.45, 0.6])\n",
    "\n",
    "ax.vlines(sf_dat2.wl_center, -0.6, 0.6, linestyles='dotted')\n",
    "#ax.plot(sf_dat2.wl_center, sf_dat2.FeH_50p, 'bs', alpha=0.5)\n",
    "#ax.plot(sf_dat.wl_center, sf_dat.FeH_50p, 'ro', alpha=0.5)\n",
    "#ax.plot(sf_dat3.wl_center, sf_dat3.FeH_50p, 'go', alpha=0.5)\n",
    "ax.errorbar(sf_dat4.wl_center, sf_dat4.FeH_50p, \n",
    "             yerr=(sf_dat4.FeH_50p-sf_dat4.FeH_05p,\n",
    "                  sf_dat4.FeH_95p-sf_dat4.FeH_50p),fmt='g.', alpha=0.7)\n",
    "ax.plot(sf_dat4.wl_center, sf_dat4.FeH_50p, 'ko', alpha=0.9)\n",
    "ax.plot(sf_dat4.wl_center, sf_dat4.Teff2_50p, 'ko', alpha=0.9)\n",
    "\n",
    "ax.set_ylim(-0.6, 0.6)\n",
    "ax.set_xlim(14000, 26000)\n",
    "ax.set_ylabel('$[\\mathrm{Fe}/\\mathrm{H}]$')\n",
    "ax.set_xlabel('$\\lambda \\,(\\AA $)')\n",
    "ax.legend(loc='best')\n",
    "#plt.savefig('LkCa4_HK_mixFeH_by_order.pdf', bbox_inches='tight')"
   ]
  },
  {
   "cell_type": "code",
   "execution_count": null,
   "metadata": {
    "collapsed": false
   },
   "outputs": [],
   "source": [
    "#plt.subplot(211)\n",
    "fig = plt.figure(figsize=(18, 6))\n",
    "ax1 = fig.add_axes([0.35, 0.7, 0.45, 0.2],xticks=[], yticks=[0.0, 0.5, 1])\n",
    "#ax1.fill_between(tell.wls, tell.trans, y2=1.0, alpha=0.5)\n",
    "ax1.set_xlim(14000, 26000)\n",
    "ax1.set_ylim(-0.2, 1)\n",
    "ax1.set_ylabel('$\\oplus$ trans.')\n",
    "for i in range(N_orders):\n",
    "    x = [sf_dat.wl_start[i], sf_dat.wl_end[i]]\n",
    "    y = [sf_dat.tell_trans[i]]*2\n",
    "    ax1.plot(x, y, 'k-', alpha=0.5)\n",
    "    \n",
    "#text_pos = 500.0 + 20.0*np.arange(N_orders)    \n",
    "for i in range(N_orders):\n",
    "    print_every = 1\n",
    "    if sf_dat.m_val[i] > 100:\n",
    "        print_every = 2\n",
    "    if (sf_dat.number.values[i] % print_every) == 0:\n",
    "        ax1.text(sf_dat.wl_center[i], -0.08, '{}'.format(sf_dat.m_val.values[i]),\n",
    "                 fontsize=8, rotation=90)\n",
    "    \n",
    "    \n",
    "ax = fig.add_axes([0.35, 0.1, 0.45, 0.6])\n",
    "\n",
    "ax.vlines(sf_dat2.wl_center, 10, 40, linestyles='dotted')\n",
    "#ax.plot(sf_dat2.wl_center, sf_dat2.vi_50p, 'bs', alpha=0.5)\n",
    "#ax.plot(sf_dat.wl_center, sf_dat.vi_50p, 'ro', alpha=0.5)\n",
    "#ax.plot(sf_dat3.wl_center, sf_dat3.vi_50p, 'go', alpha=0.5)\n",
    "ax.errorbar(sf_dat4.wl_center, sf_dat4.vi_50p, \n",
    "             yerr=(sf_dat4.vi_50p-sf_dat4.vi_05p,\n",
    "                  sf_dat4.vi_95p-sf_dat4.vi_50p),fmt='g.', alpha=0.7)\n",
    "ax.plot(sf_dat4.wl_center, sf_dat4.vi_50p, 'ko', alpha=0.9)\n",
    "ax.plot(sf_dat4.wl_center, sf_dat4.Teff2_50p, 'ko', alpha=0.9)\n",
    "\n",
    "ax.set_ylim(10, 40)\n",
    "ax.set_xlim(14000, 26000)\n",
    "ax.set_ylabel('$v \\sin{i}$ (km/s)')\n",
    "ax.set_xlabel('$\\lambda \\,(\\AA $)')\n",
    "ax.legend(loc='best')\n",
    "#plt.savefig('LkCa4_HK_mixvi_by_order.pdf', bbox_inches='tight')"
   ]
  },
  {
   "cell_type": "code",
   "execution_count": null,
   "metadata": {
    "collapsed": false
   },
   "outputs": [],
   "source": [
    "#plt.subplot(211)\n",
    "fig = plt.figure(figsize=(18, 6))\n",
    "ax1 = fig.add_axes([0.35, 0.7, 0.45, 0.2],xticks=[], yticks=[0.0, 0.5, 1])\n",
    "#ax1.fill_between(tell.wls, tell.trans, y2=1.0, alpha=0.5)\n",
    "ax1.set_xlim(14000, 26000)\n",
    "ax1.set_ylim(-0.2, 1)\n",
    "ax1.set_ylabel('$\\oplus$ trans.')\n",
    "for i in range(N_orders):\n",
    "    x = [sf_dat.wl_start[i], sf_dat.wl_end[i]]\n",
    "    y = [sf_dat.tell_trans[i]]*2\n",
    "    ax1.plot(x, y, 'k-', alpha=0.5)\n",
    "    \n",
    "#text_pos = 500.0 + 20.0*np.arange(N_orders)    \n",
    "for i in range(N_orders):\n",
    "    print_every = 1\n",
    "    if sf_dat.m_val[i] > 100:\n",
    "        print_every = 2\n",
    "    if (sf_dat.number.values[i] % print_every) == 0:\n",
    "        ax1.text(sf_dat.wl_center[i], -0.08, '{}'.format(sf_dat.m_val.values[i]),\n",
    "                 fontsize=8, rotation=90)\n",
    "    \n",
    "    \n",
    "ax = fig.add_axes([0.35, 0.1, 0.45, 0.6])\n",
    "\n",
    "ax.vlines(sf_dat2.wl_center, 0, 1, linestyles='dotted')\n",
    "#ax.plot(sf_dat2.wl_center, sf_dat2.ff_50p, 'bs', alpha=0.5)\n",
    "#ax.plot(sf_dat.wl_center, sf_dat.ff_50p, 'ro', alpha=0.5)\n",
    "#ax.plot(sf_dat3.wl_center, sf_dat3.ff_50p, 'go', alpha=0.5)\n",
    "ax.errorbar(sf_dat4.wl_center, sf_dat4.ff_50p, \n",
    "             yerr=(sf_dat4.ff_50p-sf_dat4.ff_05p,\n",
    "                  sf_dat4.ff_95p-sf_dat4.ff_50p),fmt='g.', alpha=0.7)\n",
    "ax.plot(sf_dat4.wl_center, sf_dat4.ff_50p, 'ko', alpha=0.9)\n",
    "ax.plot(sf_dat4.wl_center, sf_dat4.Teff2_50p, 'ko', alpha=0.9)\n",
    "\n",
    "ax.set_ylim(0, 1)\n",
    "ax.set_xlim(14000, 26000)\n",
    "ax.set_ylabel('$f$')\n",
    "ax.set_xlabel('$\\lambda \\,(\\AA $)')\n",
    "ax.legend(loc='best')\n",
    "#plt.savefig('LkCa4_HK_mixff_by_order.pdf', bbox_inches='tight')"
   ]
  },
  {
   "cell_type": "code",
   "execution_count": null,
   "metadata": {
    "collapsed": false
   },
   "outputs": [],
   "source": [
    "#plt.subplot(211)\n",
    "fig = plt.figure(figsize=(18, 6))\n",
    "ax1 = fig.add_axes([0.35, 0.7, 0.45, 0.2],xticks=[], yticks=[0.0, 0.5, 1])\n",
    "#ax1.fill_between(tell.wls, tell.trans, y2=1.0, alpha=0.5)\n",
    "ax1.set_xlim(14000, 26000)\n",
    "ax1.set_ylim(-0.2, 1)\n",
    "ax1.set_ylabel('$\\oplus$ trans.')\n",
    "for i in range(N_orders):\n",
    "    x = [sf_dat.wl_start[i], sf_dat.wl_end[i]]\n",
    "    y = [sf_dat.tell_trans[i]]*2\n",
    "    ax1.plot(x, y, 'k-', alpha=0.5)\n",
    "    \n",
    "#text_pos = 500.0 + 20.0*np.arange(N_orders)    \n",
    "for i in range(N_orders):\n",
    "    print_every = 1\n",
    "    if sf_dat.m_val[i] > 100:\n",
    "        print_every = 2\n",
    "    if (sf_dat.number.values[i] % print_every) == 0:\n",
    "        ax1.text(sf_dat.wl_center[i], -0.08, '{}'.format(sf_dat.m_val.values[i]),\n",
    "                 fontsize=8, rotation=90)\n",
    "    \n",
    "    \n",
    "ax = fig.add_axes([0.35, 0.1, 0.45, 0.6])\n",
    "\n",
    "ax.vlines(sf_dat2.wl_center, 0, 20, linestyles='dotted')\n",
    "#ax.plot(sf_dat2.wl_center, sf_dat2.vz_50p, 'bs', alpha=0.5)\n",
    "#ax.plot(sf_dat.wl_center, sf_dat.vz_50p, 'ro', alpha=0.5)\n",
    "#ax.plot(sf_dat3.wl_center, sf_dat3.vz_50p, 'go', alpha=0.5)\n",
    "ax.errorbar(sf_dat4.wl_center, sf_dat4.vz_50p, \n",
    "             yerr=(sf_dat4.vz_50p-sf_dat4.vz_05p,\n",
    "                  sf_dat4.vz_95p-sf_dat4.vz_50p),fmt='g.', alpha=0.7)\n",
    "ax.plot(sf_dat4.wl_center, sf_dat4.vz_50p, 'ko', alpha=0.9)\n",
    "ax.plot(sf_dat4.wl_center, sf_dat4.Teff2_50p, 'ko', alpha=0.9)\n",
    "\n",
    "ax.set_ylim(0, 20)\n",
    "ax.set_xlim(14000, 26000)\n",
    "ax.set_ylabel('$v_z$ (km/s)')\n",
    "ax.set_xlabel('$\\lambda \\,(\\AA $)')\n",
    "ax.legend(loc='best')\n",
    "#plt.savefig('LkCa4_HK_mixvz_by_order.pdf', bbox_inches='tight')"
   ]
  },
  {
   "cell_type": "code",
   "execution_count": null,
   "metadata": {
    "collapsed": false
   },
   "outputs": [],
   "source": [
    "plt.plot(sf_dat4.Teff_50p, sf_dat4.FeH_50p, '.')"
   ]
  },
  {
   "cell_type": "code",
   "execution_count": null,
   "metadata": {
    "collapsed": true
   },
   "outputs": [],
   "source": []
  },
  {
   "cell_type": "code",
   "execution_count": null,
   "metadata": {
    "collapsed": true
   },
   "outputs": [],
   "source": [
    "sns.set_context('poster')"
   ]
  },
  {
   "cell_type": "code",
   "execution_count": null,
   "metadata": {
    "collapsed": false
   },
   "outputs": [],
   "source": [
    "plt.figure(figsize=(6, 6))\n",
    "plt.plot(sf_dat4.ff_50p, sf_dat4.Teff2_50p, 'ko', alpha=0.5)\n",
    "plt.errorbar(sf_dat4.ff_50p, sf_dat4.Teff2_50p, \n",
    "             yerr=(sf_dat4.Teff2_50p-sf_dat4.Teff2_05p,\n",
    "                  sf_dat4.Teff2_95p-sf_dat4.Teff2_50p),\n",
    "             xerr=(sf_dat4.ff_50p-sf_dat4.ff_05p,\n",
    "                  sf_dat4.ff_95p-sf_dat4.ff_50p), fmt='ko', alpha=0.5)\n",
    "#plt.plot(sf_dat4.ff_50p, sf_dat4.Teff_05p, 'rv', alpha=0.5)\n",
    "#plt.plot(sf_dat4.ff_50p, sf_dat4.Teff_95p, 'rs', alpha=0.5)\n",
    "bi = sf_dat4.Teff2_50p > 3400\n",
    "subset = sf_dat4[bi]\n",
    "\n",
    "subset.reset_index(inplace=True)\n",
    "\n",
    "for i in range(len(subset)):\n",
    "    plt.text(subset.ff_50p[i]+0.02, subset.Teff2_50p[i]+10, \"m={}\".format(subset.m_val[i]))\n",
    "\n",
    "plt.ylabel('$T_{eff,2}$ (K)')\n",
    "plt.xlabel('Starspot filling factor, $f$')\n",
    "plt.xlim(0,1)\n",
    "plt.ylim(2600,4600)\n",
    "#plt.savefig('../results/fig/LkCa4_starspot_IGRINSorders.pdf')\n",
    "plt.savefig('../results/coolstars19/LkCa4_starspot_poster.pdf', bbox_inches='tight')"
   ]
  },
  {
   "cell_type": "code",
   "execution_count": null,
   "metadata": {
    "collapsed": false
   },
   "outputs": [],
   "source": [
    "#plt.plot(sf_dat4.wl_center, sf_dat4.vz_50p, '.')\n",
    "plt.errorbar(sf_dat4.wl_center, sf_dat4.vz_50p, \n",
    "             (sf_dat4.vz_50p-sf_dat4.vz_05p, sf_dat4.vz_95p-sf_dat4.vz_50p), \n",
    "             fmt='.', barsabove=True, capsize=5, capthick=1)\n",
    "\n",
    "bi = (sf_dat4.vz_50p > 16) | (sf_dat4.vz_50p < 8)\n",
    "subset = sf_dat4[bi]\n",
    "\n",
    "subset.reset_index(inplace=True)\n",
    "\n",
    "for i in range(len(subset)):\n",
    "    plt.text(subset.wl_center[i]+10, subset.vz_50p[i]+0.5, \"m={}\".format(subset.m_val[i]))\n",
    "\n",
    "plt.ylabel('$v_{z}$ ($\\mathrm{km \\; s}^{-1}$)')\n",
    "plt.xlabel('$\\lambda$ ($\\AA$)')\n",
    "plt.ylim(0, 20)"
   ]
  },
  {
   "cell_type": "code",
   "execution_count": null,
   "metadata": {
    "collapsed": true
   },
   "outputs": [],
   "source": [
    "import astropy.constants as c"
   ]
  },
  {
   "cell_type": "code",
   "execution_count": null,
   "metadata": {
    "collapsed": false
   },
   "outputs": [],
   "source": [
    "v = c.c/45000"
   ]
  },
  {
   "cell_type": "code",
   "execution_count": null,
   "metadata": {
    "collapsed": true
   },
   "outputs": [],
   "source": [
    "import astropy.units as u"
   ]
  },
  {
   "cell_type": "code",
   "execution_count": null,
   "metadata": {
    "collapsed": false
   },
   "outputs": [],
   "source": [
    "v.to(u.km/u.s)"
   ]
  },
  {
   "cell_type": "code",
   "execution_count": null,
   "metadata": {
    "collapsed": false
   },
   "outputs": [],
   "source": [
    "#plt.plot(sf_dat4.wl_center, sf_dat4.vz_50p, '.')\n",
    "plt.errorbar(sf_dat4.wl_center, sf_dat4.vi_50p, \n",
    "             (sf_dat4.vi_50p-sf_dat4.vi_05p, sf_dat4.vi_95p-sf_dat4.vi_50p), \n",
    "             fmt='.', barsabove=True, capsize=5, capthick=1)\n",
    "plt.ylabel('$v\\sin{i}$ ($\\mathrm{km \\; s}^{-1}$)')\n",
    "plt.xlabel('$\\lambda$ ($\\AA$)')"
   ]
  },
  {
   "cell_type": "code",
   "execution_count": null,
   "metadata": {
    "collapsed": false
   },
   "outputs": [],
   "source": [
    "#plt.plot(sf_dat4.wl_center, sf_dat4.vz_50p, '.')\n",
    "plt.errorbar(sf_dat4.wl_center, sf_dat4.logg_50p, \n",
    "             (sf_dat4.logg_50p-sf_dat4.logg_05p, sf_dat4.logg_95p-sf_dat4.logg_50p), \n",
    "             fmt='.', barsabove=True, capsize=5, capthick=1)\n",
    "plt.ylabel('$\\log{g}$')\n",
    "plt.xlabel('$\\lambda$ ($\\AA$)')"
   ]
  },
  {
   "cell_type": "code",
   "execution_count": null,
   "metadata": {
    "collapsed": false
   },
   "outputs": [],
   "source": [
    "sns.distplot(sf_dat4.logg_50p[sf_dat4.logg_50p == sf_dat4.logg_50p], rug=True)"
   ]
  },
  {
   "cell_type": "code",
   "execution_count": null,
   "metadata": {
    "collapsed": true
   },
   "outputs": [],
   "source": [
    "gi = sf_dat4.logg_50p == sf_dat4.logg_50p"
   ]
  },
  {
   "cell_type": "code",
   "execution_count": null,
   "metadata": {
    "collapsed": true
   },
   "outputs": [],
   "source": [
    "vals = sf_dat4.logg_50p[gi]"
   ]
  },
  {
   "cell_type": "code",
   "execution_count": null,
   "metadata": {
    "collapsed": true
   },
   "outputs": [],
   "source": [
    "logg = np.average(sf_dat4.logg_50p[gi], weights=sf_dat4.logg_95p[gi]-sf_dat4.logg_05p[gi])"
   ]
  },
  {
   "cell_type": "code",
   "execution_count": null,
   "metadata": {
    "collapsed": false
   },
   "outputs": [],
   "source": [
    "feh = np.average(sf_dat4.FeH_50p[gi], weights=sf_dat4.FeH_95p[gi]-sf_dat4.FeH_05p[gi])"
   ]
  },
  {
   "cell_type": "code",
   "execution_count": null,
   "metadata": {
    "collapsed": false
   },
   "outputs": [],
   "source": [
    "logg"
   ]
  },
  {
   "cell_type": "code",
   "execution_count": null,
   "metadata": {
    "collapsed": false
   },
   "outputs": [],
   "source": [
    "feh"
   ]
  },
  {
   "cell_type": "code",
   "execution_count": null,
   "metadata": {
    "collapsed": false
   },
   "outputs": [],
   "source": [
    "#plt.plot(sf_dat4.wl_center, sf_dat4.vz_50p, '.')\n",
    "plt.errorbar(sf_dat4.wl_center, sf_dat4.FeH_50p, \n",
    "             (sf_dat4.FeH_50p-sf_dat4.FeH_05p, sf_dat4.FeH_95p-sf_dat4.FeH_50p), \n",
    "             fmt='.', barsabove=True, capsize=5, capthick=1)\n",
    "plt.ylabel('$[Fe/H]$')\n",
    "plt.xlabel('$\\lambda$ ($\\AA$)')"
   ]
  },
  {
   "cell_type": "markdown",
   "metadata": {},
   "source": [
    "The end for now.  "
   ]
  }
 ],
 "metadata": {
  "kernelspec": {
   "display_name": "Python 3",
   "language": "python",
   "name": "python3"
  },
  "language_info": {
   "codemirror_mode": {
    "name": "ipython",
    "version": 3
   },
   "file_extension": ".py",
   "mimetype": "text/x-python",
   "name": "python",
   "nbconvert_exporter": "python",
   "pygments_lexer": "ipython3",
   "version": "3.4.4"
  }
 },
 "nbformat": 4,
 "nbformat_minor": 0
}
