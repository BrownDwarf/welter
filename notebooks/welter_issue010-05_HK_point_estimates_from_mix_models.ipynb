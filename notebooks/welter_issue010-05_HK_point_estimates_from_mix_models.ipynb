{
 "cells": [
  {
   "cell_type": "markdown",
   "metadata": {
    "collapsed": true
   },
   "source": [
    "How's it look?\n",
    "\n",
    "Now with **Mixture model**!"
   ]
  },
  {
   "cell_type": "markdown",
   "metadata": {},
   "source": [
    "# Make a pandas dataframe of the average values from the inference"
   ]
  },
  {
   "cell_type": "code",
   "execution_count": 1,
   "metadata": {
    "collapsed": true
   },
   "outputs": [],
   "source": [
    "import pandas as pd"
   ]
  },
  {
   "cell_type": "code",
   "execution_count": 2,
   "metadata": {
    "collapsed": false
   },
   "outputs": [],
   "source": [
    "old_df = pd.read_csv('../data/analysis/IGRINS_LkCa4_run01_last20kMCMC.csv')"
   ]
  },
  {
   "cell_type": "markdown",
   "metadata": {},
   "source": [
    "Copy the metadata columns from the old dataframe:"
   ]
  },
  {
   "cell_type": "code",
   "execution_count": 3,
   "metadata": {
    "collapsed": false
   },
   "outputs": [],
   "source": [
    "new_df = old_df[old_df.columns[np.arange(7)]]"
   ]
  },
  {
   "cell_type": "markdown",
   "metadata": {},
   "source": [
    "What columns do we want?\n",
    "\n",
    "- All the same as the last array: median and 2 sigma ranges. (6+6)*3 = 36 \n",
    "- Teff2 and Omega2 and 2 sigma ranges. (1+1)*3 = 6\n",
    "- Conversion of Omega2 and Omega1 into fill factor and 2 sigma ranges. (1)*3 = 3\n",
    "- Metadata about the number of samples and the burn-in assumed to compute the above values.\n",
    "    - We can get more metadata from the `sacct` log from slurm"
   ]
  },
  {
   "cell_type": "code",
   "execution_count": 4,
   "metadata": {
    "collapsed": false
   },
   "outputs": [
    {
     "name": "stderr",
     "output_type": "stream",
     "text": [
      "//anaconda/lib/python3.4/site-packages/ipykernel/__main__.py:2: SettingWithCopyWarning: \n",
      "A value is trying to be set on a copy of a slice from a DataFrame.\n",
      "Try using .loc[row_indexer,col_indexer] = value instead\n",
      "\n",
      "See the caveats in the documentation: http://pandas.pydata.org/pandas-docs/stable/indexing.html#indexing-view-versus-copy\n",
      "  from ipykernel import kernelapp as app\n"
     ]
    }
   ],
   "source": [
    "for col in old_df.columns[7:].values:\n",
    "    new_df[col] = np.NaN"
   ]
  },
  {
   "cell_type": "code",
   "execution_count": 5,
   "metadata": {
    "collapsed": true
   },
   "outputs": [],
   "source": [
    "for col in ['Teff2_05p', 'Teff2_50p', 'Teff2_95p']:\n",
    "    new_df[col] = np.NaN\n",
    "for col in ['logO2_05p', 'logO2_50p', 'logO2_95p']:\n",
    "    new_df[col] = np.NaN\n",
    "for col in ['ff_05p', 'ff_50p', 'ff_95p']:\n",
    "    new_df[col] = np.NaN"
   ]
  },
  {
   "cell_type": "code",
   "execution_count": 6,
   "metadata": {
    "collapsed": true
   },
   "outputs": [],
   "source": [
    "new_df['inference'] = np.NaN"
   ]
  },
  {
   "cell_type": "markdown",
   "metadata": {},
   "source": [
    "### $K-$band"
   ]
  },
  {
   "cell_type": "code",
   "execution_count": 9,
   "metadata": {
    "collapsed": true
   },
   "outputs": [],
   "source": [
    "ms = np.arange(72, 94+1)"
   ]
  },
  {
   "cell_type": "code",
   "execution_count": 10,
   "metadata": {
    "collapsed": false
   },
   "outputs": [],
   "source": [
    "for m in ms:\n",
    "    ind = new_df.index[new_df.m_val == m]\n",
    "    try:\n",
    "        ws = np.load(\"../sf/m{:03d}/output/mix_emcee/run01/emcee_chain.npy\".format(m))\n",
    "        new_df.set_value(ind, 'inference', True)\n",
    "    except:\n",
    "        new_df.set_value(ind, 'inference', False)"
   ]
  },
  {
   "cell_type": "markdown",
   "metadata": {},
   "source": [
    "## $H-$band"
   ]
  },
  {
   "cell_type": "code",
   "execution_count": 11,
   "metadata": {
    "collapsed": true
   },
   "outputs": [],
   "source": [
    "ms = np.hstack((np.arange(100, 111), np.arange(112,123+1)))"
   ]
  },
  {
   "cell_type": "code",
   "execution_count": 14,
   "metadata": {
    "collapsed": true
   },
   "outputs": [],
   "source": [
    "for m in ms:\n",
    "    ind = new_df.index[new_df.m_val == m]\n",
    "    try:\n",
    "        ws = np.load(\"../sf/m{:03d}/output/mix_emcee/run02/emcee_chain.npy\".format(m))\n",
    "        new_df.set_value(ind, 'inference', True)\n",
    "    except:\n",
    "        new_df.set_value(ind, 'inference', False)"
   ]
  },
  {
   "cell_type": "markdown",
   "metadata": {},
   "source": [
    "The orders that did not successfully complete Starfish runs."
   ]
  },
  {
   "cell_type": "code",
   "execution_count": 17,
   "metadata": {
    "collapsed": false
   },
   "outputs": [
    {
     "name": "stderr",
     "output_type": "stream",
     "text": [
      "//anaconda/lib/python3.4/site-packages/ipykernel/__main__.py:1: SettingWithCopyWarning: \n",
      "A value is trying to be set on a copy of a slice from a DataFrame\n",
      "\n",
      "See the caveats in the documentation: http://pandas.pydata.org/pandas-docs/stable/indexing.html#indexing-view-versus-copy\n",
      "  if __name__ == '__main__':\n"
     ]
    }
   ],
   "source": [
    "new_df.inference[new_df.inference != new_df.inference] = False"
   ]
  },
  {
   "cell_type": "markdown",
   "metadata": {},
   "source": [
    "## Prepare the column names."
   ]
  },
  {
   "cell_type": "code",
   "execution_count": 18,
   "metadata": {
    "collapsed": false
   },
   "outputs": [],
   "source": [
    "cs = new_df.columns[7:-5:3]\n",
    "bases = cs.str[:-4]\n",
    "base_inds = np.hstack([np.arange(6), np.arange(8, 14), [6, 7]])\n",
    "suffixes = ['_05p', '_50p', '_95p']\n",
    "base_dict = {key:val for key, val in zip(bases, base_inds)}\n",
    "suffix_dict = {key:val for key, val in zip(suffixes, [5, 50, 95])}"
   ]
  },
  {
   "cell_type": "markdown",
   "metadata": {},
   "source": [
    "We want the last 200 walkers."
   ]
  },
  {
   "cell_type": "code",
   "execution_count": 30,
   "metadata": {
    "collapsed": true
   },
   "outputs": [],
   "source": [
    "n_s = 200"
   ]
  },
  {
   "cell_type": "markdown",
   "metadata": {},
   "source": [
    "## $K-$band"
   ]
  },
  {
   "cell_type": "code",
   "execution_count": 27,
   "metadata": {
    "collapsed": true
   },
   "outputs": [],
   "source": [
    "ms = np.arange(72, 94+1)"
   ]
  },
  {
   "cell_type": "code",
   "execution_count": 31,
   "metadata": {
    "collapsed": false
   },
   "outputs": [],
   "source": [
    "for m in ms:\n",
    "    ind = new_df.index[new_df.m_val == m]\n",
    "    ws = np.load(\"../sf/m{:03d}/output/mix_emcee/run01/emcee_chain.npy\".format(m))\n",
    "    burned = ws[:, -1*n_s:,:]\n",
    "    xs, ys, zs = burned.shape\n",
    "    fc = burned.reshape(xs*ys, zs)\n",
    "    bb = 10**fc[:,7] / ( 10**fc[:,5] + 10**fc[:,7] )\n",
    "    for suffix in suffixes:\n",
    "        new_df.set_value(ind, 'ff'+suffix, np.percentile(bb, suffix_dict[suffix]))\n",
    "        for base in bases:\n",
    "            new_df.set_value(ind, base+suffix, np.percentile(fc[:, base_dict[base]], suffix_dict[suffix]))"
   ]
  },
  {
   "cell_type": "markdown",
   "metadata": {},
   "source": [
    "## $H-$band"
   ]
  },
  {
   "cell_type": "code",
   "execution_count": 32,
   "metadata": {
    "collapsed": true
   },
   "outputs": [],
   "source": [
    "ms = np.hstack((np.arange(100, 111), np.arange(112,123+1)))"
   ]
  },
  {
   "cell_type": "code",
   "execution_count": 33,
   "metadata": {
    "collapsed": true
   },
   "outputs": [],
   "source": [
    "for m in ms:\n",
    "    ind = new_df.index[new_df.m_val == m]\n",
    "    ws = np.load(\"../sf/m{:03d}/output/mix_emcee/run02/emcee_chain.npy\".format(m))\n",
    "    burned = ws[:, -1*n_s:,:]\n",
    "    xs, ys, zs = burned.shape\n",
    "    fc = burned.reshape(xs*ys, zs)\n",
    "    bb = 10**fc[:,7] / ( 10**fc[:,5] + 10**fc[:,7] )\n",
    "    for suffix in suffixes:\n",
    "        new_df.set_value(ind, 'ff'+suffix, np.percentile(bb, suffix_dict[suffix]))\n",
    "        for base in bases:\n",
    "            new_df.set_value(ind, base+suffix, np.percentile(fc[:, base_dict[base]], suffix_dict[suffix]))"
   ]
  },
  {
   "cell_type": "code",
   "execution_count": 35,
   "metadata": {
    "collapsed": false
   },
   "outputs": [
    {
     "data": {
      "text/html": [
       "<div>\n",
       "<table border=\"1\" class=\"dataframe\">\n",
       "  <thead>\n",
       "    <tr style=\"text-align: right;\">\n",
       "      <th></th>\n",
       "      <th>wl_start</th>\n",
       "      <th>wl_end</th>\n",
       "      <th>band</th>\n",
       "      <th>number</th>\n",
       "      <th>tell_trans</th>\n",
       "      <th>m_val</th>\n",
       "      <th>wl_center</th>\n",
       "      <th>Teff_05p</th>\n",
       "      <th>Teff_50p</th>\n",
       "      <th>Teff_95p</th>\n",
       "      <th>...</th>\n",
       "      <th>Teff2_05p</th>\n",
       "      <th>Teff2_50p</th>\n",
       "      <th>Teff2_95p</th>\n",
       "      <th>logO2_05p</th>\n",
       "      <th>logO2_50p</th>\n",
       "      <th>logO2_95p</th>\n",
       "      <th>ff_05p</th>\n",
       "      <th>ff_50p</th>\n",
       "      <th>ff_95p</th>\n",
       "      <th>inference</th>\n",
       "    </tr>\n",
       "  </thead>\n",
       "  <tbody>\n",
       "    <tr>\n",
       "      <th>0</th>\n",
       "      <td>18092.0</td>\n",
       "      <td>18346.0</td>\n",
       "      <td>H</td>\n",
       "      <td>0</td>\n",
       "      <td>0.117487</td>\n",
       "      <td>98</td>\n",
       "      <td>18219.0</td>\n",
       "      <td>NaN</td>\n",
       "      <td>NaN</td>\n",
       "      <td>NaN</td>\n",
       "      <td>...</td>\n",
       "      <td>NaN</td>\n",
       "      <td>NaN</td>\n",
       "      <td>NaN</td>\n",
       "      <td>NaN</td>\n",
       "      <td>NaN</td>\n",
       "      <td>NaN</td>\n",
       "      <td>NaN</td>\n",
       "      <td>NaN</td>\n",
       "      <td>NaN</td>\n",
       "      <td>False</td>\n",
       "    </tr>\n",
       "    <tr>\n",
       "      <th>1</th>\n",
       "      <td>17914.0</td>\n",
       "      <td>18165.0</td>\n",
       "      <td>H</td>\n",
       "      <td>1</td>\n",
       "      <td>0.342583</td>\n",
       "      <td>99</td>\n",
       "      <td>18039.5</td>\n",
       "      <td>NaN</td>\n",
       "      <td>NaN</td>\n",
       "      <td>NaN</td>\n",
       "      <td>...</td>\n",
       "      <td>NaN</td>\n",
       "      <td>NaN</td>\n",
       "      <td>NaN</td>\n",
       "      <td>NaN</td>\n",
       "      <td>NaN</td>\n",
       "      <td>NaN</td>\n",
       "      <td>NaN</td>\n",
       "      <td>NaN</td>\n",
       "      <td>NaN</td>\n",
       "      <td>False</td>\n",
       "    </tr>\n",
       "    <tr>\n",
       "      <th>2</th>\n",
       "      <td>17739.0</td>\n",
       "      <td>17988.0</td>\n",
       "      <td>H</td>\n",
       "      <td>2</td>\n",
       "      <td>0.666035</td>\n",
       "      <td>100</td>\n",
       "      <td>17863.5</td>\n",
       "      <td>4119.604630</td>\n",
       "      <td>4312.672222</td>\n",
       "      <td>4474.515407</td>\n",
       "      <td>...</td>\n",
       "      <td>2703.707416</td>\n",
       "      <td>2765.367136</td>\n",
       "      <td>2900.392667</td>\n",
       "      <td>-0.058854</td>\n",
       "      <td>0.051357</td>\n",
       "      <td>0.139004</td>\n",
       "      <td>0.734685</td>\n",
       "      <td>0.794156</td>\n",
       "      <td>0.832494</td>\n",
       "      <td>True</td>\n",
       "    </tr>\n",
       "    <tr>\n",
       "      <th>3</th>\n",
       "      <td>17568.0</td>\n",
       "      <td>17815.0</td>\n",
       "      <td>H</td>\n",
       "      <td>3</td>\n",
       "      <td>0.827089</td>\n",
       "      <td>101</td>\n",
       "      <td>17691.5</td>\n",
       "      <td>3625.364642</td>\n",
       "      <td>4199.583018</td>\n",
       "      <td>4463.705141</td>\n",
       "      <td>...</td>\n",
       "      <td>2757.251605</td>\n",
       "      <td>2916.251194</td>\n",
       "      <td>3075.061624</td>\n",
       "      <td>-0.382951</td>\n",
       "      <td>-0.004874</td>\n",
       "      <td>0.110811</td>\n",
       "      <td>0.566891</td>\n",
       "      <td>0.792576</td>\n",
       "      <td>0.844624</td>\n",
       "      <td>True</td>\n",
       "    </tr>\n",
       "    <tr>\n",
       "      <th>4</th>\n",
       "      <td>17400.0</td>\n",
       "      <td>17645.0</td>\n",
       "      <td>H</td>\n",
       "      <td>4</td>\n",
       "      <td>0.904758</td>\n",
       "      <td>102</td>\n",
       "      <td>17522.5</td>\n",
       "      <td>4176.946167</td>\n",
       "      <td>4336.687926</td>\n",
       "      <td>4473.679807</td>\n",
       "      <td>...</td>\n",
       "      <td>2702.575311</td>\n",
       "      <td>2751.474163</td>\n",
       "      <td>2864.956469</td>\n",
       "      <td>0.029823</td>\n",
       "      <td>0.117106</td>\n",
       "      <td>0.199920</td>\n",
       "      <td>0.772381</td>\n",
       "      <td>0.819419</td>\n",
       "      <td>0.858518</td>\n",
       "      <td>True</td>\n",
       "    </tr>\n",
       "  </tbody>\n",
       "</table>\n",
       "<p>5 rows × 53 columns</p>\n",
       "</div>"
      ],
      "text/plain": [
       "   wl_start   wl_end band  number  tell_trans  m_val  wl_center     Teff_05p  \\\n",
       "0   18092.0  18346.0    H       0    0.117487     98    18219.0          NaN   \n",
       "1   17914.0  18165.0    H       1    0.342583     99    18039.5          NaN   \n",
       "2   17739.0  17988.0    H       2    0.666035    100    17863.5  4119.604630   \n",
       "3   17568.0  17815.0    H       3    0.827089    101    17691.5  3625.364642   \n",
       "4   17400.0  17645.0    H       4    0.904758    102    17522.5  4176.946167   \n",
       "\n",
       "      Teff_50p     Teff_95p    ...        Teff2_05p    Teff2_50p    Teff2_95p  \\\n",
       "0          NaN          NaN    ...              NaN          NaN          NaN   \n",
       "1          NaN          NaN    ...              NaN          NaN          NaN   \n",
       "2  4312.672222  4474.515407    ...      2703.707416  2765.367136  2900.392667   \n",
       "3  4199.583018  4463.705141    ...      2757.251605  2916.251194  3075.061624   \n",
       "4  4336.687926  4473.679807    ...      2702.575311  2751.474163  2864.956469   \n",
       "\n",
       "   logO2_05p  logO2_50p  logO2_95p    ff_05p    ff_50p    ff_95p  inference  \n",
       "0        NaN        NaN        NaN       NaN       NaN       NaN      False  \n",
       "1        NaN        NaN        NaN       NaN       NaN       NaN      False  \n",
       "2  -0.058854   0.051357   0.139004  0.734685  0.794156  0.832494       True  \n",
       "3  -0.382951  -0.004874   0.110811  0.566891  0.792576  0.844624       True  \n",
       "4   0.029823   0.117106   0.199920  0.772381  0.819419  0.858518       True  \n",
       "\n",
       "[5 rows x 53 columns]"
      ]
     },
     "execution_count": 35,
     "metadata": {},
     "output_type": "execute_result"
    }
   ],
   "source": [
    "new_df.head()"
   ]
  },
  {
   "cell_type": "code",
   "execution_count": 36,
   "metadata": {
    "collapsed": true
   },
   "outputs": [],
   "source": [
    "new_df.to_csv('../data/analysis/IGRINS_mix_K_Run01_H_Run02.csv', index=False)"
   ]
  },
  {
   "cell_type": "markdown",
   "metadata": {},
   "source": [
    "The end."
   ]
  }
 ],
 "metadata": {
  "kernelspec": {
   "display_name": "Python 3",
   "language": "python",
   "name": "python3"
  },
  "language_info": {
   "codemirror_mode": {
    "name": "ipython",
    "version": 3
   },
   "file_extension": ".py",
   "mimetype": "text/x-python",
   "name": "python",
   "nbconvert_exporter": "python",
   "pygments_lexer": "ipython3",
   "version": "3.4.5"
  }
 },
 "nbformat": 4,
 "nbformat_minor": 0
}
