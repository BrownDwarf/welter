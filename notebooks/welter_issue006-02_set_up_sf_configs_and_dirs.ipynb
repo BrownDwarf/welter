{
 "cells": [
  {
   "cell_type": "markdown",
   "metadata": {},
   "source": [
    "# Welter issue #6\n",
    "## Set up the Starfish config.yaml files and directories\n",
    "### Part 2- Git-er-done\n",
    "\n",
    "Michael Gully-Santiago  \n",
    "Thursday, December 17, 2015  \n",
    "\n",
    "Let's do it."
   ]
  },
  {
   "cell_type": "code",
   "execution_count": 1,
   "metadata": {
    "collapsed": true
   },
   "outputs": [],
   "source": [
    "import warnings\n",
    "warnings.filterwarnings(\"ignore\")\n",
    "import numpy as np\n",
    "from astropy.io import fits\n",
    "import matplotlib.pyplot as plt"
   ]
  },
  {
   "cell_type": "code",
   "execution_count": 2,
   "metadata": {
    "collapsed": true
   },
   "outputs": [],
   "source": [
    "% matplotlib inline\n",
    "% config InlineBackend.figure_format = 'retina'\n",
    "import seaborn as sns\n",
    "sns.set_context('notebook')"
   ]
  },
  {
   "cell_type": "markdown",
   "metadata": {},
   "source": [
    "## Big loop."
   ]
  },
  {
   "cell_type": "code",
   "execution_count": 13,
   "metadata": {
    "collapsed": true
   },
   "outputs": [],
   "source": [
    "import Starfish\n",
    "import yaml\n",
    "import os\n",
    "import h5py"
   ]
  },
  {
   "cell_type": "markdown",
   "metadata": {},
   "source": [
    "We have to change: \n",
    "- `data/files`\n",
    "- `grid/hdf5_path`\n",
    "- `grid/wl_range`\n",
    "- `PCA/path`\n",
    "- `name`"
   ]
  },
  {
   "cell_type": "code",
   "execution_count": 193,
   "metadata": {
    "collapsed": false
   },
   "outputs": [
    {
     "name": "stdout",
     "output_type": "stream",
     "text": [
      "098: 18154  -  18335   ../data/reduced/LkCa4_IGRINS_m098.hdf5\n",
      "wrote to ../sf/m098/\n",
      "099: 17975  -  18155   ../data/reduced/LkCa4_IGRINS_m099.hdf5\n",
      "wrote to ../sf/m099/\n",
      "100: 17800  -  17978   ../data/reduced/LkCa4_IGRINS_m100.hdf5\n",
      "wrote to ../sf/m100/\n",
      "101: 17628  -  17805   ../data/reduced/LkCa4_IGRINS_m101.hdf5\n",
      "wrote to ../sf/m101/\n",
      "102: 17460  -  17635   ../data/reduced/LkCa4_IGRINS_m102.hdf5\n",
      "wrote to ../sf/m102/\n",
      "103: 17295  -  17468   ../data/reduced/LkCa4_IGRINS_m103.hdf5\n",
      "wrote to ../sf/m103/\n",
      "104: 17133  -  17305   ../data/reduced/LkCa4_IGRINS_m104.hdf5\n",
      "wrote to ../sf/m104/\n",
      "105: 16975  -  17145   ../data/reduced/LkCa4_IGRINS_m105.hdf5\n",
      "wrote to ../sf/m105/\n",
      "106: 16819  -  16988   ../data/reduced/LkCa4_IGRINS_m106.hdf5\n",
      "wrote to ../sf/m106/\n",
      "107: 16667  -  16834   ../data/reduced/LkCa4_IGRINS_m107.hdf5\n",
      "wrote to ../sf/m107/\n",
      "108: 16517  -  16682   ../data/reduced/LkCa4_IGRINS_m108.hdf5\n",
      "wrote to ../sf/m108/\n",
      "109: 16370  -  16534   ../data/reduced/LkCa4_IGRINS_m109.hdf5\n",
      "wrote to ../sf/m109/\n",
      "110: 16226  -  16388   ../data/reduced/LkCa4_IGRINS_m110.hdf5\n",
      "wrote to ../sf/m110/\n",
      "111: 16084  -  16245   ../data/reduced/LkCa4_IGRINS_m111.hdf5\n",
      "wrote to ../sf/m111/\n",
      "112: 15946  -  16105   ../data/reduced/LkCa4_IGRINS_m112.hdf5\n",
      "wrote to ../sf/m112/\n",
      "113: 15809  -  15967   ../data/reduced/LkCa4_IGRINS_m113.hdf5\n",
      "skipping 113\n",
      "114: 15675  -  15832   ../data/reduced/LkCa4_IGRINS_m114.hdf5\n",
      "wrote to ../sf/m114/\n",
      "115: 15543  -  15699   ../data/reduced/LkCa4_IGRINS_m115.hdf5\n",
      "wrote to ../sf/m115/\n",
      "116: 15414  -  15568   ../data/reduced/LkCa4_IGRINS_m116.hdf5\n",
      "wrote to ../sf/m116/\n",
      "117: 15287  -  15439   ../data/reduced/LkCa4_IGRINS_m117.hdf5\n",
      "wrote to ../sf/m117/\n",
      "118: 15162  -  15313   ../data/reduced/LkCa4_IGRINS_m118.hdf5\n",
      "wrote to ../sf/m118/\n",
      "119: 15039  -  15189   ../data/reduced/LkCa4_IGRINS_m119.hdf5\n",
      "wrote to ../sf/m119/\n",
      "120: 14919  -  15067   ../data/reduced/LkCa4_IGRINS_m120.hdf5\n",
      "wrote to ../sf/m120/\n",
      "121: 14800  -  14947   ../data/reduced/LkCa4_IGRINS_m121.hdf5\n",
      "wrote to ../sf/m121/\n",
      "122: 14683  -  14829   ../data/reduced/LkCa4_IGRINS_m122.hdf5\n",
      "wrote to ../sf/m122/\n",
      "123: 14569  -  14713   ../data/reduced/LkCa4_IGRINS_m123.hdf5\n",
      "wrote to ../sf/m123/\n",
      "124: 14456  -  14599   ../data/reduced/LkCa4_IGRINS_m124.hdf5\n",
      "wrote to ../sf/m124/\n",
      "125: 14345  -  14487   ../data/reduced/LkCa4_IGRINS_m125.hdf5\n",
      "wrote to ../sf/m125/\n"
     ]
    }
   ],
   "source": [
    "for o in range(28):\n",
    "    m = o + 98\n",
    "    dat_name = '../data/reduced/LkCa4_IGRINS_m{:03d}.hdf5'.format(m)\n",
    "    path_out = '../sf/m{:03d}/'.format(m)\n",
    "    sf_out = '../sf/m{:03d}/config.yaml'.format(m)\n",
    "    \n",
    "    f = open(\"../sf/m113/config.yaml\")\n",
    "    config = yaml.load(f)\n",
    "    f.close()\n",
    "    \n",
    "    f=h5py.File(dat_name, \"r\")\n",
    "    wls = f['wls'][:]\n",
    "    f.close()\n",
    "    \n",
    "    config['data']['files'] = ['/Users/gully/GitHub/welter/data/reduced/LkCa4_IGRINS_m{:03d}.hdf5'.format(m)]\n",
    "    config['grid']['hdf5_path'] = '/Users/gully/GitHub/welter/sf/m113/libraries/PHOENIX_IGRINS_m{:03d}.hdf5'.format(m)\n",
    "    lb, ub = int(np.floor(wls[0])), int(np.ceil(wls[-1]))\n",
    "\n",
    "    config['grid']['wl_range'] = [lb, ub]\n",
    "    config['PCA']['path'] = '/Users/gully/GitHub/welter/sf/m{:03d}/PHOENIX_IGRINS_H_PCA.hdf5'.format(m)\n",
    "    config['name'] = 'LkCa4_m{:03d}'.format(m)\n",
    "    config['Comments'] = 'LkCa4 single order: m = {}, autogenerated config file.'.format(m)\n",
    "    \n",
    "    print(\"{:03d}: {:.0f}  -  {:.0f}   {}\".format(m, wls[0], wls[-1], dat_name))\n",
    "    \n",
    "    if m!=113:\n",
    "        os.makedirs(path_out, exist_ok=True)\n",
    "        with open(sf_out, mode='w') as outfile:\n",
    "            outfile.write(yaml.dump(config))\n",
    "            print('wrote to {}'.format(path_out))\n",
    "    else:\n",
    "        print('skipping 113')"
   ]
  },
  {
   "cell_type": "code",
   "execution_count": null,
   "metadata": {
    "collapsed": true
   },
   "outputs": [],
   "source": []
  },
  {
   "cell_type": "code",
   "execution_count": null,
   "metadata": {
    "collapsed": true
   },
   "outputs": [],
   "source": []
  },
  {
   "cell_type": "markdown",
   "metadata": {},
   "source": [
    "Read the theta.json file and put it into the config.yaml file."
   ]
  },
  {
   "cell_type": "code",
   "execution_count": 182,
   "metadata": {
    "collapsed": true
   },
   "outputs": [],
   "source": [
    "import json\n",
    "import yaml\n",
    "\n",
    "with open('theta.json', mode='r') as theta_file:\n",
    "    new_theta = json.load(theta_file)\n",
    "\n",
    "f = open(\"config.yaml\")\n",
    "config = yaml.load(f)\n",
    "f.close()\n",
    "\n",
    "config['Theta'] = new_theta\n",
    "\n",
    "with open(\"config.yaml\", mode='w') as outfile:\n",
    "    outfile.write(yaml.dump(config))\n",
    "    print('Revised the config.yaml file with the optimized theta values.')"
   ]
  },
  {
   "cell_type": "code",
   "execution_count": null,
   "metadata": {
    "collapsed": true
   },
   "outputs": [],
   "source": []
  },
  {
   "cell_type": "code",
   "execution_count": null,
   "metadata": {
    "collapsed": true
   },
   "outputs": [],
   "source": []
  },
  {
   "cell_type": "code",
   "execution_count": null,
   "metadata": {
    "collapsed": true
   },
   "outputs": [],
   "source": []
  },
  {
   "cell_type": "markdown",
   "metadata": {},
   "source": [
    "# TO BE DONE: K BAND, SAME AS ABOVE"
   ]
  },
  {
   "cell_type": "code",
   "execution_count": 179,
   "metadata": {
    "collapsed": true
   },
   "outputs": [],
   "source": [
    "# ......"
   ]
  },
  {
   "cell_type": "markdown",
   "metadata": {},
   "source": [
    "You'll need to save the instrument class."
   ]
  },
  {
   "cell_type": "markdown",
   "metadata": {},
   "source": [
    "## K-band"
   ]
  },
  {
   "cell_type": "code",
   "execution_count": 82,
   "metadata": {
    "collapsed": false
   },
   "outputs": [
    {
     "name": "stdout",
     "output_type": "stream",
     "text": [
      "000: 24927  -  25171   ../data/reduced/LkCa4_IGRINS_m071.hdf5\n",
      "001: 24585  -  24827   ../data/reduced/LkCa4_IGRINS_m072.hdf5\n",
      "002: 24253  -  24491   ../data/reduced/LkCa4_IGRINS_m073.hdf5\n",
      "003: 23929  -  24165   ../data/reduced/LkCa4_IGRINS_m074.hdf5\n",
      "004: 23615  -  23848   ../data/reduced/LkCa4_IGRINS_m075.hdf5\n",
      "005: 23308  -  23539   ../data/reduced/LkCa4_IGRINS_m076.hdf5\n",
      "006: 23010  -  23238   ../data/reduced/LkCa4_IGRINS_m077.hdf5\n",
      "007: 22719  -  22945   ../data/reduced/LkCa4_IGRINS_m078.hdf5\n",
      "008: 22436  -  22659   ../data/reduced/LkCa4_IGRINS_m079.hdf5\n",
      "009: 22160  -  22380   ../data/reduced/LkCa4_IGRINS_m080.hdf5\n",
      "010: 21891  -  22109   ../data/reduced/LkCa4_IGRINS_m081.hdf5\n",
      "011: 21629  -  21844   ../data/reduced/LkCa4_IGRINS_m082.hdf5\n",
      "012: 21373  -  21585   ../data/reduced/LkCa4_IGRINS_m083.hdf5\n",
      "013: 21123  -  21333   ../data/reduced/LkCa4_IGRINS_m084.hdf5\n",
      "014: 20879  -  21086   ../data/reduced/LkCa4_IGRINS_m085.hdf5\n",
      "015: 20641  -  20846   ../data/reduced/LkCa4_IGRINS_m086.hdf5\n",
      "016: 20408  -  20611   ../data/reduced/LkCa4_IGRINS_m087.hdf5\n",
      "017: 20181  -  20381   ../data/reduced/LkCa4_IGRINS_m088.hdf5\n",
      "018: 19958  -  20157   ../data/reduced/LkCa4_IGRINS_m089.hdf5\n",
      "019: 19741  -  19937   ../data/reduced/LkCa4_IGRINS_m090.hdf5\n",
      "020: 19529  -  19723   ../data/reduced/LkCa4_IGRINS_m091.hdf5\n",
      "021: 19321  -  19513   ../data/reduced/LkCa4_IGRINS_m092.hdf5\n",
      "022: 19118  -  19308   ../data/reduced/LkCa4_IGRINS_m093.hdf5\n",
      "023: 18919  -  19107   ../data/reduced/LkCa4_IGRINS_m094.hdf5\n",
      "024: 18725  -  18910   ../data/reduced/LkCa4_IGRINS_m095.hdf5\n",
      "025: 18534  -  18718   ../data/reduced/LkCa4_IGRINS_m096.hdf5\n"
     ]
    }
   ],
   "source": [
    "lft = 450\n",
    "rgt = 1950\n",
    "\n",
    "for o in range(26):\n",
    "    m = o + 71\n",
    "    out_name = '../data/reduced/LkCa4_IGRINS_m{:03d}.hdf5'.format(m)\n",
    "    fls_out = K['fls'][o,lft:rgt]\n",
    "    sig_out = K['sigmas'][o,lft:rgt]\n",
    "    wls_out = K['wls'][o,lft:rgt]\n",
    "    msk_out = np.ones(len(wls_out), dtype=int)\n",
    "    f_new = h5py.File(out_name, 'w')\n",
    "    f_new.create_dataset('fls', data=fls_out)\n",
    "    f_new.create_dataset('wls', data=wls_out)\n",
    "    f_new.create_dataset('sigmas', data=sig_out)\n",
    "    f_new.create_dataset('masks', data=msk_out)\n",
    "    print(\"{:03d}: {:.0f}  -  {:.0f}   {}\".format(o, wls_out[0], wls_out[-1], out_name))\n",
    "    f_new.close()"
   ]
  }
 ],
 "metadata": {
  "kernelspec": {
   "display_name": "Python 3",
   "language": "python",
   "name": "python3"
  },
  "language_info": {
   "codemirror_mode": {
    "name": "ipython",
    "version": 3
   },
   "file_extension": ".py",
   "mimetype": "text/x-python",
   "name": "python",
   "nbconvert_exporter": "python",
   "pygments_lexer": "ipython3",
   "version": "3.4.3"
  }
 },
 "nbformat": 4,
 "nbformat_minor": 0
}
