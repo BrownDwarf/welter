{
 "cells": [
  {
   "cell_type": "markdown",
   "metadata": {},
   "source": [
    "# welter\n",
    "## Issue 53: $R \\sin{i}$ comment from referee\n",
    "### Part I: Do the calculation"
   ]
  },
  {
   "cell_type": "code",
   "execution_count": 1,
   "metadata": {
    "collapsed": true
   },
   "outputs": [],
   "source": [
    "import numpy as np\n",
    "from astropy import constants as const\n",
    "from astropy import units as u"
   ]
  },
  {
   "cell_type": "markdown",
   "metadata": {},
   "source": [
    "## Equation 1: Two component model\n",
    "\n",
    "$T_{\\rm eff}^4 = (1-f_{\\rm spot})T_{\\rm hot}^4 + f_{\\rm spot} T_{\\rm spot}^4$\n",
    "\n",
    "$T_{\\rm spot} = 2750$ K  \n",
    "$T_{\\rm hot} = 4100$ K  \n",
    "$f_{\\rm spot} = 0.8$  "
   ]
  },
  {
   "cell_type": "code",
   "execution_count": 2,
   "metadata": {
    "collapsed": false
   },
   "outputs": [
    {
     "data": {
      "text/latex": [
       "$3180.0599 \\; \\mathrm{K}$"
      ],
      "text/plain": [
       "<Quantity 3180.059947432618 K>"
      ]
     },
     "execution_count": 2,
     "metadata": {},
     "output_type": "execute_result"
    }
   ],
   "source": [
    "T_eff = ((1-0.8)*4100.0**4 + 0.8*2750**4)**0.25 * u.Kelvin\n",
    "T_eff"
   ]
  },
  {
   "cell_type": "markdown",
   "metadata": {},
   "source": [
    "## Equation 2: Luminosity"
   ]
  },
  {
   "cell_type": "markdown",
   "metadata": {},
   "source": [
    "$L = 4 \\pi R^2 \\sigma_{SB}T_{\\rm eff}^4$\n",
    "\n",
    "\n",
    "> At the median 80% spot covering fraction from 2015, the luminosity would be log L/L⊙ = −0.26.\n",
    "\n",
    "$L = 10^{-0.26} \\; L_{\\rm sun} $\n"
   ]
  },
  {
   "cell_type": "code",
   "execution_count": 3,
   "metadata": {
    "collapsed": true
   },
   "outputs": [],
   "source": [
    "L_star = 10**-0.26 * const.L_sun"
   ]
  },
  {
   "cell_type": "code",
   "execution_count": 4,
   "metadata": {
    "collapsed": false
   },
   "outputs": [
    {
     "data": {
      "text/latex": [
       "$2.1135342 \\times 10^{26} \\; \\mathrm{W}$"
      ],
      "text/plain": [
       "<Quantity 2.113534200856424e+26 W>"
      ]
     },
     "execution_count": 4,
     "metadata": {},
     "output_type": "execute_result"
    }
   ],
   "source": [
    "L_star"
   ]
  },
  {
   "cell_type": "markdown",
   "metadata": {},
   "source": [
    "$R = \\sqrt{\\frac{L}{4 \\pi \\sigma_{SB}T_{\\rm eff}^4}}$"
   ]
  },
  {
   "cell_type": "code",
   "execution_count": 5,
   "metadata": {
    "collapsed": false
   },
   "outputs": [
    {
     "data": {
      "text/latex": [
       "$1.7030338 \\times 10^{9} \\; \\mathrm{m}$"
      ],
      "text/plain": [
       "<Quantity 1703033849.3281553 m>"
      ]
     },
     "execution_count": 5,
     "metadata": {},
     "output_type": "execute_result"
    }
   ],
   "source": [
    "R_star = np.sqrt(L_star/(4.0*np.pi*const.sigma_sb*T_eff**4))\n",
    "R_star"
   ]
  },
  {
   "cell_type": "code",
   "execution_count": 6,
   "metadata": {
    "collapsed": false
   },
   "outputs": [
    {
     "data": {
      "text/latex": [
       "$2.4486186 \\; \\mathrm{}$"
      ],
      "text/plain": [
       "<Quantity 2.4486186346212486>"
      ]
     },
     "execution_count": 6,
     "metadata": {},
     "output_type": "execute_result"
    }
   ],
   "source": [
    "R_star / const.R_sun"
   ]
  },
  {
   "cell_type": "markdown",
   "metadata": {},
   "source": [
    "##  Equation 3: $v \\sin{i}$ and period"
   ]
  },
  {
   "cell_type": "markdown",
   "metadata": {
    "collapsed": true
   },
   "source": [
    "$v\\sin{i} = \\frac{2 \\pi R}{P} \\sin{i}$  \n",
    "\n",
    "$\\sin{i} = \\frac{P v\\sin{i}}{2 \\pi R} $  \n",
    "\n",
    "\n",
    "$v\\sin{i} = 28.0 \\; \\mathrm{km}/\\mathrm{s}$  \n",
    "$P = 3.375 \\; \\mathrm{days}$"
   ]
  },
  {
   "cell_type": "code",
   "execution_count": 7,
   "metadata": {
    "collapsed": false
   },
   "outputs": [
    {
     "data": {
      "text/latex": [
       "$3.375 \\; \\mathrm{d}$"
      ],
      "text/plain": [
       "<Quantity 3.375 d>"
      ]
     },
     "execution_count": 7,
     "metadata": {},
     "output_type": "execute_result"
    }
   ],
   "source": [
    "3.375*u.day"
   ]
  },
  {
   "cell_type": "code",
   "execution_count": 8,
   "metadata": {
    "collapsed": true
   },
   "outputs": [],
   "source": [
    "sini = 3.375*u.day * 28.0 *u.km/u.s / (2.0*np.pi*R_star)"
   ]
  },
  {
   "cell_type": "code",
   "execution_count": 9,
   "metadata": {
    "collapsed": false
   },
   "outputs": [
    {
     "data": {
      "text/latex": [
       "$0.76303139 \\; \\mathrm{}$"
      ],
      "text/plain": [
       "<Quantity 0.7630313865278401>"
      ]
     },
     "execution_count": 9,
     "metadata": {},
     "output_type": "execute_result"
    }
   ],
   "source": [
    "sini.to(u.dimensionless_unscaled)"
   ]
  },
  {
   "cell_type": "code",
   "execution_count": 10,
   "metadata": {
    "collapsed": false
   },
   "outputs": [
    {
     "data": {
      "text/latex": [
       "$49.732172 \\; \\mathrm{{}^{\\circ}}$"
      ],
      "text/plain": [
       "<Quantity 49.732171989546416 deg>"
      ]
     },
     "execution_count": 10,
     "metadata": {},
     "output_type": "execute_result"
    }
   ],
   "source": [
    "np.arcsin(sini).to(u.degree)"
   ]
  },
  {
   "cell_type": "markdown",
   "metadata": {},
   "source": [
    "# What if we use the previous estimates?"
   ]
  },
  {
   "cell_type": "code",
   "execution_count": 14,
   "metadata": {
    "collapsed": false
   },
   "outputs": [
    {
     "data": {
      "text/latex": [
       "$4100 \\; \\mathrm{K}$"
      ],
      "text/plain": [
       "<Quantity 4100.0 K>"
      ]
     },
     "execution_count": 14,
     "metadata": {},
     "output_type": "execute_result"
    }
   ],
   "source": [
    "T_eff_og = 4100.0 * u.Kelvin\n",
    "T_eff_og"
   ]
  },
  {
   "cell_type": "code",
   "execution_count": 15,
   "metadata": {
    "collapsed": true
   },
   "outputs": [],
   "source": [
    "L_star_og = 10**-0.04 * const.L_sun"
   ]
  },
  {
   "cell_type": "code",
   "execution_count": 17,
   "metadata": {
    "collapsed": false
   },
   "outputs": [
    {
     "data": {
      "text/latex": [
       "$1.3198549 \\times 10^{9} \\; \\mathrm{m}$"
      ],
      "text/plain": [
       "<Quantity 1319854873.9835477 m>"
      ]
     },
     "execution_count": 17,
     "metadata": {},
     "output_type": "execute_result"
    }
   ],
   "source": [
    "R_star_og = np.sqrt(L_star_og/(4.0*np.pi*const.sigma_sb*T_eff_og**4))\n",
    "R_star_og"
   ]
  },
  {
   "cell_type": "code",
   "execution_count": 18,
   "metadata": {
    "collapsed": false
   },
   "outputs": [
    {
     "data": {
      "text/latex": [
       "$1.8976847 \\; \\mathrm{}$"
      ],
      "text/plain": [
       "<Quantity 1.8976846765005546>"
      ]
     },
     "execution_count": 18,
     "metadata": {},
     "output_type": "execute_result"
    }
   ],
   "source": [
    "R_star_og / const.R_sun"
   ]
  },
  {
   "cell_type": "code",
   "execution_count": 19,
   "metadata": {
    "collapsed": true
   },
   "outputs": [],
   "source": [
    "sini_og = 3.375*u.day * 28.0 *u.km/u.s / (2.0*np.pi*R_star_og)"
   ]
  },
  {
   "cell_type": "code",
   "execution_count": 23,
   "metadata": {
    "collapsed": false
   },
   "outputs": [
    {
     "data": {
      "text/latex": [
       "$0.98455391 \\; \\mathrm{}$"
      ],
      "text/plain": [
       "<Quantity 0.9845539119272179>"
      ]
     },
     "execution_count": 23,
     "metadata": {},
     "output_type": "execute_result"
    }
   ],
   "source": [
    "sini_og.to(u.dimensionless_unscaled)"
   ]
  },
  {
   "cell_type": "code",
   "execution_count": 24,
   "metadata": {
    "collapsed": false
   },
   "outputs": [
    {
     "data": {
      "text/latex": [
       "$79.916589 \\; \\mathrm{{}^{\\circ}}$"
      ],
      "text/plain": [
       "<Quantity 79.91658861455122 deg>"
      ]
     },
     "execution_count": 24,
     "metadata": {},
     "output_type": "execute_result"
    }
   ],
   "source": [
    "np.arcsin(sini_og).to(u.degree)"
   ]
  },
  {
   "cell_type": "code",
   "execution_count": null,
   "metadata": {
    "collapsed": true
   },
   "outputs": [],
   "source": []
  }
 ],
 "metadata": {
  "kernelspec": {
   "display_name": "Python 3",
   "language": "python",
   "name": "python3"
  },
  "language_info": {
   "codemirror_mode": {
    "name": "ipython",
    "version": 3
   },
   "file_extension": ".py",
   "mimetype": "text/x-python",
   "name": "python",
   "nbconvert_exporter": "python",
   "pygments_lexer": "ipython3",
   "version": "3.4.4"
  }
 },
 "nbformat": 4,
 "nbformat_minor": 0
}
