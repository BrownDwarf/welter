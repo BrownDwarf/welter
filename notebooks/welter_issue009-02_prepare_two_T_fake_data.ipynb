{
 "cells": [
  {
   "cell_type": "markdown",
   "metadata": {},
   "source": [
    "# Welter issue #9\n",
    "## Generate synthetic, noised-up two-temperature model spectra, then naively fit a single temperature model to it.\n",
    "### Part 2- Prepare.\n",
    "\n",
    "Michael Gully-Santiago  \n",
    "Friday, January 8, 2015  \n",
    "\n",
    "See the previous notebook for the theory and background.\n",
    "\n",
    "Steps:\n",
    "1. Modify all the config and phi files to have the values from the MCMC run."
   ]
  },
  {
   "cell_type": "code",
   "execution_count": 1,
   "metadata": {
    "collapsed": false
   },
   "outputs": [],
   "source": [
    "import warnings\n",
    "warnings.filterwarnings(\"ignore\")\n",
    "import numpy as np\n",
    "from astropy.io import fits\n",
    "import matplotlib.pyplot as plt"
   ]
  },
  {
   "cell_type": "code",
   "execution_count": 2,
   "metadata": {
    "collapsed": true
   },
   "outputs": [],
   "source": [
    "% matplotlib inline\n",
    "% config InlineBackend.figure_format = 'retina'\n",
    "import seaborn as sns\n",
    "sns.set_context('paper', font_scale=1.4)\n",
    "sns.set_style('ticks')"
   ]
  },
  {
   "cell_type": "code",
   "execution_count": 3,
   "metadata": {
    "collapsed": true
   },
   "outputs": [],
   "source": [
    "import os\n",
    "import json\n",
    "import pandas as pd\n",
    "import yaml\n",
    "import h5py"
   ]
  },
  {
   "cell_type": "code",
   "execution_count": 4,
   "metadata": {
    "collapsed": true
   },
   "outputs": [],
   "source": [
    "sf_dat = pd.read_csv('../data/analysis/IGRINS_ESPaDOnS_run01_last10kMCMC.csv')\n",
    "sf_dat.rename(columns={\"m_val_x\":\"m_val\"}, inplace=True)\n",
    "del sf_dat['m_val_y']"
   ]
  },
  {
   "cell_type": "markdown",
   "metadata": {},
   "source": [
    "## Set the value of the config files to all the same values."
   ]
  },
  {
   "cell_type": "code",
   "execution_count": 5,
   "metadata": {
    "collapsed": true
   },
   "outputs": [],
   "source": [
    "ms = sf_dat.m_val"
   ]
  },
  {
   "cell_type": "code",
   "execution_count": 6,
   "metadata": {
    "collapsed": false
   },
   "outputs": [],
   "source": [
    "for m in ms:\n",
    "    index = sf_dat.index[sf_dat.m_val == m]\n",
    "    mdir = 'eo{:03d}'.format(m)\n",
    "    sf_out = '../sf/eo{:03d}/config.yaml'.format(m)\n",
    "\n",
    "    f2 = open(sf_out)\n",
    "    config = yaml.load(f2)\n",
    "    f2.close()\n",
    "\n",
    "    ii = index.values[0]\n",
    "    \n",
    "    config['Theta']['grid'] = [4100.0, 3.5, 0.0]\n",
    "    config['Theta']['vsini'] = float(28.5)\n",
    "    config['Theta']['vz'] = float(15.6)\n",
    "    config['Theta']['vz'] = float(15.6)\n",
    "    config['Theta']['logOmega'] = float(-0.07)\n",
    "    if (sf_dat.logO_50p[ii] == sf_dat.logO_50p[ii]):\n",
    "        config['Theta']['logOmega'] = float(sf_dat.logO_50p[ii])\n",
    "\n",
    "    with open(sf_out, mode='w') as outfile:\n",
    "        outfile.write(yaml.dump(config))"
   ]
  },
  {
   "cell_type": "code",
   "execution_count": 7,
   "metadata": {
    "collapsed": false
   },
   "outputs": [
    {
     "name": "stdout",
     "output_type": "stream",
     "text": [
      "actual: 0\n",
      "actual: 1\n",
      "actual: 2\n",
      "actual: 3\n",
      "actual: 4\n",
      "actual: 5\n",
      "actual: 6\n",
      "actual: 7\n",
      "actual: 8\n",
      "actual: 9\n",
      "actual: 10\n",
      "actual: 11\n",
      "actual: 12\n",
      "actual: 13\n",
      "actual: 14\n",
      "actual: 15\n",
      "actual: 16\n",
      "actual: 17\n",
      "actual: 18\n",
      "default: 19\n",
      "actual: 20\n",
      "actual: 21\n",
      "actual: 22\n",
      "actual: 23\n",
      "default: 24\n",
      "default: 25\n",
      "actual: 26\n",
      "default: 27\n",
      "default: 28\n",
      "actual: 29\n",
      "actual: 30\n",
      "default: 31\n",
      "default: 32\n",
      "default: 33\n",
      "default: 34\n"
     ]
    }
   ],
   "source": [
    "for m in ms:\n",
    "    index = sf_dat.index[sf_dat.m_val == m]\n",
    "    mdir = 'eo{:03d}'.format(m)\n",
    "    \n",
    "    phi_out = '../sf/eo{:03d}/s0_o0phi.json'.format(m)\n",
    "\n",
    "    jf = open(phi_out)\n",
    "    phi = json.load(jf)\n",
    "    jf.close()\n",
    "\n",
    "    ii = index.values[0]\n",
    "    \n",
    "    c1, c2, c3 = sf_dat.c1_50p[ii], sf_dat.c2_50p[ii], sf_dat.c3_50p[ii]\n",
    "    if c1 != c1:\n",
    "        print(\"default: {}\".format(m))\n",
    "        phi['cheb'] = [0.0,0,0]\n",
    "        phi['logAmp']= -1.6\n",
    "        phi['sigAmp']= 1.0\n",
    "        phi['l']= 30.0\n",
    "    if c1 == c1:\n",
    "        print(\"actual: {}\".format(m))\n",
    "        phi['cheb'] = [c1, c2, c3]\n",
    "        if sf_dat.LA_50p[ii] > -1.4:\n",
    "            phi['logAmp']= -1.4\n",
    "        else:\n",
    "            phi['logAmp']= sf_dat.LA_50p[ii]\n",
    "        phi['sigAmp']= sf_dat.SA_50p[ii]\n",
    "        phi['l']= sf_dat.ll_50p[ii]\n",
    "    \n",
    "    phi['fix_c0'] = True\n",
    "    \n",
    "    with open(phi_out, mode='w') as outfile:\n",
    "        json.dump(phi, outfile, indent=2)"
   ]
  },
  {
   "cell_type": "markdown",
   "metadata": {},
   "source": [
    "The end."
   ]
  }
 ],
 "metadata": {
  "kernelspec": {
   "display_name": "Python 3",
   "language": "python",
   "name": "python3"
  },
  "language_info": {
   "codemirror_mode": {
    "name": "ipython",
    "version": 3
   },
   "file_extension": ".py",
   "mimetype": "text/x-python",
   "name": "python",
   "nbconvert_exporter": "python",
   "pygments_lexer": "ipython3",
   "version": "3.4.3"
  }
 },
 "nbformat": 4,
 "nbformat_minor": 0
}
