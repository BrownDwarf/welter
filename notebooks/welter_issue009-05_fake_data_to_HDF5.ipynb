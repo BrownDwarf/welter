{
 "cells": [
  {
   "cell_type": "markdown",
   "metadata": {},
   "source": [
    "# Welter issue #9\n",
    "## Generate synthetic, noised-up two-temperature model spectra, then naively fit a single temperature model to it.\n",
    "### Part 5- Fake Data to HDF5\n",
    "\n",
    "Michael Gully-Santiago  \n",
    "Monday, January 11, 2016  \n",
    "\n",
    "We can now save the synthetic data in an HDF5 file, as if it were real data."
   ]
  },
  {
   "cell_type": "code",
   "execution_count": 1,
   "metadata": {
    "collapsed": false
   },
   "outputs": [],
   "source": [
    "import warnings\n",
    "warnings.filterwarnings(\"ignore\")\n",
    "import numpy as np\n",
    "from astropy.io import fits\n",
    "import matplotlib.pyplot as plt"
   ]
  },
  {
   "cell_type": "code",
   "execution_count": 2,
   "metadata": {
    "collapsed": true
   },
   "outputs": [],
   "source": [
    "% matplotlib inline\n",
    "% config InlineBackend.figure_format = 'retina'\n",
    "import seaborn as sns\n",
    "sns.set_context('notebook')"
   ]
  },
  {
   "cell_type": "markdown",
   "metadata": {},
   "source": [
    "# Copy the real data, then replace the flux column with synthetic data."
   ]
  },
  {
   "cell_type": "code",
   "execution_count": 3,
   "metadata": {
    "collapsed": true
   },
   "outputs": [],
   "source": [
    "import os\n",
    "\n",
    "import json\n",
    "\n",
    "import h5py"
   ]
  },
  {
   "cell_type": "code",
   "execution_count": 12,
   "metadata": {
    "collapsed": true
   },
   "outputs": [],
   "source": [
    "os.chdir('/Users/gully/GitHub/welter/notebooks/')"
   ]
  },
  {
   "cell_type": "code",
   "execution_count": 17,
   "metadata": {
    "collapsed": false
   },
   "outputs": [],
   "source": [
    "for i in range(0, 25):\n",
    "\n",
    "    with open('../sf/eo{:03d}/mixture_model.json'.format(i)) as f:\n",
    "        mmix = json.load(f)\n",
    "\n",
    "    f2 = h5py.File('../data/reduced/optical/LkCa4_ESPaDOnS_eo{:03d}.hdf5'.format(i), mode='r')\n",
    "    name_out = 'LkCa4_Synthetic_so{:03d}.hdf5'.format(i)\n",
    "    f3 = h5py.File('../data/synthetic/optical/{}'.format(name_out), mode='w')\n",
    "\n",
    "    for key in ['masks', 'sigmas', 'wls']:\n",
    "        f3[key] = f2[key].value \n",
    "\n",
    "    f3['fls'] = np.array(mmix['mmix_noised'])\n",
    "\n",
    "    f2.close()\n",
    "    f3.close()"
   ]
  },
  {
   "cell_type": "markdown",
   "metadata": {},
   "source": [
    "## Set up the scripts for the next run: `run03`"
   ]
  },
  {
   "cell_type": "code",
   "execution_count": 18,
   "metadata": {
    "collapsed": false
   },
   "outputs": [
    {
     "data": {
      "text/plain": [
       "0"
      ]
     },
     "execution_count": 18,
     "metadata": {},
     "output_type": "execute_result"
    }
   ],
   "source": [
    "i = 13\n",
    "os.chdir('/Users/gully/GitHub/welter/notebooks/')\n",
    "os.chdir('../sf/eo{:03d}'.format(i))\n",
    "\n",
    "\n",
    "\n",
    "os.system('star.py --run_index 3')"
   ]
  },
  {
   "cell_type": "code",
   "execution_count": null,
   "metadata": {
    "collapsed": true
   },
   "outputs": [],
   "source": []
  },
  {
   "cell_type": "markdown",
   "metadata": {},
   "source": [
    "Need to:\n",
    "\n",
    "- Change config.yaml file\n",
    "    - Name, eo goes to so\n",
    "    - Data path goes to Synthetic, eo goes to so\n",
    "    - Use the configs set on gigayear\n",
    "    - (Replace Users with home on Phuket)\n",
    "    - Change Teff guess to, say, 4020\n",
    "- Run star.py --run_index\n",
    "\n"
   ]
  },
  {
   "cell_type": "code",
   "execution_count": null,
   "metadata": {
    "collapsed": true
   },
   "outputs": [],
   "source": []
  },
  {
   "cell_type": "code",
   "execution_count": 20,
   "metadata": {
    "collapsed": true
   },
   "outputs": [],
   "source": [
    "import yaml"
   ]
  },
  {
   "cell_type": "code",
   "execution_count": 21,
   "metadata": {
    "collapsed": false
   },
   "outputs": [],
   "source": [
    "with open('../eo013/output/LkCa4_so013/run03/config.yaml', mode='r') as f:\n",
    "    config = yaml.load(f)"
   ]
  },
  {
   "cell_type": "code",
   "execution_count": 22,
   "metadata": {
    "collapsed": false
   },
   "outputs": [
    {
     "data": {
      "text/plain": [
       "dict_keys(['Phi', 'sigma_clip', 'grid', 'Theta_jump', 'Phi_jump', 'region_params', 'Comments', 'cheb_jump', 'Theta', 'plotdir', 'outdir', 'cheb_degree', 'data', 'name', 'PCA'])"
      ]
     },
     "execution_count": 22,
     "metadata": {},
     "output_type": "execute_result"
    }
   ],
   "source": [
    "config.keys()"
   ]
  },
  {
   "cell_type": "markdown",
   "metadata": {},
   "source": [
    "Set starting guesses."
   ]
  },
  {
   "cell_type": "code",
   "execution_count": null,
   "metadata": {
    "collapsed": true
   },
   "outputs": [],
   "source": [
    "config['Comments'] = \"SYNTHETIC DATA simulating two-Temps: 3300 and 4100. The 4100 filling factor is 70 percent.\"\n",
    "config['Theta']['grid'] = [4000.0, 3.7, 0.0]\n",
    "config['Theta']['logOmega'] = -0.10\n",
    "config['Theta']['vsini'] = 26.0\n",
    "config['Theta']['vz'] = 17.0\n",
    "config['name'] = \"LkCa4_so{:03d}\".format(i)\n",
    "config['data']['files'] = \"/Users/gully/GitHub/welter/data/synthetic/optical/LkCa4_Synthetic_so{:03d}.hdf5\".format(i)"
   ]
  },
  {
   "cell_type": "code",
   "execution_count": null,
   "metadata": {
    "collapsed": true
   },
   "outputs": [],
   "source": [
    "for i in range(0, 1):\n",
    "    print(i)\n",
    "    os.chdir('../sf/eo{:03d}/'.format(i))\n",
    "\n",
    "    with open('config.yaml', mode='r') as f:\n",
    "        config = yaml.load(f)    \n",
    "\n",
    "    config['Comments'] = \"SYNTHETIC DATA simulating two-Temps: 3300 and 4100. The 4100 filling factor is 70 percent.\"\n",
    "    config['Theta']['grid'] = [4000.0, 3.7, 0.0]\n",
    "    config['Theta']['logOmega'] = -0.10\n",
    "    config['Theta']['vsini'] = 26.0\n",
    "    config['Theta']['vz'] = 17.0\n",
    "    config['name'] = \"LkCa4_so{:03d}\".format(i)\n",
    "    config['data']['files'] = \"/Users/gully/GitHub/welter/data/synthetic/optical/LkCa4_Synthetic_so{:03d}.hdf5\".format(i)\n",
    "    with open('config.yaml', mode='w') as f:\n",
    "        f.write(yaml.dump(config))\n",
    "\n",
    "    os.system('star.py --run_index 3')\n",
    "\n",
    "    # Save mixture model\n",
    "\n",
    "    os.chdir('/Users/gully/GitHub/welter/notebooks/')"
   ]
  }
 ],
 "metadata": {
  "kernelspec": {
   "display_name": "Python 3",
   "language": "python",
   "name": "python3"
  },
  "language_info": {
   "codemirror_mode": {
    "name": "ipython",
    "version": 3
   },
   "file_extension": ".py",
   "mimetype": "text/x-python",
   "name": "python",
   "nbconvert_exporter": "python",
   "pygments_lexer": "ipython3",
   "version": "3.4.3"
  }
 },
 "nbformat": 4,
 "nbformat_minor": 0
}
