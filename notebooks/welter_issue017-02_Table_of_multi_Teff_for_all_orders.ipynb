{
 "cells": [
  {
   "cell_type": "markdown",
   "metadata": {},
   "source": [
    "# Welter issue #17\n",
    "## Teff vs order\n",
    "### Part 2: Make a Table for the multi temps and fill factors\n",
    "\n",
    "Michael Gully-Santiago  \n",
    "Monday, June 28, 2016  \n",
    "\n",
    "See [Issue17](https://github.com/BrownDwarf/welter/issues/17)"
   ]
  },
  {
   "cell_type": "code",
   "execution_count": 7,
   "metadata": {
    "collapsed": false
   },
   "outputs": [],
   "source": [
    "import warnings\n",
    "warnings.filterwarnings(\"ignore\")\n",
    "import numpy as np\n",
    "from astropy.io import fits\n",
    "import matplotlib.pyplot as plt"
   ]
  },
  {
   "cell_type": "code",
   "execution_count": 8,
   "metadata": {
    "collapsed": true
   },
   "outputs": [],
   "source": [
    "% matplotlib inline\n",
    "% config InlineBackend.figure_format = 'retina'\n",
    "import seaborn as sns\n",
    "sns.set_context('notebook')"
   ]
  },
  {
   "cell_type": "code",
   "execution_count": 9,
   "metadata": {
    "collapsed": true
   },
   "outputs": [],
   "source": [
    "import pandas as pd"
   ]
  },
  {
   "cell_type": "markdown",
   "metadata": {},
   "source": [
    "## Retrieve aggregated data for multi-$T_{\\rm eff}$ Starfish runs for all spectral orders."
   ]
  },
  {
   "cell_type": "code",
   "execution_count": 10,
   "metadata": {
    "collapsed": false
   },
   "outputs": [],
   "source": [
    "#! head ../data/analysis/IGRINS_mix_emcee_last200.csv"
   ]
  },
  {
   "cell_type": "code",
   "execution_count": 11,
   "metadata": {
    "collapsed": true
   },
   "outputs": [],
   "source": [
    "IG_raw = pd.read_csv('../data/analysis/IGRINS_mix_K_Run01_H_Run02.csv')"
   ]
  },
  {
   "cell_type": "code",
   "execution_count": 12,
   "metadata": {
    "collapsed": false
   },
   "outputs": [
    {
     "data": {
      "text/html": [
       "<div>\n",
       "<table border=\"1\" class=\"dataframe\">\n",
       "  <thead>\n",
       "    <tr style=\"text-align: right;\">\n",
       "      <th></th>\n",
       "      <th>wl_start</th>\n",
       "      <th>wl_end</th>\n",
       "      <th>band</th>\n",
       "      <th>number</th>\n",
       "      <th>tell_trans</th>\n",
       "      <th>m_val</th>\n",
       "      <th>wl_center</th>\n",
       "      <th>Teff_05p</th>\n",
       "      <th>Teff_50p</th>\n",
       "      <th>Teff_95p</th>\n",
       "      <th>...</th>\n",
       "      <th>Teff2_05p</th>\n",
       "      <th>Teff2_50p</th>\n",
       "      <th>Teff2_95p</th>\n",
       "      <th>logO2_05p</th>\n",
       "      <th>logO2_50p</th>\n",
       "      <th>logO2_95p</th>\n",
       "      <th>ff_05p</th>\n",
       "      <th>ff_50p</th>\n",
       "      <th>ff_95p</th>\n",
       "      <th>inference</th>\n",
       "    </tr>\n",
       "  </thead>\n",
       "  <tbody>\n",
       "    <tr>\n",
       "      <th>0</th>\n",
       "      <td>18092.0</td>\n",
       "      <td>18346.0</td>\n",
       "      <td>H</td>\n",
       "      <td>0</td>\n",
       "      <td>0.117487</td>\n",
       "      <td>98</td>\n",
       "      <td>18219.0</td>\n",
       "      <td>NaN</td>\n",
       "      <td>NaN</td>\n",
       "      <td>NaN</td>\n",
       "      <td>...</td>\n",
       "      <td>NaN</td>\n",
       "      <td>NaN</td>\n",
       "      <td>NaN</td>\n",
       "      <td>NaN</td>\n",
       "      <td>NaN</td>\n",
       "      <td>NaN</td>\n",
       "      <td>NaN</td>\n",
       "      <td>NaN</td>\n",
       "      <td>NaN</td>\n",
       "      <td>False</td>\n",
       "    </tr>\n",
       "    <tr>\n",
       "      <th>1</th>\n",
       "      <td>17914.0</td>\n",
       "      <td>18165.0</td>\n",
       "      <td>H</td>\n",
       "      <td>1</td>\n",
       "      <td>0.342583</td>\n",
       "      <td>99</td>\n",
       "      <td>18039.5</td>\n",
       "      <td>NaN</td>\n",
       "      <td>NaN</td>\n",
       "      <td>NaN</td>\n",
       "      <td>...</td>\n",
       "      <td>NaN</td>\n",
       "      <td>NaN</td>\n",
       "      <td>NaN</td>\n",
       "      <td>NaN</td>\n",
       "      <td>NaN</td>\n",
       "      <td>NaN</td>\n",
       "      <td>NaN</td>\n",
       "      <td>NaN</td>\n",
       "      <td>NaN</td>\n",
       "      <td>False</td>\n",
       "    </tr>\n",
       "    <tr>\n",
       "      <th>2</th>\n",
       "      <td>17739.0</td>\n",
       "      <td>17988.0</td>\n",
       "      <td>H</td>\n",
       "      <td>2</td>\n",
       "      <td>0.666035</td>\n",
       "      <td>100</td>\n",
       "      <td>17863.5</td>\n",
       "      <td>4119.604630</td>\n",
       "      <td>4312.672222</td>\n",
       "      <td>4474.515407</td>\n",
       "      <td>...</td>\n",
       "      <td>2703.707416</td>\n",
       "      <td>2765.367136</td>\n",
       "      <td>2900.392667</td>\n",
       "      <td>-0.058854</td>\n",
       "      <td>0.051357</td>\n",
       "      <td>0.139004</td>\n",
       "      <td>0.734685</td>\n",
       "      <td>0.794156</td>\n",
       "      <td>0.832494</td>\n",
       "      <td>True</td>\n",
       "    </tr>\n",
       "    <tr>\n",
       "      <th>3</th>\n",
       "      <td>17568.0</td>\n",
       "      <td>17815.0</td>\n",
       "      <td>H</td>\n",
       "      <td>3</td>\n",
       "      <td>0.827089</td>\n",
       "      <td>101</td>\n",
       "      <td>17691.5</td>\n",
       "      <td>3625.364642</td>\n",
       "      <td>4199.583018</td>\n",
       "      <td>4463.705141</td>\n",
       "      <td>...</td>\n",
       "      <td>2757.251605</td>\n",
       "      <td>2916.251194</td>\n",
       "      <td>3075.061624</td>\n",
       "      <td>-0.382951</td>\n",
       "      <td>-0.004874</td>\n",
       "      <td>0.110811</td>\n",
       "      <td>0.566891</td>\n",
       "      <td>0.792576</td>\n",
       "      <td>0.844624</td>\n",
       "      <td>True</td>\n",
       "    </tr>\n",
       "    <tr>\n",
       "      <th>4</th>\n",
       "      <td>17400.0</td>\n",
       "      <td>17645.0</td>\n",
       "      <td>H</td>\n",
       "      <td>4</td>\n",
       "      <td>0.904758</td>\n",
       "      <td>102</td>\n",
       "      <td>17522.5</td>\n",
       "      <td>4176.946167</td>\n",
       "      <td>4336.687926</td>\n",
       "      <td>4473.679807</td>\n",
       "      <td>...</td>\n",
       "      <td>2702.575311</td>\n",
       "      <td>2751.474163</td>\n",
       "      <td>2864.956469</td>\n",
       "      <td>0.029823</td>\n",
       "      <td>0.117106</td>\n",
       "      <td>0.199920</td>\n",
       "      <td>0.772381</td>\n",
       "      <td>0.819419</td>\n",
       "      <td>0.858518</td>\n",
       "      <td>True</td>\n",
       "    </tr>\n",
       "  </tbody>\n",
       "</table>\n",
       "<p>5 rows × 53 columns</p>\n",
       "</div>"
      ],
      "text/plain": [
       "   wl_start   wl_end band  number  tell_trans  m_val  wl_center     Teff_05p  \\\n",
       "0   18092.0  18346.0    H       0    0.117487     98    18219.0          NaN   \n",
       "1   17914.0  18165.0    H       1    0.342583     99    18039.5          NaN   \n",
       "2   17739.0  17988.0    H       2    0.666035    100    17863.5  4119.604630   \n",
       "3   17568.0  17815.0    H       3    0.827089    101    17691.5  3625.364642   \n",
       "4   17400.0  17645.0    H       4    0.904758    102    17522.5  4176.946167   \n",
       "\n",
       "      Teff_50p     Teff_95p    ...        Teff2_05p    Teff2_50p    Teff2_95p  \\\n",
       "0          NaN          NaN    ...              NaN          NaN          NaN   \n",
       "1          NaN          NaN    ...              NaN          NaN          NaN   \n",
       "2  4312.672222  4474.515407    ...      2703.707416  2765.367136  2900.392667   \n",
       "3  4199.583018  4463.705141    ...      2757.251605  2916.251194  3075.061624   \n",
       "4  4336.687926  4473.679807    ...      2702.575311  2751.474163  2864.956469   \n",
       "\n",
       "   logO2_05p  logO2_50p  logO2_95p    ff_05p    ff_50p    ff_95p  inference  \n",
       "0        NaN        NaN        NaN       NaN       NaN       NaN      False  \n",
       "1        NaN        NaN        NaN       NaN       NaN       NaN      False  \n",
       "2  -0.058854   0.051357   0.139004  0.734685  0.794156  0.832494       True  \n",
       "3  -0.382951  -0.004874   0.110811  0.566891  0.792576  0.844624       True  \n",
       "4   0.029823   0.117106   0.199920  0.772381  0.819419  0.858518       True  \n",
       "\n",
       "[5 rows x 53 columns]"
      ]
     },
     "execution_count": 12,
     "metadata": {},
     "output_type": "execute_result"
    }
   ],
   "source": [
    "IG_raw.head()"
   ]
  },
  {
   "cell_type": "markdown",
   "metadata": {},
   "source": [
    "It's missing the logOmega2 columns for some reason..."
   ]
  },
  {
   "cell_type": "markdown",
   "metadata": {},
   "source": [
    "## Plot of $T_{eff}$ vs. spectral order"
   ]
  },
  {
   "cell_type": "code",
   "execution_count": 13,
   "metadata": {
    "collapsed": true
   },
   "outputs": [],
   "source": [
    "orders = IG_raw\n",
    "N_orders = len(orders)"
   ]
  },
  {
   "cell_type": "code",
   "execution_count": 14,
   "metadata": {
    "collapsed": true
   },
   "outputs": [],
   "source": [
    "sns.set_style('ticks')"
   ]
  },
  {
   "cell_type": "code",
   "execution_count": 15,
   "metadata": {
    "collapsed": true
   },
   "outputs": [],
   "source": [
    "sns.set_context('paper')"
   ]
  },
  {
   "cell_type": "code",
   "execution_count": 18,
   "metadata": {
    "collapsed": false
   },
   "outputs": [
    {
     "data": {
      "image/png": "[encoded data removed]",
      "text/plain": [
       "<matplotlib.figure.Figure at 0x1200c94e0>"
      ]
     },
     "metadata": {
      "image/png": {
       "height": 256,
       "width": 347
      }
     },
     "output_type": "display_data"
    }
   ],
   "source": [
    "#plt.subplot(211)\n",
    "fig = plt.figure(figsize=(8.5, 3.5))\n",
    "ax1 = fig.add_axes([0.35, 0.7, 0.45, 0.2],xticks=[], yticks=[0.0, 0.5, 1])\n",
    "#ax1.fill_between(tell.wls, tell.trans, y2=1.0, alpha=0.5)\n",
    "ax1.set_xlim(14000, 26000)\n",
    "ax1.set_ylim(-0.3, 1)\n",
    "ax1.set_ylabel('$\\oplus$ trans.')\n",
    "for i in range(N_orders):\n",
    "    x = [orders.wl_start[i], orders.wl_end[i]]\n",
    "    y = [orders.tell_trans[i]]*2\n",
    "    ax1.plot(x, y, 'k-', alpha=0.5)\n",
    "    \n",
    "#text_pos = 500.0 + 20.0*np.arange(N_orders)    \n",
    "for i in range(N_orders):\n",
    "    print_every = 2\n",
    "    if orders.m_val[i] > 99:\n",
    "        print_every = 3\n",
    "    if (orders.number.values[i] % print_every) == 0:\n",
    "        ax1.text(orders.wl_center[i], -0.07, '{}'.format(orders.m_val.values[i]),\n",
    "                 fontsize=6, rotation=90)\n",
    "    \n",
    "    \n",
    "ax = fig.add_axes([0.35, 0.1, 0.45, 0.6])\n",
    "\n",
    "ax.errorbar(orders.wl_center, orders.Teff_50p, \n",
    "             yerr=(orders.Teff_50p-orders.Teff_05p,\n",
    "                  orders.Teff_95p-orders.Teff_50p), ecolor='r', capthick=1,\n",
    "            fmt='k.', alpha=0.7, label='Hot: $T_{\\mathrm{eff}, a}$')\n",
    "ax.errorbar(orders.wl_center, orders.Teff2_50p,\n",
    "             yerr=(orders.Teff2_50p-orders.Teff2_05p, \n",
    "                  orders.Teff2_95p-orders.Teff2_50p), ecolor='b', capthick=1,\n",
    "            fmt='k.', alpha=0.7, label='Cool: $T_{\\mathrm{eff}, b}$')\n",
    "\n",
    "\n",
    "ax.set_ylim(2100, 4600)\n",
    "ax.set_xlim(14000, 26000)\n",
    "ax.set_ylabel('$T_{eff}$ (K)')\n",
    "ax.set_xlabel('$\\lambda \\,(\\AA $)')\n",
    "ax.legend(loc='lower left')\n",
    "plt.savefig('../document/figures/LkCa4_HK_mixTeff_by_order.pdf', bbox_inches='tight')"
   ]
  },
  {
   "cell_type": "code",
   "execution_count": 19,
   "metadata": {
    "collapsed": false
   },
   "outputs": [
    {
     "data": {
      "text/plain": [
       "46"
      ]
     },
     "execution_count": 19,
     "metadata": {},
     "output_type": "execute_result"
    }
   ],
   "source": [
    "vals = orders.Teff2_50p == orders.Teff2_50p\n",
    "vals.sum()"
   ]
  },
  {
   "cell_type": "code",
   "execution_count": 20,
   "metadata": {
    "collapsed": false
   },
   "outputs": [
    {
     "data": {
      "text/plain": [
       "54"
      ]
     },
     "execution_count": 20,
     "metadata": {},
     "output_type": "execute_result"
    }
   ],
   "source": [
    "len(orders)"
   ]
  },
  {
   "cell_type": "markdown",
   "metadata": {},
   "source": [
    "## Add multi-Teff rows to the Latex Table of $T_{\\rm eff}$ vs. order."
   ]
  },
  {
   "cell_type": "code",
   "execution_count": 21,
   "metadata": {
    "collapsed": true
   },
   "outputs": [],
   "source": [
    "latex_out = pd.read_csv('../data/analysis/latex_TeffOrder_table.csv')"
   ]
  },
  {
   "cell_type": "code",
   "execution_count": 22,
   "metadata": {
    "collapsed": true
   },
   "outputs": [],
   "source": [
    "latex_new = pd.DataFrame()"
   ]
  },
  {
   "cell_type": "code",
   "execution_count": 23,
   "metadata": {
    "collapsed": false
   },
   "outputs": [
    {
     "data": {
      "text/html": [
       "<div>\n",
       "<table border=\"1\" class=\"dataframe\">\n",
       "  <thead>\n",
       "    <tr style=\"text-align: right;\">\n",
       "      <th></th>\n",
       "      <th>Order</th>\n",
       "      <th>Instrument</th>\n",
       "      <th>wavelength_range</th>\n",
       "      <th>Teff</th>\n",
       "      <th>Teff1</th>\n",
       "      <th>Teff2</th>\n",
       "      <th>f</th>\n",
       "    </tr>\n",
       "  </thead>\n",
       "  <tbody>\n",
       "    <tr>\n",
       "      <th>53</th>\n",
       "      <td>80</td>\n",
       "      <td>IGRINS</td>\n",
       "      <td>22085$-$22393</td>\n",
       "      <td>$3157^{+132}_{-124}$</td>\n",
       "      <td>NaN</td>\n",
       "      <td>NaN</td>\n",
       "      <td>NaN</td>\n",
       "    </tr>\n",
       "    <tr>\n",
       "      <th>54</th>\n",
       "      <td>79</td>\n",
       "      <td>IGRINS</td>\n",
       "      <td>22360$-$22671</td>\n",
       "      <td>$3437^{+79}_{-60}$</td>\n",
       "      <td>NaN</td>\n",
       "      <td>NaN</td>\n",
       "      <td>NaN</td>\n",
       "    </tr>\n",
       "    <tr>\n",
       "      <th>55</th>\n",
       "      <td>78</td>\n",
       "      <td>IGRINS</td>\n",
       "      <td>22643$-$22957</td>\n",
       "      <td>$3197^{+43}_{-43}$</td>\n",
       "      <td>NaN</td>\n",
       "      <td>NaN</td>\n",
       "      <td>NaN</td>\n",
       "    </tr>\n",
       "    <tr>\n",
       "      <th>56</th>\n",
       "      <td>77</td>\n",
       "      <td>IGRINS</td>\n",
       "      <td>22932$-$23251</td>\n",
       "      <td>$3273^{+52}_{-49}$</td>\n",
       "      <td>NaN</td>\n",
       "      <td>NaN</td>\n",
       "      <td>NaN</td>\n",
       "    </tr>\n",
       "    <tr>\n",
       "      <th>57</th>\n",
       "      <td>76</td>\n",
       "      <td>IGRINS</td>\n",
       "      <td>23230$-$23552</td>\n",
       "      <td>$3321^{+54}_{-53}$</td>\n",
       "      <td>NaN</td>\n",
       "      <td>NaN</td>\n",
       "      <td>NaN</td>\n",
       "    </tr>\n",
       "  </tbody>\n",
       "</table>\n",
       "</div>"
      ],
      "text/plain": [
       "    Order Instrument wavelength_range                  Teff  Teff1  Teff2   f\n",
       "53     80     IGRINS    22085$-$22393  $3157^{+132}_{-124}$    NaN    NaN NaN\n",
       "54     79     IGRINS    22360$-$22671    $3437^{+79}_{-60}$    NaN    NaN NaN\n",
       "55     78     IGRINS    22643$-$22957    $3197^{+43}_{-43}$    NaN    NaN NaN\n",
       "56     77     IGRINS    22932$-$23251    $3273^{+52}_{-49}$    NaN    NaN NaN\n",
       "57     76     IGRINS    23230$-$23552    $3321^{+54}_{-53}$    NaN    NaN NaN"
      ]
     },
     "execution_count": 23,
     "metadata": {},
     "output_type": "execute_result"
    }
   ],
   "source": [
    "latex_out.tail()"
   ]
  },
  {
   "cell_type": "markdown",
   "metadata": {},
   "source": [
    "### Merge single and double results"
   ]
  },
  {
   "cell_type": "code",
   "execution_count": 24,
   "metadata": {
    "collapsed": true
   },
   "outputs": [],
   "source": [
    "finite_orders = orders[orders.Teff_50p == orders.Teff_50p]"
   ]
  },
  {
   "cell_type": "code",
   "execution_count": 25,
   "metadata": {
    "collapsed": false
   },
   "outputs": [],
   "source": [
    "fo = finite_orders.sort_values('wl_center')"
   ]
  },
  {
   "cell_type": "code",
   "execution_count": 26,
   "metadata": {
    "collapsed": true
   },
   "outputs": [],
   "source": [
    "latex_new['Order'] = fo.m_val"
   ]
  },
  {
   "cell_type": "code",
   "execution_count": 27,
   "metadata": {
    "collapsed": true
   },
   "outputs": [],
   "source": [
    "fo['plus_error1'] = fo.Teff_95p-fo.Teff_50p\n",
    "fo['minus_error1'] = fo.Teff_50p-fo.Teff_05p\n",
    "fo['plus_error2'] = fo.Teff2_95p-fo.Teff2_50p\n",
    "fo['minus_error2'] = fo.Teff2_50p-fo.Teff2_05p\n",
    "fo['f_plus_error'] = fo.ff_95p-fo.ff_50p\n",
    "fo['f_minus_error'] = fo.ff_50p-fo.ff_05p"
   ]
  },
  {
   "cell_type": "code",
   "execution_count": 28,
   "metadata": {
    "collapsed": false
   },
   "outputs": [],
   "source": [
    "latex_new['Teff1'] = ('$'+fo.Teff_50p.apply(lambda x:\"{}\".format(int(x)))+'^{+'+\n",
    "                     fo.plus_error1.apply(lambda x:\"{}\".format(int(x)))+'}_{-'+\n",
    "                     fo.minus_error1.apply(lambda x:\"{}\".format(int(x)))+'}$')"
   ]
  },
  {
   "cell_type": "code",
   "execution_count": 29,
   "metadata": {
    "collapsed": true
   },
   "outputs": [],
   "source": [
    "latex_new['Teff2'] = ('$'+fo.Teff2_50p.apply(lambda x:\"{}\".format(int(x)))+'^{+'+\n",
    "                     fo.plus_error2.apply(lambda x:\"{}\".format(int(x)))+'}_{-'+\n",
    "                     fo.minus_error2.apply(lambda x:\"{}\".format(int(x)))+'}$')"
   ]
  },
  {
   "cell_type": "code",
   "execution_count": 30,
   "metadata": {
    "collapsed": false
   },
   "outputs": [],
   "source": [
    "latex_new['ff'] = ('$'+fo.ff_50p.apply(lambda x:\"{:0.2f}\".format(x))+'^{+'+\n",
    "                     fo.f_plus_error.apply(lambda x:\"{:0.2f}\".format(x))+'}_{-'+\n",
    "                     fo.f_minus_error.apply(lambda x:\"{:0.2f}\".format(x))+'}$')"
   ]
  },
  {
   "cell_type": "code",
   "execution_count": 31,
   "metadata": {
    "collapsed": true
   },
   "outputs": [],
   "source": [
    "fo['wavelength_range'] = (fo.wl_start.apply(lambda x:\"{}\".format(int(np.floor(x))))+'$-$'+\n",
    "       fo.wl_end.apply(lambda x:\"{}\".format(int(np.ceil(x)))))"
   ]
  },
  {
   "cell_type": "code",
   "execution_count": 32,
   "metadata": {
    "collapsed": true
   },
   "outputs": [],
   "source": [
    "latex_new['wavelength_range'] = fo.wavelength_range"
   ]
  },
  {
   "cell_type": "code",
   "execution_count": 33,
   "metadata": {
    "collapsed": false
   },
   "outputs": [],
   "source": [
    "latex_merge = pd.merge(latex_out.drop(['Teff1', 'Teff2', 'f'], axis=1), latex_new, how='outer', on='Order')"
   ]
  },
  {
   "cell_type": "code",
   "execution_count": 34,
   "metadata": {
    "collapsed": false
   },
   "outputs": [],
   "source": [
    "latex_merge.Order = latex_merge.Order.astype(int)"
   ]
  },
  {
   "cell_type": "markdown",
   "metadata": {},
   "source": [
    "There's some missing data.  We only added IGRINS data, and the wavelength ranges are the same."
   ]
  },
  {
   "cell_type": "code",
   "execution_count": 35,
   "metadata": {
    "collapsed": true
   },
   "outputs": [],
   "source": [
    "latex_merge.Instrument[latex_merge.Instrument!=latex_merge.Instrument] = 'IGRINS'"
   ]
  },
  {
   "cell_type": "code",
   "execution_count": 36,
   "metadata": {
    "collapsed": false
   },
   "outputs": [],
   "source": [
    "bi = latex_merge.wavelength_range_x != latex_merge.wavelength_range_x\n",
    "latex_merge.wavelength_range_x[bi] = latex_merge.wavelength_range_y[bi]"
   ]
  },
  {
   "cell_type": "code",
   "execution_count": 37,
   "metadata": {
    "collapsed": false
   },
   "outputs": [],
   "source": [
    "latex_merge = latex_merge.rename(columns={\"wavelength_range_x\":\"wavelength_range\"}).drop(['wavelength_range_y'], axis=1)"
   ]
  },
  {
   "cell_type": "markdown",
   "metadata": {},
   "source": [
    "Sort by wavelength."
   ]
  },
  {
   "cell_type": "code",
   "execution_count": 38,
   "metadata": {
    "collapsed": false
   },
   "outputs": [],
   "source": [
    "columns_in_order = latex_merge.columns\n",
    "igr = latex_merge.Instrument == 'IGRINS'\n",
    "esp = latex_merge.Instrument == 'ESPaDoNs'\n",
    "latex_merge = pd.concat([latex_merge[esp], \n",
    "           pd.merge(latex_merge[igr], fo[['wl_center', 'm_val']],\n",
    "                    how='outer', left_on=\"Order\", right_on=\"m_val\"\n",
    "                   ).sort_values(\"wl_center\")]\n",
    "         ).drop(['m_val', 'wl_center'], axis=1)[columns_in_order].reset_index(drop=True)"
   ]
  },
  {
   "cell_type": "code",
   "execution_count": 39,
   "metadata": {
    "collapsed": false
   },
   "outputs": [
    {
     "data": {
      "text/html": [
       "<div>\n",
       "<table border=\"1\" class=\"dataframe\">\n",
       "  <thead>\n",
       "    <tr style=\"text-align: right;\">\n",
       "      <th></th>\n",
       "      <th>Order</th>\n",
       "      <th>Instrument</th>\n",
       "      <th>wavelength_range</th>\n",
       "      <th>Teff</th>\n",
       "      <th>Teff1</th>\n",
       "      <th>Teff2</th>\n",
       "      <th>ff</th>\n",
       "    </tr>\n",
       "  </thead>\n",
       "  <tbody>\n",
       "    <tr>\n",
       "      <th>43</th>\n",
       "      <td>105</td>\n",
       "      <td>IGRINS</td>\n",
       "      <td>16917$-$17155</td>\n",
       "      <td>$&lt;3711$</td>\n",
       "      <td>$3930^{+209}_{-152}$</td>\n",
       "      <td>$2763^{+212}_{-59}$</td>\n",
       "      <td>$0.66^{+0.06}_{-0.10}$</td>\n",
       "    </tr>\n",
       "    <tr>\n",
       "      <th>44</th>\n",
       "      <td>104</td>\n",
       "      <td>IGRINS</td>\n",
       "      <td>17075$-$17315</td>\n",
       "      <td>$&lt;3776$</td>\n",
       "      <td>$4300^{+177}_{-245}$</td>\n",
       "      <td>$2870^{+115}_{-130}$</td>\n",
       "      <td>$0.83^{+0.05}_{-0.05}$</td>\n",
       "    </tr>\n",
       "    <tr>\n",
       "      <th>45</th>\n",
       "      <td>103</td>\n",
       "      <td>IGRINS</td>\n",
       "      <td>17236$-$17478</td>\n",
       "      <td>$&lt;3700$</td>\n",
       "      <td>$3848^{+312}_{-334}$</td>\n",
       "      <td>$2972^{+199}_{-234}$</td>\n",
       "      <td>$0.65^{+0.18}_{-0.30}$</td>\n",
       "    </tr>\n",
       "    <tr>\n",
       "      <th>46</th>\n",
       "      <td>102</td>\n",
       "      <td>IGRINS</td>\n",
       "      <td>17400$-$17645</td>\n",
       "      <td>$&lt;3629$</td>\n",
       "      <td>$4336^{+136}_{-159}$</td>\n",
       "      <td>$2751^{+113}_{-48}$</td>\n",
       "      <td>$0.82^{+0.04}_{-0.05}$</td>\n",
       "    </tr>\n",
       "    <tr>\n",
       "      <th>47</th>\n",
       "      <td>101</td>\n",
       "      <td>IGRINS</td>\n",
       "      <td>17568$-$17815</td>\n",
       "      <td>$&lt;3543$</td>\n",
       "      <td>$4199^{+264}_{-574}$</td>\n",
       "      <td>$2916^{+158}_{-158}$</td>\n",
       "      <td>$0.79^{+0.05}_{-0.23}$</td>\n",
       "    </tr>\n",
       "    <tr>\n",
       "      <th>48</th>\n",
       "      <td>100</td>\n",
       "      <td>IGRINS</td>\n",
       "      <td>17739$-$17988</td>\n",
       "      <td>$&lt;3598$</td>\n",
       "      <td>$4312^{+161}_{-193}$</td>\n",
       "      <td>$2765^{+135}_{-61}$</td>\n",
       "      <td>$0.79^{+0.04}_{-0.06}$</td>\n",
       "    </tr>\n",
       "    <tr>\n",
       "      <th>49</th>\n",
       "      <td>94</td>\n",
       "      <td>IGRINS</td>\n",
       "      <td>18855$-$19117</td>\n",
       "      <td>$\\cdots$</td>\n",
       "      <td>$4293^{+185}_{-1132}$</td>\n",
       "      <td>$2899^{+304}_{-150}$</td>\n",
       "      <td>$0.81^{+0.07}_{-0.39}$</td>\n",
       "    </tr>\n",
       "  </tbody>\n",
       "</table>\n",
       "</div>"
      ],
      "text/plain": [
       "    Order Instrument wavelength_range      Teff                  Teff1  \\\n",
       "43    105     IGRINS    16917$-$17155   $<3711$   $3930^{+209}_{-152}$   \n",
       "44    104     IGRINS    17075$-$17315   $<3776$   $4300^{+177}_{-245}$   \n",
       "45    103     IGRINS    17236$-$17478   $<3700$   $3848^{+312}_{-334}$   \n",
       "46    102     IGRINS    17400$-$17645   $<3629$   $4336^{+136}_{-159}$   \n",
       "47    101     IGRINS    17568$-$17815   $<3543$   $4199^{+264}_{-574}$   \n",
       "48    100     IGRINS    17739$-$17988   $<3598$   $4312^{+161}_{-193}$   \n",
       "49     94     IGRINS    18855$-$19117  $\\cdots$  $4293^{+185}_{-1132}$   \n",
       "\n",
       "                   Teff2                      ff  \n",
       "43   $2763^{+212}_{-59}$  $0.66^{+0.06}_{-0.10}$  \n",
       "44  $2870^{+115}_{-130}$  $0.83^{+0.05}_{-0.05}$  \n",
       "45  $2972^{+199}_{-234}$  $0.65^{+0.18}_{-0.30}$  \n",
       "46   $2751^{+113}_{-48}$  $0.82^{+0.04}_{-0.05}$  \n",
       "47  $2916^{+158}_{-158}$  $0.79^{+0.05}_{-0.23}$  \n",
       "48   $2765^{+135}_{-61}$  $0.79^{+0.04}_{-0.06}$  \n",
       "49  $2899^{+304}_{-150}$  $0.81^{+0.07}_{-0.39}$  "
      ]
     },
     "execution_count": 39,
     "metadata": {},
     "output_type": "execute_result"
    }
   ],
   "source": [
    "latex_merge.fillna(value='$\\cdots$')[43:50]"
   ]
  },
  {
   "cell_type": "code",
   "execution_count": 40,
   "metadata": {
    "collapsed": false
   },
   "outputs": [],
   "source": [
    "latex_merge.to_latex('../document/tables/tbl_order_results_all_raw.tex', na_rep='$\\cdots$', index=False, escape=False)"
   ]
  },
  {
   "cell_type": "markdown",
   "metadata": {},
   "source": [
    "## The end."
   ]
  }
 ],
 "metadata": {
  "kernelspec": {
   "display_name": "Python 3",
   "language": "python",
   "name": "python3"
  },
  "language_info": {
   "codemirror_mode": {
    "name": "ipython",
    "version": 3
   },
   "file_extension": ".py",
   "mimetype": "text/x-python",
   "name": "python",
   "nbconvert_exporter": "python",
   "pygments_lexer": "ipython3",
   "version": "3.4.5"
  }
 },
 "nbformat": 4,
 "nbformat_minor": 0
}
