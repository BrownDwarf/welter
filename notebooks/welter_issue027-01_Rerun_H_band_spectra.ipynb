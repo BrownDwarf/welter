{
 "cells": [
  {
   "cell_type": "markdown",
   "metadata": {},
   "source": [
    "# welter issue #27\n",
    "## Rerun the $H-$band spectra\n",
    "### Part I: Fromat the config files to have an expanded $T_{\\rm eff}$ range\n",
    "\n",
    "gully  \n",
    "\n",
    "July 2016\n",
    "\n"
   ]
  },
  {
   "cell_type": "markdown",
   "metadata": {},
   "source": [
    "## Modify the `config.yaml` files"
   ]
  },
  {
   "cell_type": "code",
   "execution_count": null,
   "metadata": {
    "collapsed": true
   },
   "outputs": [],
   "source": [
    "#!/usr/bin/env python\n",
    "import os\n",
    "import yaml\n",
    "import numpy as np \n",
    "import h5py\n",
    "\n",
    "ms = range(98, 126)\n",
    "\n",
    "os.chdir(os.path.expandvars('$WELTER/sf/'))\n",
    "\n",
    "os.getcwd()\n",
    "\n",
    "for m in ms:\n",
    "\n",
    "    path_out = 'm{:03d}/'.format(m)\n",
    "    sf_out = 'm{:03d}/config.yaml'.format(m)\n",
    "    \n",
    "    f = open(\"m{:03d}/config.yaml\".format(m))\n",
    "    config = yaml.load(f)\n",
    "    f.close()\n",
    "    \n",
    "    config['grid']['hdf5_path'] = '$WELTER/sf/m{:03d}/libraries/PHOENIX_IGRINS_m{:03d}_Teff2700-4500.hdf5'.format(m,m)\n",
    "\n",
    "    config['grid']['parrange'] = [[2700, 4500], [3.5, 4.0], [-0.5, 0.5]]\n",
    "    config['PCA']['path'] = '$WELTER/sf/m{:03d}/PHOENIX_IGRINS_H_PCA_Teff2700-4500.hdf5'.format(m)\n",
    "    print(\"{}\".format(sf_out))\n",
    "    \n",
    "    os.makedirs(path_out, exist_ok=True)\n",
    "    with open(sf_out, mode='w') as outfile:\n",
    "        outfile.write(yaml.dump(config))\n",
    "        print('wrote to {}'.format(path_out))\n",
    "\n",
    "#for m in ms:\n",
    "    #os.chdir(\"m{:03d}\".format(m))\n",
    "    #os.system('mkdir libraries &')\n",
    "    #os.system('grid.py --create > grid.out &')\n",
    "    #os.chdir(\"..\")\n"
   ]
  },
  {
   "cell_type": "markdown",
   "metadata": {},
   "source": [
    "## Initial starting value"
   ]
  },
  {
   "cell_type": "markdown",
   "metadata": {},
   "source": [
    "*Idea:* rather than mess with the config file, we can simply run `star_mix.py --samples=N --resume`, so that we pick the values where we left off in the chain.\n",
    "\n",
    "This has many drawbacks though, like we might get suck in a systematics limited trap."
   ]
  },
  {
   "cell_type": "code",
   "execution_count": 1,
   "metadata": {
    "collapsed": true
   },
   "outputs": [],
   "source": [
    "import os"
   ]
  },
  {
   "cell_type": "code",
   "execution_count": 4,
   "metadata": {
    "collapsed": true
   },
   "outputs": [],
   "source": [
    "import yaml"
   ]
  },
  {
   "cell_type": "code",
   "execution_count": 2,
   "metadata": {
    "collapsed": false
   },
   "outputs": [
    {
     "data": {
      "text/plain": [
       "'/Users/gully/GitHub/welter/sf'"
      ]
     },
     "execution_count": 2,
     "metadata": {},
     "output_type": "execute_result"
    }
   ],
   "source": [
    "os.chdir(os.path.expandvars('$WELTER/sf/'))\n",
    "\n",
    "os.getcwd()"
   ]
  },
  {
   "cell_type": "code",
   "execution_count": 14,
   "metadata": {
    "collapsed": false
   },
   "outputs": [
    {
     "name": "stdout",
     "output_type": "stream",
     "text": [
      "wrote to m115/config_temp.yaml\n"
     ]
    }
   ],
   "source": [
    "m = 115\n",
    "\n",
    "path_out = 'm{:03d}/'.format(m)\n",
    "sf_out = 'm{:03d}/config_temp.yaml'.format(m)\n",
    "\n",
    "# Presuppose that the file exists...    \n",
    "f = open(\"m{:03d}/config.yaml\".format(m))\n",
    "config = yaml.load(f)\n",
    "f.close()\n",
    "\n",
    "# Stellar parameters\n",
    "config['Theta']['grid'] = [4250.0, 3.8, 0.0]\n",
    "config['Theta']['teff2'] = 2900.0\n",
    "config['Theta']['logOmega'] = -0.2\n",
    "config['Theta']['logOmega2'] = -0.6\n",
    "config['Theta']['vsini'] = 29.0\n",
    "config['Theta']['vz'] = 11.0\n",
    "\n",
    "config['Theta_jump']['grid'] = [3.0, 0.003, 0.001]\n",
    "config['Theta_jump']['teff2'] = 3.0\n",
    "config['Theta_jump']['logOmega'] = 0.003\n",
    "config['Theta_jump']['logOmega2'] = 0.003\n",
    "config['Theta_jump']['vsini'] = 0.05\n",
    "config['Theta_jump']['vz'] = 0.05\n",
    "\n",
    "config['Theta_priors'] = '$WELTER/code/priors/user_prior.py'\n",
    "\n",
    "\n",
    "config['grid']['hdf5_path'] = '$WELTER/sf/m{:03d}/libraries/PHOENIX_IGRINS_m{:03d}_Teff2700-4500.hdf5'.format(m,m)\n",
    "\n",
    "config['grid']['parrange'] = [[2700, 4500], [3.5, 4.0], [-0.5, 0.5]]\n",
    "config['PCA']['path'] = '$WELTER/sf/m{:03d}/PHOENIX_IGRINS_H_PCA_Teff2700-4500.hdf5'.format(m)\n",
    "\n",
    "os.makedirs(path_out, exist_ok=True)\n",
    "with open(sf_out, mode='w') as outfile:\n",
    "    outfile.write(yaml.dump(config))\n",
    "    print('wrote to {}'.format(sf_out))"
   ]
  },
  {
   "cell_type": "code",
   "execution_count": null,
   "metadata": {
    "collapsed": true
   },
   "outputs": [],
   "source": []
  },
  {
   "cell_type": "code",
   "execution_count": null,
   "metadata": {
    "collapsed": true
   },
   "outputs": [],
   "source": []
  },
  {
   "cell_type": "code",
   "execution_count": null,
   "metadata": {
    "collapsed": true
   },
   "outputs": [],
   "source": []
  }
 ],
 "metadata": {
  "kernelspec": {
   "display_name": "Python 3",
   "language": "python",
   "name": "python3"
  },
  "language_info": {
   "codemirror_mode": {
    "name": "ipython",
    "version": 3
   },
   "file_extension": ".py",
   "mimetype": "text/x-python",
   "name": "python",
   "nbconvert_exporter": "python",
   "pygments_lexer": "ipython3",
   "version": "3.4.4"
  }
 },
 "nbformat": 4,
 "nbformat_minor": 0
}
