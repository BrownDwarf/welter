{
 "cells": [
  {
   "cell_type": "markdown",
   "metadata": {},
   "source": [
    "# Welter\n",
    "\n",
    "\n",
    "\n",
    "Michael Gully-Santiago  \n",
    "Tuesday, December 22, 2015  \n",
    "\n",
    "Let's try it."
   ]
  },
  {
   "cell_type": "code",
   "execution_count": 1,
   "metadata": {
    "collapsed": false
   },
   "outputs": [],
   "source": [
    "import warnings\n",
    "warnings.filterwarnings(\"ignore\")\n",
    "import numpy as np\n",
    "from astropy.io import fits\n",
    "import matplotlib.pyplot as plt"
   ]
  },
  {
   "cell_type": "code",
   "execution_count": 2,
   "metadata": {
    "collapsed": true
   },
   "outputs": [],
   "source": [
    "% matplotlib inline\n",
    "% config InlineBackend.figure_format = 'retina'\n",
    "import seaborn as sns\n",
    "sns.set_context('notebook')"
   ]
  },
  {
   "cell_type": "markdown",
   "metadata": {},
   "source": [
    "## Read in all the data.\n",
    "No spot-checking necessary, since we already did that in the previous notebook."
   ]
  },
  {
   "cell_type": "code",
   "execution_count": 3,
   "metadata": {
    "collapsed": true
   },
   "outputs": [],
   "source": [
    "import pandas as pd"
   ]
  },
  {
   "cell_type": "code",
   "execution_count": 4,
   "metadata": {
    "collapsed": true
   },
   "outputs": [],
   "source": [
    "sns.set_context('paper', font_scale=1.6)\n",
    "sns.set_style('ticks')"
   ]
  },
  {
   "cell_type": "code",
   "execution_count": 5,
   "metadata": {
    "collapsed": true
   },
   "outputs": [],
   "source": [
    "sf_dat = pd.read_csv('../data/analysis/IGRINS_LkCa4_run01_last20kMCMC.csv')"
   ]
  },
  {
   "cell_type": "code",
   "execution_count": 6,
   "metadata": {
    "collapsed": false
   },
   "outputs": [
    {
     "data": {
      "text/html": [
       "<div>\n",
       "<table border=\"1\" class=\"dataframe\">\n",
       "  <thead>\n",
       "    <tr style=\"text-align: right;\">\n",
       "      <th></th>\n",
       "      <th>wl_start</th>\n",
       "      <th>wl_end</th>\n",
       "      <th>band</th>\n",
       "      <th>number</th>\n",
       "      <th>tell_trans</th>\n",
       "      <th>m_val</th>\n",
       "      <th>wl_center</th>\n",
       "      <th>Teff_05p</th>\n",
       "      <th>Teff_50p</th>\n",
       "      <th>Teff_95p</th>\n",
       "      <th>...</th>\n",
       "      <th>c3_95p</th>\n",
       "      <th>SA_05p</th>\n",
       "      <th>SA_50p</th>\n",
       "      <th>SA_95p</th>\n",
       "      <th>LA_05p</th>\n",
       "      <th>LA_50p</th>\n",
       "      <th>LA_95p</th>\n",
       "      <th>ll_05p</th>\n",
       "      <th>ll_50p</th>\n",
       "      <th>ll_95p</th>\n",
       "    </tr>\n",
       "  </thead>\n",
       "  <tbody>\n",
       "    <tr>\n",
       "      <th>0</th>\n",
       "      <td>18092</td>\n",
       "      <td>18346</td>\n",
       "      <td>H</td>\n",
       "      <td>0</td>\n",
       "      <td>0.117487</td>\n",
       "      <td>98</td>\n",
       "      <td>18219.0</td>\n",
       "      <td>NaN</td>\n",
       "      <td>NaN</td>\n",
       "      <td>NaN</td>\n",
       "      <td>...</td>\n",
       "      <td>NaN</td>\n",
       "      <td>NaN</td>\n",
       "      <td>NaN</td>\n",
       "      <td>NaN</td>\n",
       "      <td>NaN</td>\n",
       "      <td>NaN</td>\n",
       "      <td>NaN</td>\n",
       "      <td>NaN</td>\n",
       "      <td>NaN</td>\n",
       "      <td>NaN</td>\n",
       "    </tr>\n",
       "    <tr>\n",
       "      <th>1</th>\n",
       "      <td>17914</td>\n",
       "      <td>18165</td>\n",
       "      <td>H</td>\n",
       "      <td>1</td>\n",
       "      <td>0.342583</td>\n",
       "      <td>99</td>\n",
       "      <td>18039.5</td>\n",
       "      <td>3501.068994</td>\n",
       "      <td>3513.371826</td>\n",
       "      <td>3552.386816</td>\n",
       "      <td>...</td>\n",
       "      <td>0.033320</td>\n",
       "      <td>4.966462</td>\n",
       "      <td>5.342383</td>\n",
       "      <td>5.683854</td>\n",
       "      <td>-1.801218</td>\n",
       "      <td>-1.722525</td>\n",
       "      <td>-1.645387</td>\n",
       "      <td>21.389151</td>\n",
       "      <td>27.485828</td>\n",
       "      <td>33.448536</td>\n",
       "    </tr>\n",
       "    <tr>\n",
       "      <th>2</th>\n",
       "      <td>17739</td>\n",
       "      <td>17988</td>\n",
       "      <td>H</td>\n",
       "      <td>2</td>\n",
       "      <td>0.666035</td>\n",
       "      <td>100</td>\n",
       "      <td>17863.5</td>\n",
       "      <td>3503.000806</td>\n",
       "      <td>3533.342041</td>\n",
       "      <td>3598.625757</td>\n",
       "      <td>...</td>\n",
       "      <td>0.009295</td>\n",
       "      <td>0.561469</td>\n",
       "      <td>0.616338</td>\n",
       "      <td>0.674881</td>\n",
       "      <td>-1.874350</td>\n",
       "      <td>-1.831479</td>\n",
       "      <td>-1.785062</td>\n",
       "      <td>14.759428</td>\n",
       "      <td>16.864183</td>\n",
       "      <td>19.478700</td>\n",
       "    </tr>\n",
       "    <tr>\n",
       "      <th>3</th>\n",
       "      <td>17568</td>\n",
       "      <td>17815</td>\n",
       "      <td>H</td>\n",
       "      <td>3</td>\n",
       "      <td>0.827089</td>\n",
       "      <td>101</td>\n",
       "      <td>17691.5</td>\n",
       "      <td>3500.818140</td>\n",
       "      <td>3510.430420</td>\n",
       "      <td>3543.398657</td>\n",
       "      <td>...</td>\n",
       "      <td>0.021796</td>\n",
       "      <td>0.413524</td>\n",
       "      <td>0.454453</td>\n",
       "      <td>0.498684</td>\n",
       "      <td>-1.868368</td>\n",
       "      <td>-1.826906</td>\n",
       "      <td>-1.777924</td>\n",
       "      <td>16.175522</td>\n",
       "      <td>18.257780</td>\n",
       "      <td>21.050026</td>\n",
       "    </tr>\n",
       "    <tr>\n",
       "      <th>4</th>\n",
       "      <td>17400</td>\n",
       "      <td>17645</td>\n",
       "      <td>H</td>\n",
       "      <td>4</td>\n",
       "      <td>0.904758</td>\n",
       "      <td>102</td>\n",
       "      <td>17522.5</td>\n",
       "      <td>3501.463135</td>\n",
       "      <td>3521.662598</td>\n",
       "      <td>3629.461426</td>\n",
       "      <td>...</td>\n",
       "      <td>0.009541</td>\n",
       "      <td>0.263719</td>\n",
       "      <td>0.294708</td>\n",
       "      <td>0.326677</td>\n",
       "      <td>-1.862501</td>\n",
       "      <td>-1.813840</td>\n",
       "      <td>-1.750587</td>\n",
       "      <td>17.752643</td>\n",
       "      <td>20.574348</td>\n",
       "      <td>23.989191</td>\n",
       "    </tr>\n",
       "  </tbody>\n",
       "</table>\n",
       "<p>5 rows × 43 columns</p>\n",
       "</div>"
      ],
      "text/plain": [
       "   wl_start  wl_end band  number  tell_trans  m_val  wl_center     Teff_05p  \\\n",
       "0     18092   18346    H       0    0.117487     98    18219.0          NaN   \n",
       "1     17914   18165    H       1    0.342583     99    18039.5  3501.068994   \n",
       "2     17739   17988    H       2    0.666035    100    17863.5  3503.000806   \n",
       "3     17568   17815    H       3    0.827089    101    17691.5  3500.818140   \n",
       "4     17400   17645    H       4    0.904758    102    17522.5  3501.463135   \n",
       "\n",
       "      Teff_50p     Teff_95p    ...        c3_95p    SA_05p    SA_50p  \\\n",
       "0          NaN          NaN    ...           NaN       NaN       NaN   \n",
       "1  3513.371826  3552.386816    ...      0.033320  4.966462  5.342383   \n",
       "2  3533.342041  3598.625757    ...      0.009295  0.561469  0.616338   \n",
       "3  3510.430420  3543.398657    ...      0.021796  0.413524  0.454453   \n",
       "4  3521.662598  3629.461426    ...      0.009541  0.263719  0.294708   \n",
       "\n",
       "     SA_95p    LA_05p    LA_50p    LA_95p     ll_05p     ll_50p     ll_95p  \n",
       "0       NaN       NaN       NaN       NaN        NaN        NaN        NaN  \n",
       "1  5.683854 -1.801218 -1.722525 -1.645387  21.389151  27.485828  33.448536  \n",
       "2  0.674881 -1.874350 -1.831479 -1.785062  14.759428  16.864183  19.478700  \n",
       "3  0.498684 -1.868368 -1.826906 -1.777924  16.175522  18.257780  21.050026  \n",
       "4  0.326677 -1.862501 -1.813840 -1.750587  17.752643  20.574348  23.989191  \n",
       "\n",
       "[5 rows x 43 columns]"
      ]
     },
     "execution_count": 6,
     "metadata": {},
     "output_type": "execute_result"
    }
   ],
   "source": [
    "sf_dat.head()"
   ]
  },
  {
   "cell_type": "markdown",
   "metadata": {},
   "source": [
    "# Plot of \"flux calibrated\" spectrum!"
   ]
  },
  {
   "cell_type": "code",
   "execution_count": 8,
   "metadata": {
    "collapsed": true
   },
   "outputs": [],
   "source": [
    "import h5py\n",
    "import numpy as np\n",
    "from numpy.polynomial import Chebyshev as Ch"
   ]
  },
  {
   "cell_type": "code",
   "execution_count": 100,
   "metadata": {
    "collapsed": true
   },
   "outputs": [],
   "source": [
    "import yaml"
   ]
  },
  {
   "cell_type": "code",
   "execution_count": 101,
   "metadata": {
    "collapsed": true
   },
   "outputs": [],
   "source": [
    "import json"
   ]
  },
  {
   "cell_type": "code",
   "execution_count": 26,
   "metadata": {
    "collapsed": false
   },
   "outputs": [],
   "source": [
    "gi = sf_dat.Teff_50p == sf_dat.Teff_50p\n",
    "ms = sf_dat.m_val[gi]"
   ]
  },
  {
   "cell_type": "code",
   "execution_count": 103,
   "metadata": {
    "collapsed": false
   },
   "outputs": [],
   "source": [
    "sf_out = '../sf/m{:03d}/config.yaml'.format(101)\n",
    "\n",
    "f = open(sf_out)\n",
    "config = yaml.load(f)\n",
    "f.close()"
   ]
  },
  {
   "cell_type": "code",
   "execution_count": 109,
   "metadata": {
    "collapsed": false
   },
   "outputs": [
    {
     "data": {
      "text/plain": [
       "{'Comments': 'LkCa4 single order: m = 101, autogenerated config file.',\n",
       " 'PCA': {'path': '/home/gully/GitHub/welter/sf/m101/PHOENIX_IGRINS_H_PCA.hdf5',\n",
       "  'priors': [[2.0, 0.0075], [2.0, 0.75], [2.0, 0.75]],\n",
       "  'threshold': 0.999},\n",
       " 'Phi': {'l': 20.0, 'logAmp': -2.0, 'sigAmp': 1.0},\n",
       " 'Phi_jump': {'l': 0.25, 'logAmp': 0.01, 'sigAmp': 0.025},\n",
       " 'Theta': {'Av': 0.0,\n",
       "  'grid': [3500.293333052885, 3.999999999944678, -0.23080576722271862],\n",
       "  'logOmega': -0.31759775866703227,\n",
       "  'vsini': 25.827965768198013,\n",
       "  'vz': 96.27121635195883},\n",
       " 'Theta_jump': {'Av': 0.01,\n",
       "  'grid': [3, 0.003, 0.001],\n",
       "  'logOmega': 0.0003,\n",
       "  'vsini': 0.05,\n",
       "  'vz': 0.05},\n",
       " 'cheb_degree': 4,\n",
       " 'cheb_jump': 0.0001,\n",
       " 'data': {'files': ['/home/gully/GitHub/welter/data/reduced/LkCa4_IGRINS_m101.hdf5'],\n",
       "  'grid_name': 'PHOENIX',\n",
       "  'instruments': ['IGRINS_H'],\n",
       "  'orders': [0]},\n",
       " 'grid': {'buffer': 30.0,\n",
       "  'hdf5_path': '/home/gully/GitHub/welter/sf/m113/libraries/PHOENIX_IGRINS_m101.hdf5',\n",
       "  'key_name': 't{0:.0f}g{1:.1f}z{2:.1f}',\n",
       "  'parname': ['temp', 'logg', 'Z'],\n",
       "  'parrange': [[3500, 4300], [3.5, 4.0], [-0.5, 0.5]],\n",
       "  'raw_path': '/home/gully/GitHub/Starfish/libraries/raw/PHOENIX/',\n",
       "  'wl_range': [17628, 17805]},\n",
       " 'name': 'LkCa4_m101',\n",
       " 'outdir': 'output/',\n",
       " 'plotdir': 'plots/',\n",
       " 'region_params': {'logAmp': -2.0, 'sigma': 7.0},\n",
       " 'sigma_clip': 4.0}"
      ]
     },
     "execution_count": 109,
     "metadata": {},
     "output_type": "execute_result"
    }
   ],
   "source": [
    "config"
   ]
  },
  {
   "cell_type": "code",
   "execution_count": 111,
   "metadata": {
    "collapsed": true
   },
   "outputs": [],
   "source": [
    "cwd = os.getcwd()"
   ]
  },
  {
   "cell_type": "code",
   "execution_count": 110,
   "metadata": {
    "collapsed": true
   },
   "outputs": [],
   "source": [
    "import os"
   ]
  },
  {
   "cell_type": "markdown",
   "metadata": {},
   "source": [
    "# see note below!"
   ]
  },
  {
   "cell_type": "code",
   "execution_count": 119,
   "metadata": {
    "collapsed": false
   },
   "outputs": [
    {
     "name": "stdout",
     "output_type": "stream",
     "text": [
      "099: 17975  -  18155   m099\n"
     ]
    },
    {
     "ename": "OSError",
     "evalue": "Unable to open file (Unable to open file: name = '../data/reduced/lkca4_igrins_m100.hdf5', errno = 2, error message = 'no such file or directory', flags = 0, o_flags = 0)",
     "output_type": "error",
     "traceback": [
      "\u001b[0;31m---------------------------------------------------------------------------\u001b[0m",
      "\u001b[0;31mOSError\u001b[0m                                   Traceback (most recent call last)",
      "\u001b[0;32m<ipython-input-119-7c8754d5ea37>\u001b[0m in \u001b[0;36m<module>\u001b[0;34m()\u001b[0m\n\u001b[1;32m      3\u001b[0m     \u001b[0mindex\u001b[0m \u001b[0;34m=\u001b[0m \u001b[0msf_dat\u001b[0m\u001b[0;34m.\u001b[0m\u001b[0mindex\u001b[0m\u001b[0;34m[\u001b[0m\u001b[0msf_dat\u001b[0m\u001b[0;34m.\u001b[0m\u001b[0mm_val\u001b[0m \u001b[0;34m==\u001b[0m \u001b[0mm\u001b[0m\u001b[0;34m]\u001b[0m\u001b[0;34m\u001b[0m\u001b[0m\n\u001b[1;32m      4\u001b[0m     \u001b[0mmdir\u001b[0m \u001b[0;34m=\u001b[0m \u001b[0;34m'm{:03d}'\u001b[0m\u001b[0;34m.\u001b[0m\u001b[0mformat\u001b[0m\u001b[0;34m(\u001b[0m\u001b[0mm\u001b[0m\u001b[0;34m)\u001b[0m\u001b[0;34m\u001b[0m\u001b[0m\n\u001b[0;32m----> 5\u001b[0;31m     \u001b[0mf\u001b[0m \u001b[0;34m=\u001b[0m \u001b[0mh5py\u001b[0m\u001b[0;34m.\u001b[0m\u001b[0mFile\u001b[0m\u001b[0;34m(\u001b[0m\u001b[0;34m'../data/reduced/LkCa4_IGRINS_{}.hdf5'\u001b[0m\u001b[0;34m.\u001b[0m\u001b[0mformat\u001b[0m\u001b[0;34m(\u001b[0m\u001b[0mmdir\u001b[0m\u001b[0;34m)\u001b[0m\u001b[0;34m,\u001b[0m \u001b[0;34m'r'\u001b[0m\u001b[0;34m)\u001b[0m\u001b[0;34m\u001b[0m\u001b[0m\n\u001b[0m\u001b[1;32m      6\u001b[0m     \u001b[0mlog_Omega\u001b[0m \u001b[0;34m=\u001b[0m \u001b[0msf_dat\u001b[0m\u001b[0;34m.\u001b[0m\u001b[0mget_value\u001b[0m\u001b[0;34m(\u001b[0m\u001b[0mindex\u001b[0m\u001b[0;34m.\u001b[0m\u001b[0mvalues\u001b[0m\u001b[0;34m[\u001b[0m\u001b[0;36m0\u001b[0m\u001b[0;34m]\u001b[0m\u001b[0;34m,\u001b[0m \u001b[0;34m'logO_50p'\u001b[0m\u001b[0;34m)\u001b[0m\u001b[0;34m\u001b[0m\u001b[0m\n\u001b[1;32m      7\u001b[0m     \u001b[0;31m#plt.plot(f['wls'], f['fls'], 'r.', alpha=0.05)\u001b[0m\u001b[0;34m\u001b[0m\u001b[0;34m\u001b[0m\u001b[0m\n",
      "\u001b[0;32m//anaconda/lib/python3.4/site-packages/h5py/_hl/files.py\u001b[0m in \u001b[0;36m__init__\u001b[0;34m(self, name, mode, driver, libver, userblock_size, swmr, **kwds)\u001b[0m\n\u001b[1;32m    258\u001b[0m \u001b[0;34m\u001b[0m\u001b[0m\n\u001b[1;32m    259\u001b[0m                 \u001b[0mfapl\u001b[0m \u001b[0;34m=\u001b[0m \u001b[0mmake_fapl\u001b[0m\u001b[0;34m(\u001b[0m\u001b[0mdriver\u001b[0m\u001b[0;34m,\u001b[0m \u001b[0mlibver\u001b[0m\u001b[0;34m,\u001b[0m \u001b[0;34m**\u001b[0m\u001b[0mkwds\u001b[0m\u001b[0;34m)\u001b[0m\u001b[0;34m\u001b[0m\u001b[0m\n\u001b[0;32m--> 260\u001b[0;31m                 \u001b[0mfid\u001b[0m \u001b[0;34m=\u001b[0m \u001b[0mmake_fid\u001b[0m\u001b[0;34m(\u001b[0m\u001b[0mname\u001b[0m\u001b[0;34m,\u001b[0m \u001b[0mmode\u001b[0m\u001b[0;34m,\u001b[0m \u001b[0muserblock_size\u001b[0m\u001b[0;34m,\u001b[0m \u001b[0mfapl\u001b[0m\u001b[0;34m,\u001b[0m \u001b[0mswmr\u001b[0m\u001b[0;34m=\u001b[0m\u001b[0mswmr\u001b[0m\u001b[0;34m)\u001b[0m\u001b[0;34m\u001b[0m\u001b[0m\n\u001b[0m\u001b[1;32m    261\u001b[0m \u001b[0;34m\u001b[0m\u001b[0m\n\u001b[1;32m    262\u001b[0m                 \u001b[0;32mif\u001b[0m \u001b[0mswmr_support\u001b[0m\u001b[0;34m:\u001b[0m\u001b[0;34m\u001b[0m\u001b[0m\n",
      "\u001b[0;32m//anaconda/lib/python3.4/site-packages/h5py/_hl/files.py\u001b[0m in \u001b[0;36mmake_fid\u001b[0;34m(name, mode, userblock_size, fapl, fcpl, swmr)\u001b[0m\n\u001b[1;32m     87\u001b[0m         \u001b[0;32mif\u001b[0m \u001b[0mswmr\u001b[0m \u001b[0;32mand\u001b[0m \u001b[0mswmr_support\u001b[0m\u001b[0;34m:\u001b[0m\u001b[0;34m\u001b[0m\u001b[0m\n\u001b[1;32m     88\u001b[0m             \u001b[0mflags\u001b[0m \u001b[0;34m|=\u001b[0m \u001b[0mh5f\u001b[0m\u001b[0;34m.\u001b[0m\u001b[0mACC_SWMR_READ\u001b[0m\u001b[0;34m\u001b[0m\u001b[0m\n\u001b[0;32m---> 89\u001b[0;31m         \u001b[0mfid\u001b[0m \u001b[0;34m=\u001b[0m \u001b[0mh5f\u001b[0m\u001b[0;34m.\u001b[0m\u001b[0mopen\u001b[0m\u001b[0;34m(\u001b[0m\u001b[0mname\u001b[0m\u001b[0;34m,\u001b[0m \u001b[0mflags\u001b[0m\u001b[0;34m,\u001b[0m \u001b[0mfapl\u001b[0m\u001b[0;34m=\u001b[0m\u001b[0mfapl\u001b[0m\u001b[0;34m)\u001b[0m\u001b[0;34m\u001b[0m\u001b[0m\n\u001b[0m\u001b[1;32m     90\u001b[0m     \u001b[0;32melif\u001b[0m \u001b[0mmode\u001b[0m \u001b[0;34m==\u001b[0m \u001b[0;34m'r+'\u001b[0m\u001b[0;34m:\u001b[0m\u001b[0;34m\u001b[0m\u001b[0m\n\u001b[1;32m     91\u001b[0m         \u001b[0mfid\u001b[0m \u001b[0;34m=\u001b[0m \u001b[0mh5f\u001b[0m\u001b[0;34m.\u001b[0m\u001b[0mopen\u001b[0m\u001b[0;34m(\u001b[0m\u001b[0mname\u001b[0m\u001b[0;34m,\u001b[0m \u001b[0mh5f\u001b[0m\u001b[0;34m.\u001b[0m\u001b[0mACC_RDWR\u001b[0m\u001b[0;34m,\u001b[0m \u001b[0mfapl\u001b[0m\u001b[0;34m=\u001b[0m\u001b[0mfapl\u001b[0m\u001b[0;34m)\u001b[0m\u001b[0;34m\u001b[0m\u001b[0m\n",
      "\u001b[0;32mh5py/_objects.pyx\u001b[0m in \u001b[0;36mh5py._objects.with_phil.wrapper (-------src-dir--------/h5py/_objects.c:2458)\u001b[0;34m()\u001b[0m\n",
      "\u001b[0;32mh5py/_objects.pyx\u001b[0m in \u001b[0;36mh5py._objects.with_phil.wrapper (-------src-dir--------/h5py/_objects.c:2415)\u001b[0;34m()\u001b[0m\n",
      "\u001b[0;32mh5py/h5f.pyx\u001b[0m in \u001b[0;36mh5py.h5f.open (-------src-dir--------/h5py/h5f.c:1792)\u001b[0;34m()\u001b[0m\n",
      "\u001b[0;31mOSError\u001b[0m: Unable to open file (Unable to open file: name = '../data/reduced/lkca4_igrins_m100.hdf5', errno = 2, error message = 'no such file or directory', flags = 0, o_flags = 0)"
     ]
    },
    {
     "data": {
      "image/png": "[encoded data removed]",
      "text/plain": [
       "<matplotlib.figure.Figure at 0x11a229ac8>"
      ]
     },
     "metadata": {
      "image/png": {
       "height": 323,
       "width": 900
      }
     },
     "output_type": "display_data"
    }
   ],
   "source": [
    "fig = plt.figure(figsize=(15, 5))\n",
    "for m in ms:\n",
    "    index = sf_dat.index[sf_dat.m_val == m]\n",
    "    mdir = 'm{:03d}'.format(m)\n",
    "    f = h5py.File('../data/reduced/LkCa4_IGRINS_{}.hdf5'.format(mdir), 'r')\n",
    "    log_Omega = sf_dat.get_value(index.values[0], 'logO_50p')\n",
    "    #plt.plot(f['wls'], f['fls'], 'r.', alpha=0.05)\n",
    "    #plt.plot(f['wls'], f['fls']/(10**log_Omega), 'k.', alpha=0.05)\n",
    "    \n",
    "    len_wl = len(f['wls'])\n",
    "    xs = np.arange(len_wl)\n",
    "    coeff = [1]\n",
    "    T = []\n",
    "    for i in range(1, 4):\n",
    "        # print(\"i = \", i)\n",
    "        coeff = [0] + coeff\n",
    "        Chtemp = Ch(coeff, domain=[0, len_wl - 1])\n",
    "        Ttemp = Chtemp(xs)\n",
    "        T += [Ttemp]\n",
    "\n",
    "    T = np.array(T)\n",
    "\n",
    "    cns = [sf_dat.c1_50p[index.values[0]], \n",
    "          sf_dat.c2_50p[index.values[0]],\n",
    "          sf_dat.c3_50p[index.values[0]]]\n",
    "\n",
    "    Tc = np.dot(T.T, cns)\n",
    "\n",
    "    k = 1.0+ Tc\n",
    "\n",
    "    plt.step(f['wls'], f['fls']/(10**log_Omega)/k, 'k', linewidth=0.3, alpha=1)\n",
    "    \n",
    "    wls = f['wls'][:]\n",
    "    f.close()\n",
    "    \n",
    "    sf_out = '../sf/m{:03d}/config.yaml'.format(m)\n",
    "\n",
    "    f2 = open(sf_out)\n",
    "    config = yaml.load(f2)\n",
    "    f2.close()\n",
    "\n",
    "\n",
    "    config['data']['files'] = ['/Users/gully/GitHub/welter/data/reduced/LkCa4_IGRINS_m{:03d}.hdf5'.format(m)]\n",
    "    config['grid']['hdf5_path'] = '/Users/gully/GitHub/welter/sf/m113/libraries/PHOENIX_IGRINS_m{:03d}.hdf5'.format(m)\n",
    "    lb, ub = int(np.floor(wls[0])), int(np.ceil(wls[-1]))\n",
    "\n",
    "    config['grid']['wl_range'] = [lb, ub]\n",
    "    config['PCA']['path'] = '/home/gully/GitHub/welter/sf/m{:03d}/PHOENIX_IGRINS_H_PCA.hdf5'.format(m)\n",
    "    config['name'] = 'LkCa4_m{:03d}'.format(m)\n",
    "    config['Comments'] = 'LkCa4 single order: m = {}, autogenerated config file.'.format(m)\n",
    "    config['data']['instruments'] =['IGRINS_K']\n",
    "    config['Theta']['grid'] = [int(sf_dat.Teff_50p[index.values[0]]), 3.7, 0.0]\n",
    "    config['Theta']['vsini'] = float(np.round(sf_dat.vi_50p[index.values[0]], decimals=1))\n",
    "    config['Theta']['vz'] = float(np.round(sf_dat.vz_50p[index.values[0]], decimals=1))\n",
    "\n",
    "\n",
    "    print(\"{:03d}: {:.0f}  -  {:.0f}   {}\".format(m, wls[0], wls[-1], mdir))\n",
    "\n",
    "    #os.makedirs(path_out, exist_ok=True)\n",
    "    with open(sf_out, mode='w') as outfile:\n",
    "        outfile.write(yaml.dump(config))\n",
    "    \n",
    "    os.chdir('../sf/{}'.format(mdir))\n",
    "    os.system('star.py --generate')    \n",
    "\n",
    "plt.plot([15000, 24000], [1.0, 1.0], 'k--')    \n",
    "plt.ylim(0, 2)\n",
    "#plt.xlim(21000, 22000)\n",
    "plt.xlim(16300, 17300)"
   ]
  },
  {
   "cell_type": "markdown",
   "metadata": {},
   "source": [
    "Tuesday, Dec. 22, 2015.  \n",
    "\n",
    "I left off tyring to over plot the best fit models parameters with the full spectrum.  This will look very cool because we will have a long spectrum with a good model match, but with the ability to tune the nuissance parameters, like vsini, vz, etc.  Visual checking of this will help tell us what is working."
   ]
  },
  {
   "cell_type": "code",
   "execution_count": null,
   "metadata": {
    "collapsed": true
   },
   "outputs": [],
   "source": [
    "fig = plt.figure(figsize=(15, 5))\n",
    "for m in ###############:\n",
    "    index = sf_dat.index[sf_dat.m_val == m]\n",
    "    mdir = 'm{:03d}'.format(m)\n",
    "    f = h5py.File('../data/reduced/LkCa4_IGRINS_{}.hdf5'.format(mdir), 'r')\n",
    "    wls = f['wls'][:]\n",
    "    f.close()\n",
    "    \n",
    "    sf_out = '../sf/m{:03d}/config.yaml'.format(m)\n",
    "\n",
    "    f2 = open(sf_out)\n",
    "    config = yaml.load(f2)\n",
    "    f2.close()\n",
    "\n",
    "\n",
    "    config['data']['files'] = ['/Users/gully/GitHub/welter/data/reduced/LkCa4_IGRINS_m{:03d}.hdf5'.format(m)]\n",
    "    config['grid']['hdf5_path'] = '/Users/gully/GitHub/welter/sf/m113/libraries/PHOENIX_IGRINS_m{:03d}.hdf5'.format(m)\n",
    "    lb, ub = int(np.floor(wls[0])), int(np.ceil(wls[-1]))\n",
    "\n",
    "    config['grid']['wl_range'] = [lb, ub]\n",
    "    config['PCA']['path'] = '/home/gully/GitHub/welter/sf/m{:03d}/PHOENIX_IGRINS_H_PCA.hdf5'.format(m)\n",
    "    config['name'] = 'LkCa4_m{:03d}'.format(m)\n",
    "    config['Comments'] = 'LkCa4 single order: m = {}, autogenerated config file.'.format(m)\n",
    "    config['data']['instruments'] =['IGRINS_K']\n",
    "    config['Theta']['grid'] = [int(sf_dat.Teff_50p[index.values[0]]), 3.7, 0.0]\n",
    "    config['Theta']['vsini'] = float(np.round(sf_dat.vi_50p[index.values[0]], decimals=1))\n",
    "    config['Theta']['vz'] = float(np.round(sf_dat.vz_50p[index.values[0]], decimals=1))\n",
    "\n",
    "\n",
    "    print(\"{:03d}: {:.0f}  -  {:.0f}   {}\".format(m, wls[0], wls[-1], mdir))\n",
    "\n",
    "    #os.makedirs(path_out, exist_ok=True)\n",
    "    with open(sf_out, mode='w') as outfile:\n",
    "        outfile.write(yaml.dump(config))\n",
    "    \n",
    "    os.chdir('../sf/{}'.format(mdir))\n",
    "    os.system('star.py --generate')    \n",
    "\n",
    "plt.plot([15000, 24000], [1.0, 1.0], 'k--')    \n",
    "plt.ylim(0, 2)\n",
    "#plt.xlim(21000, 22000)\n",
    "plt.xlim(16300, 17300)"
   ]
  }
 ],
 "metadata": {
  "kernelspec": {
   "display_name": "Python 3",
   "language": "python",
   "name": "python3"
  },
  "language_info": {
   "codemirror_mode": {
    "name": "ipython",
    "version": 3
   },
   "file_extension": ".py",
   "mimetype": "text/x-python",
   "name": "python",
   "nbconvert_exporter": "python",
   "pygments_lexer": "ipython3",
   "version": "3.4.3"
  }
 },
 "nbformat": 4,
 "nbformat_minor": 0
}
