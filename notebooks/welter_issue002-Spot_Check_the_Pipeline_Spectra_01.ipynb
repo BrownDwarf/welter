{
 "cells": [
  {
   "cell_type": "markdown",
   "metadata": {},
   "source": [
    "# Welter issue #2\n",
    "## Spot Check the Pipeline Spectra\n",
    "### Notebook 01\n",
    "\n",
    "Michael Gully-Santiago  \n",
    "Wednesday, November 25, 2015  \n",
    "\n",
    "We will make plots of the pipeline spectra."
   ]
  },
  {
   "cell_type": "code",
   "execution_count": null,
   "metadata": {
    "collapsed": false
   },
   "outputs": [],
   "source": [
    "import warnings\n",
    "warnings.filterwarnings(\"ignore\")\n",
    "import numpy as np\n",
    "from astropy.io import fits\n",
    "import matplotlib.pyplot as plt"
   ]
  },
  {
   "cell_type": "code",
   "execution_count": null,
   "metadata": {
    "collapsed": true
   },
   "outputs": [],
   "source": [
    "% matplotlib inline\n",
    "% config InlineBackend.figure_format = 'retina'\n",
    "import seaborn as sns\n",
    "sns.set_context('notebook')"
   ]
  },
  {
   "cell_type": "markdown",
   "metadata": {},
   "source": [
    "## Raw standard star spectrum:  `20151117/SDCH_20151117_0199.spec.fits`\n",
    "Read in the `.fits` files.  The `.spec.` are the 1D spectra."
   ]
  },
  {
   "cell_type": "code",
   "execution_count": null,
   "metadata": {
    "collapsed": true
   },
   "outputs": [],
   "source": [
    "hdu_raw = fits.open('../data/raw/LkCa4_gully/outdata/20151117/SDCH_20151117_0199.spec.fits')"
   ]
  },
  {
   "cell_type": "code",
   "execution_count": null,
   "metadata": {
    "collapsed": false
   },
   "outputs": [],
   "source": [
    "hdu_raw.info()"
   ]
  },
  {
   "cell_type": "markdown",
   "metadata": {},
   "source": [
    "Header/Data Unit 0 is the $N_{pix} \\times N_{orders}$ **spectrum**.  \n",
    "Header/Data Unit 1 is the $N_{pix} \\times N_{orders}$ **wavelength solution**.  \n",
    "The **metadata** about the observations are saved in the header of the spectrum."
   ]
  },
  {
   "cell_type": "code",
   "execution_count": null,
   "metadata": {
    "collapsed": false
   },
   "outputs": [],
   "source": [
    "#np.array(list(hdu[0].header.keys()))[0:40]"
   ]
  },
  {
   "cell_type": "code",
   "execution_count": null,
   "metadata": {
    "collapsed": false
   },
   "outputs": [],
   "source": [
    "hdr = hdu_raw[0].header\n",
    "string = 'This spectrum is of the source {OBJECT}.\\n The object type is listed as: \"{OBJTYPE}\".\\n\\\n",
    " The spectra were acquired at {ACQTIME1} UTC. \\n The units of the raw spectrum are {UNITS}.  \\n\\\n",
    " The exposure time was {EXPTIME} seconds. \\n The airmass was {AMSTART}.'\n",
    "formatted_string = string.format(ACQTIME1=hdr['ACQTIME1'], UNITS=hdr['UNITS'], EXPTIME=hdr['EXPTIME'],\n",
    "                                 OBJECT=hdr['OBJECT'], AMSTART=hdr['AMSTART'], OBJTYPE=hdr['OBJTYPE'])\n",
    "print(formatted_string)"
   ]
  },
  {
   "cell_type": "markdown",
   "metadata": {},
   "source": [
    "## Single order plot.\n",
    "We'll pick a single order and make a plot."
   ]
  },
  {
   "cell_type": "code",
   "execution_count": null,
   "metadata": {
    "collapsed": false
   },
   "outputs": [],
   "source": [
    "o=10\n",
    "plt.plot(hdu_raw[1].data[o, :], hdu_raw[0].data[o, :])\n",
    "plt.ylim(ymin=0)\n",
    "plt.xlabel(\"$\\lambda$ ($\\mu$m)\")\n",
    "plt.ylabel(\"Raw signal (ADU)\");"
   ]
  },
  {
   "cell_type": "markdown",
   "metadata": {},
   "source": [
    "...what we really want is the `.spec_flattened.` file."
   ]
  },
  {
   "cell_type": "markdown",
   "metadata": {},
   "source": [
    "## Flattened A0V Star: 20151117/SDCH_20151117_0199.spec_flattened.fits"
   ]
  },
  {
   "cell_type": "code",
   "execution_count": null,
   "metadata": {
    "collapsed": true
   },
   "outputs": [],
   "source": [
    "hdu_f = fits.open('../data/raw/LkCa4_gully/outdata/20151117/SDCH_20151117_0199.spec_flattened.fits')"
   ]
  },
  {
   "cell_type": "code",
   "execution_count": null,
   "metadata": {
    "collapsed": false
   },
   "outputs": [],
   "source": [
    "hdu_f.info()"
   ]
  },
  {
   "cell_type": "markdown",
   "metadata": {},
   "source": [
    "The header info for the flattened file is the same as the header for the raw file."
   ]
  },
  {
   "cell_type": "code",
   "execution_count": null,
   "metadata": {
    "collapsed": false
   },
   "outputs": [],
   "source": [
    "#hdu_f['SPEC_FLATTENED'].header[0:10]"
   ]
  },
  {
   "cell_type": "code",
   "execution_count": null,
   "metadata": {
    "collapsed": false
   },
   "outputs": [],
   "source": [
    "o=10\n",
    "plt.plot(hdu_raw[1].data[o, :], hdu_f[0].data[o, :])\n",
    "plt.ylim(ymin=0)\n",
    "plt.xlabel(\"$\\lambda$ ($\\mu$m)\")\n",
    "plt.ylabel(\"Normalized signal\");\n",
    "plt.title('{OBJECT} flattened spectrum'.format(OBJECT=hdr['OBJECT']))"
   ]
  },
  {
   "cell_type": "markdown",
   "metadata": {},
   "source": [
    "### The end for now."
   ]
  }
 ],
 "metadata": {
  "kernelspec": {
   "display_name": "Python 3",
   "language": "python",
   "name": "python3"
  },
  "language_info": {
   "codemirror_mode": {
    "name": "ipython",
    "version": 3
   },
   "file_extension": ".py",
   "mimetype": "text/x-python",
   "name": "python",
   "nbconvert_exporter": "python",
   "pygments_lexer": "ipython3",
   "version": "3.4.3"
  }
 },
 "nbformat": 4,
 "nbformat_minor": 0
}
