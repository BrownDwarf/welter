{
 "cells": [
  {
   "cell_type": "markdown",
   "metadata": {},
   "source": [
    "# Welter issue 4\n",
    "## Simple plots of lines\n",
    "### Part 1- Br$\\gamma$\n",
    "\n",
    "Michael Gully-Santiago  \n",
    "Friday, December 4, 2015  \n",
    "\n",
    "\n",
    "Let's look for scientifically interesting emission lines."
   ]
  },
  {
   "cell_type": "code",
   "execution_count": 1,
   "metadata": {
    "collapsed": false
   },
   "outputs": [],
   "source": [
    "import warnings\n",
    "warnings.filterwarnings(\"ignore\")\n",
    "import numpy as np\n",
    "from astropy.io import fits\n",
    "import matplotlib.pyplot as plt"
   ]
  },
  {
   "cell_type": "code",
   "execution_count": 2,
   "metadata": {
    "collapsed": true
   },
   "outputs": [],
   "source": [
    "% matplotlib inline\n",
    "% config InlineBackend.figure_format = 'retina'\n",
    "import seaborn as sns\n",
    "sns.set_context('notebook')"
   ]
  },
  {
   "cell_type": "markdown",
   "metadata": {},
   "source": [
    "## Read in all the data.\n",
    "No spot-checking necessary, since we already did that in the previous notebook."
   ]
  },
  {
   "cell_type": "markdown",
   "metadata": {},
   "source": [
    "### IGRINS data of LkCa4"
   ]
  },
  {
   "cell_type": "code",
   "execution_count": 3,
   "metadata": {
    "collapsed": true
   },
   "outputs": [],
   "source": [
    "import h5py"
   ]
  },
  {
   "cell_type": "code",
   "execution_count": 4,
   "metadata": {
    "collapsed": false
   },
   "outputs": [],
   "source": [
    "f = h5py.File(\"../data/reduced/LkCa4_IGRINS_K.hdf5\", \"r\")\n",
    "K = {key:np.array(f[key]) for key in f.keys()}\n",
    "f.close()\n",
    "\n",
    "f = h5py.File(\"../data/reduced/LkCa4_IGRINS_H.hdf5\", \"r\")\n",
    "H = {key:np.array(f[key]) for key in f.keys()}\n",
    "f.close()"
   ]
  },
  {
   "cell_type": "code",
   "execution_count": 5,
   "metadata": {
    "collapsed": false
   },
   "outputs": [
    {
     "data": {
      "text/plain": [
       "(26, 2048)"
      ]
     },
     "execution_count": 5,
     "metadata": {},
     "output_type": "execute_result"
    }
   ],
   "source": [
    "K['wls'].shape"
   ]
  },
  {
   "cell_type": "markdown",
   "metadata": {},
   "source": [
    "### Telluric absorption"
   ]
  },
  {
   "cell_type": "code",
   "execution_count": 6,
   "metadata": {
    "collapsed": true
   },
   "outputs": [],
   "source": [
    "import pandas as pd"
   ]
  },
  {
   "cell_type": "code",
   "execution_count": 7,
   "metadata": {
    "collapsed": true
   },
   "outputs": [],
   "source": [
    "tell = pd.read_csv('~/GitHub/plp/master_calib/TelluricModel.dat', sep=' ', names = ['wls', 'trans'])"
   ]
  },
  {
   "cell_type": "code",
   "execution_count": 8,
   "metadata": {
    "collapsed": false
   },
   "outputs": [
    {
     "data": {
      "text/html": [
       "<div>\n",
       "<table border=\"1\" class=\"dataframe\">\n",
       "  <thead>\n",
       "    <tr style=\"text-align: right;\">\n",
       "      <th></th>\n",
       "      <th>wls</th>\n",
       "      <th>trans</th>\n",
       "    </tr>\n",
       "  </thead>\n",
       "  <tbody>\n",
       "    <tr>\n",
       "      <th>0</th>\n",
       "      <td>13999.994558</td>\n",
       "      <td>2.026157e-15</td>\n",
       "    </tr>\n",
       "    <tr>\n",
       "      <th>1</th>\n",
       "      <td>14000.024558</td>\n",
       "      <td>1.795465e-15</td>\n",
       "    </tr>\n",
       "    <tr>\n",
       "      <th>2</th>\n",
       "      <td>14000.054558</td>\n",
       "      <td>1.657147e-15</td>\n",
       "    </tr>\n",
       "    <tr>\n",
       "      <th>3</th>\n",
       "      <td>14000.084558</td>\n",
       "      <td>1.327971e-15</td>\n",
       "    </tr>\n",
       "    <tr>\n",
       "      <th>4</th>\n",
       "      <td>14000.114558</td>\n",
       "      <td>1.034897e-15</td>\n",
       "    </tr>\n",
       "  </tbody>\n",
       "</table>\n",
       "</div>"
      ],
      "text/plain": [
       "            wls         trans\n",
       "0  13999.994558  2.026157e-15\n",
       "1  14000.024558  1.795465e-15\n",
       "2  14000.054558  1.657147e-15\n",
       "3  14000.084558  1.327971e-15\n",
       "4  14000.114558  1.034897e-15"
      ]
     },
     "execution_count": 8,
     "metadata": {},
     "output_type": "execute_result"
    }
   ],
   "source": [
    "tell['wls'] = tell['wls'] * 10.0 #convert to angstroms\n",
    "tell.head()"
   ]
  },
  {
   "cell_type": "markdown",
   "metadata": {},
   "source": [
    "## Identify interesting lines"
   ]
  },
  {
   "cell_type": "markdown",
   "metadata": {},
   "source": [
    "Interesting lines:\n",
    "\n",
    "Line|Wavelength\n",
    "-|-\n",
    "Pa$\\alpha$|1.87569\n",
    "Br$\\gamma$|2.16612\n",
    "CO $\\nu =2-0$|2.29353\n",
    "CO $\\nu =3-1$|2.32265\n",
    "Na$~$I|2.20624"
   ]
  },
  {
   "cell_type": "markdown",
   "metadata": {},
   "source": [
    "## Meta"
   ]
  },
  {
   "cell_type": "code",
   "execution_count": 9,
   "metadata": {
    "collapsed": true
   },
   "outputs": [],
   "source": [
    "K_orders, H_orders = pd.DataFrame(), pd.DataFrame()"
   ]
  },
  {
   "cell_type": "code",
   "execution_count": 10,
   "metadata": {
    "collapsed": false
   },
   "outputs": [],
   "source": [
    "K_orders['wl_start']=[np.floor(min(wl)) for wl in K['wls']]\n",
    "K_orders['wl_end']=[np.floor(max(wl)) for wl in K['wls']]\n",
    "K_orders['band']='K'\n",
    "H_orders['wl_start']=[np.floor(min(wl)) for wl in H['wls']]\n",
    "H_orders['wl_end']=[np.floor(max(wl)) for wl in H['wls']]\n",
    "H_orders['band']='H'"
   ]
  },
  {
   "cell_type": "code",
   "execution_count": 11,
   "metadata": {
    "collapsed": false
   },
   "outputs": [
    {
     "data": {
      "text/html": [
       "<div>\n",
       "<table border=\"1\" class=\"dataframe\">\n",
       "  <thead>\n",
       "    <tr style=\"text-align: right;\">\n",
       "      <th></th>\n",
       "      <th>wl_start</th>\n",
       "      <th>wl_end</th>\n",
       "      <th>band</th>\n",
       "    </tr>\n",
       "  </thead>\n",
       "  <tbody>\n",
       "    <tr>\n",
       "      <th>0</th>\n",
       "      <td>18092</td>\n",
       "      <td>18346</td>\n",
       "      <td>H</td>\n",
       "    </tr>\n",
       "    <tr>\n",
       "      <th>1</th>\n",
       "      <td>17914</td>\n",
       "      <td>18165</td>\n",
       "      <td>H</td>\n",
       "    </tr>\n",
       "    <tr>\n",
       "      <th>2</th>\n",
       "      <td>17739</td>\n",
       "      <td>17988</td>\n",
       "      <td>H</td>\n",
       "    </tr>\n",
       "    <tr>\n",
       "      <th>3</th>\n",
       "      <td>17568</td>\n",
       "      <td>17815</td>\n",
       "      <td>H</td>\n",
       "    </tr>\n",
       "    <tr>\n",
       "      <th>4</th>\n",
       "      <td>17400</td>\n",
       "      <td>17645</td>\n",
       "      <td>H</td>\n",
       "    </tr>\n",
       "  </tbody>\n",
       "</table>\n",
       "</div>"
      ],
      "text/plain": [
       "   wl_start  wl_end band\n",
       "0     18092   18346    H\n",
       "1     17914   18165    H\n",
       "2     17739   17988    H\n",
       "3     17568   17815    H\n",
       "4     17400   17645    H"
      ]
     },
     "execution_count": 11,
     "metadata": {},
     "output_type": "execute_result"
    }
   ],
   "source": [
    "orders = H_orders.append(K_orders)\n",
    "orders.head()"
   ]
  },
  {
   "cell_type": "markdown",
   "metadata": {},
   "source": [
    "## Plot the favorite lines"
   ]
  },
  {
   "cell_type": "code",
   "execution_count": 12,
   "metadata": {
    "collapsed": true
   },
   "outputs": [],
   "source": [
    "sns.set_context('paper', font_scale=1.4)\n",
    "sns.set_style('ticks')"
   ]
  },
  {
   "cell_type": "markdown",
   "metadata": {},
   "source": [
    "## Br$\\gamma$"
   ]
  },
  {
   "cell_type": "code",
   "execution_count": 13,
   "metadata": {
    "collapsed": false
   },
   "outputs": [],
   "source": [
    "line = 21661.2\n",
    "this_order = (orders.wl_start < line) & (orders.wl_end > line)\n",
    "m = orders.index[this_order].values"
   ]
  },
  {
   "cell_type": "code",
   "execution_count": 14,
   "metadata": {
    "collapsed": false
   },
   "outputs": [
    {
     "name": "stdout",
     "output_type": "stream",
     "text": [
      "[11]\n"
     ]
    }
   ],
   "source": [
    "print(m)"
   ]
  },
  {
   "cell_type": "code",
   "execution_count": 15,
   "metadata": {
    "collapsed": false
   },
   "outputs": [],
   "source": [
    "m = 11\n",
    "wl = K['wls'][m,:]\n",
    "fl = K['fls'][m,:]"
   ]
  },
  {
   "cell_type": "markdown",
   "metadata": {},
   "source": [
    "Feature indices"
   ]
  },
  {
   "cell_type": "code",
   "execution_count": 16,
   "metadata": {
    "collapsed": true
   },
   "outputs": [],
   "source": [
    "dw = 60\n",
    "gi = (wl > (line - dw)) & (wl < (line + dw))"
   ]
  },
  {
   "cell_type": "markdown",
   "metadata": {},
   "source": [
    "Continuum indices"
   ]
  },
  {
   "cell_type": "code",
   "execution_count": 17,
   "metadata": {
    "collapsed": true
   },
   "outputs": [],
   "source": [
    "N = len(wl)"
   ]
  },
  {
   "cell_type": "code",
   "execution_count": 18,
   "metadata": {
    "collapsed": false
   },
   "outputs": [
    {
     "name": "stdout",
     "output_type": "stream",
     "text": [
      "The relative uncertainty per pixel is 0.021%\n"
     ]
    }
   ],
   "source": [
    "cib = (wl > 21600) & (wl < 21625)\n",
    "cir = (wl > 21700) & (wl < 21750)\n",
    "ci = cib | cir\n",
    "cont_level = np.nanmedian(fl[ci])\n",
    "cont = np.ones(N)*cont_level\n",
    "sig_cont = np.nanstd(fl[ci])/cont_level\n",
    "print('The relative uncertainty per pixel is {:.2}%'.format(sig_cont))"
   ]
  },
  {
   "cell_type": "markdown",
   "metadata": {},
   "source": [
    "## Calculate the 10% width"
   ]
  },
  {
   "cell_type": "code",
   "execution_count": 19,
   "metadata": {
    "collapsed": true
   },
   "outputs": [],
   "source": [
    "this_wl, this_fl = wl[gi], fl[gi]/cont_level\n",
    "peak = np.nanmax(this_fl)\n",
    "tph = (peak-1.0)*0.1\n",
    "#tpw_r = (this_wl < line) & (this_fl <1)\n"
   ]
  },
  {
   "cell_type": "code",
   "execution_count": 20,
   "metadata": {
    "collapsed": false
   },
   "outputs": [
    {
     "data": {
      "image/png": "[encoded data removed]",
      "text/plain": [
       "<matplotlib.figure.Figure at 0x115e499e8>"
      ]
     },
     "metadata": {
      "image/png": {
       "height": 340,
       "width": 351
      }
     },
     "output_type": "display_data"
    }
   ],
   "source": [
    "ymax = 1.5\n",
    "plt.figure(figsize=(5, 5))\n",
    "\n",
    "plt.step(this_wl, this_fl, 'k')\n",
    "plt.plot(this_wl,cont[gi]/cont_level, 'r--' )\n",
    "plt.plot([min(this_wl), max(this_wl)],[1+tph, 1+tph], 'g:' )\n",
    "#plt.plot(tell.wls, tell.trans*2.5, 'k-', alpha=0.2)\n",
    "plt.fill_between(tell.wls, tell.trans*ymax, y2=ymax, alpha=0.2)\n",
    "plt.plot([line, line],[0, ymax], 'b-.' )\n",
    "#plt.plot([21655.3, 21655.3],[0, 3])\n",
    "plt.plot([21637, 21637],[0, ymax], 'b:' )\n",
    "plt.plot([21702, 21702],[0, ymax], 'b--' )\n",
    "#plt.plot([21660, 21660],[0, ymax], 'r:' )\n",
    "plt.ylim(0.8, ymax)\n",
    "plt.text(21643, 1.35, 'Br$\\gamma$', fontsize=20)\n",
    "plt.xlim(min(this_wl), max(this_wl))\n",
    "plt.xlabel('$\\lambda$ ($\\AA$)')\n",
    "plt.ylabel('$f_\\lambda$ (continuum $\\equiv$ 1)')\n",
    "plt.gca().get_xaxis().get_major_formatter().set_useOffset(False);\n",
    "plt.savefig('../document/figures/Br_gamma_zoom.pdf', bbox_inches='tight')"
   ]
  },
  {
   "cell_type": "markdown",
   "metadata": {},
   "source": [
    "### Calculate the 10% width and RV"
   ]
  },
  {
   "cell_type": "markdown",
   "metadata": {},
   "source": [
    "Let's convert to velocity units.\n",
    "$$\\Delta v = \\frac{\\Delta \\lambda}{\\lambda}c $$"
   ]
  },
  {
   "cell_type": "code",
   "execution_count": 21,
   "metadata": {
    "collapsed": true
   },
   "outputs": [],
   "source": [
    "from astropy import constants as const"
   ]
  },
  {
   "cell_type": "code",
   "execution_count": 22,
   "metadata": {
    "collapsed": false
   },
   "outputs": [],
   "source": [
    "c = const.c.to('km/s')"
   ]
  },
  {
   "cell_type": "markdown",
   "metadata": {},
   "source": [
    "10% width"
   ]
  },
  {
   "cell_type": "code",
   "execution_count": 23,
   "metadata": {
    "collapsed": true
   },
   "outputs": [],
   "source": [
    "del_lam = 21702.0 - 21637.0"
   ]
  },
  {
   "cell_type": "code",
   "execution_count": 24,
   "metadata": {
    "collapsed": false
   },
   "outputs": [
    {
     "data": {
      "text/latex": [
       "$899.60435 \\; \\mathrm{\\frac{km}{s}}$"
      ],
      "text/plain": [
       "<Quantity 899.6043510978154 km / s>"
      ]
     },
     "execution_count": 24,
     "metadata": {},
     "output_type": "execute_result"
    }
   ],
   "source": [
    "del_v = del_lam / line * c\n",
    "del_v"
   ]
  }
 ],
 "metadata": {
  "kernelspec": {
   "display_name": "Python 3",
   "language": "python",
   "name": "python3"
  },
  "language_info": {
   "codemirror_mode": {
    "name": "ipython",
    "version": 3
   },
   "file_extension": ".py",
   "mimetype": "text/x-python",
   "name": "python",
   "nbconvert_exporter": "python",
   "pygments_lexer": "ipython3",
   "version": "3.4.3"
  }
 },
 "nbformat": 4,
 "nbformat_minor": 0
}
